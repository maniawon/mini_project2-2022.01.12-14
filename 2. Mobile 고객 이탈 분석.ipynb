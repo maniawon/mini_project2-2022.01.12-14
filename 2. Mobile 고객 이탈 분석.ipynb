{
 "cells": [
  {
   "cell_type": "markdown",
   "metadata": {
    "id": "mTt7qGUTCcFs"
   },
   "source": [
    "# 과제2. Mobile 고객 이탈 분석"
   ]
  },
  {
   "cell_type": "markdown",
   "metadata": {
    "id": "wxRsRRwbEQ2K"
   },
   "source": [
    "* 고객 이탈여부(CHURN)에 영향을 주는 요인을 분석하고자 합니다."
   ]
  },
  {
   "cell_type": "markdown",
   "metadata": {
    "id": "0wuYJKZHjA3d"
   },
   "source": [
    "![](https://d18lkz4dllo6v2.cloudfront.net/cumulus_uploads/entry/23964/mobile%20phones.png)"
   ]
  },
  {
   "cell_type": "markdown",
   "metadata": {
    "id": "AHmt88Q5EVsj"
   },
   "source": [
    "## 0.환경설정"
   ]
  },
  {
   "cell_type": "markdown",
   "metadata": {
    "id": "KnzVh2LmkLDU"
   },
   "source": [
    "### 1) 라이브러리 로딩"
   ]
  },
  {
   "cell_type": "code",
   "execution_count": 52,
   "metadata": {
    "id": "3rsQerEaELwI"
   },
   "outputs": [],
   "source": [
    "import pandas as pd\n",
    "import numpy as np\n",
    "import matplotlib.pyplot as plt\n",
    "import seaborn as sns\n",
    "\n",
    "from statsmodels.graphics.mosaicplot import mosaic\n",
    "from scipy import stats as spst\n",
    "import statsmodels.api as sm"
   ]
  },
  {
   "cell_type": "markdown",
   "metadata": {
    "id": "5Qh5KYWokO_N"
   },
   "source": [
    "### 2) 데이터 로딩"
   ]
  },
  {
   "cell_type": "code",
   "execution_count": 106,
   "metadata": {
    "id": "lM3HN6OwEL3d"
   },
   "outputs": [
    {
     "data": {
      "text/html": [
       "<div>\n",
       "<style scoped>\n",
       "    .dataframe tbody tr th:only-of-type {\n",
       "        vertical-align: middle;\n",
       "    }\n",
       "\n",
       "    .dataframe tbody tr th {\n",
       "        vertical-align: top;\n",
       "    }\n",
       "\n",
       "    .dataframe thead th {\n",
       "        text-align: right;\n",
       "    }\n",
       "</style>\n",
       "<table border=\"1\" class=\"dataframe\">\n",
       "  <thead>\n",
       "    <tr style=\"text-align: right;\">\n",
       "      <th></th>\n",
       "      <th>COLLEGE</th>\n",
       "      <th>INCOME</th>\n",
       "      <th>OVERAGE</th>\n",
       "      <th>LEFTOVER</th>\n",
       "      <th>HOUSE</th>\n",
       "      <th>HANDSET_PRICE</th>\n",
       "      <th>AVERAGE_CALL_DURATION</th>\n",
       "      <th>REPORTED_SATISFACTION</th>\n",
       "      <th>CONSIDERING_CHANGE_OF_PLAN</th>\n",
       "      <th>CHURN</th>\n",
       "    </tr>\n",
       "  </thead>\n",
       "  <tbody>\n",
       "    <tr>\n",
       "      <th>0</th>\n",
       "      <td>1</td>\n",
       "      <td>47711</td>\n",
       "      <td>183</td>\n",
       "      <td>17</td>\n",
       "      <td>730589.0</td>\n",
       "      <td>192</td>\n",
       "      <td>5</td>\n",
       "      <td>unsat</td>\n",
       "      <td>considering</td>\n",
       "      <td>0</td>\n",
       "    </tr>\n",
       "    <tr>\n",
       "      <th>1</th>\n",
       "      <td>0</td>\n",
       "      <td>74132</td>\n",
       "      <td>191</td>\n",
       "      <td>43</td>\n",
       "      <td>535092.0</td>\n",
       "      <td>349</td>\n",
       "      <td>2</td>\n",
       "      <td>unsat</td>\n",
       "      <td>no</td>\n",
       "      <td>1</td>\n",
       "    </tr>\n",
       "    <tr>\n",
       "      <th>2</th>\n",
       "      <td>1</td>\n",
       "      <td>150419</td>\n",
       "      <td>0</td>\n",
       "      <td>14</td>\n",
       "      <td>204004.0</td>\n",
       "      <td>682</td>\n",
       "      <td>6</td>\n",
       "      <td>unsat</td>\n",
       "      <td>considering</td>\n",
       "      <td>0</td>\n",
       "    </tr>\n",
       "    <tr>\n",
       "      <th>3</th>\n",
       "      <td>0</td>\n",
       "      <td>159567</td>\n",
       "      <td>0</td>\n",
       "      <td>58</td>\n",
       "      <td>281969.0</td>\n",
       "      <td>634</td>\n",
       "      <td>1</td>\n",
       "      <td>very_unsat</td>\n",
       "      <td>never_thought</td>\n",
       "      <td>0</td>\n",
       "    </tr>\n",
       "    <tr>\n",
       "      <th>4</th>\n",
       "      <td>1</td>\n",
       "      <td>23392</td>\n",
       "      <td>0</td>\n",
       "      <td>0</td>\n",
       "      <td>216707.0</td>\n",
       "      <td>233</td>\n",
       "      <td>15</td>\n",
       "      <td>unsat</td>\n",
       "      <td>no</td>\n",
       "      <td>1</td>\n",
       "    </tr>\n",
       "  </tbody>\n",
       "</table>\n",
       "</div>"
      ],
      "text/plain": [
       "   COLLEGE  INCOME  OVERAGE  LEFTOVER     HOUSE  HANDSET_PRICE  \\\n",
       "0        1   47711      183        17  730589.0            192   \n",
       "1        0   74132      191        43  535092.0            349   \n",
       "2        1  150419        0        14  204004.0            682   \n",
       "3        0  159567        0        58  281969.0            634   \n",
       "4        1   23392        0         0  216707.0            233   \n",
       "\n",
       "   AVERAGE_CALL_DURATION REPORTED_SATISFACTION CONSIDERING_CHANGE_OF_PLAN  \\\n",
       "0                      5                 unsat                considering   \n",
       "1                      2                 unsat                         no   \n",
       "2                      6                 unsat                considering   \n",
       "3                      1            very_unsat              never_thought   \n",
       "4                     15                 unsat                         no   \n",
       "\n",
       "   CHURN  \n",
       "0      0  \n",
       "1      1  \n",
       "2      0  \n",
       "3      0  \n",
       "4      1  "
      ]
     },
     "execution_count": 106,
     "metadata": {},
     "output_type": "execute_result"
    }
   ],
   "source": [
    "# mobile data\n",
    "data_path = \"https://raw.githubusercontent.com/DA4BAM/dataset/master/mobile_NA2.csv\"\n",
    "mobile = pd.read_csv(data_path)\n",
    "mobile.drop(['id', 'REPORTED_USAGE_LEVEL','OVER_15MINS_CALLS_PER_MONTH'], axis = 1, inplace = True)\n",
    "mobile.head()"
   ]
  },
  {
   "cell_type": "markdown",
   "metadata": {
    "id": "JtiF310fjmJy"
   },
   "source": [
    "|변수 명|내용|구분|\n",
    "|\t----\t|\t----\t|\t----\t|\n",
    "|\tCOLLEGE\t|\t대학졸업 여부(1,0)\t|feature\t\t|\n",
    "|\tINCOME\t|\t연 수입액(달러)\t|feature\t\t|\n",
    "|\tOVERAGE\t|\t월 초과사용 시간(분)\t|feature\t\t|\n",
    "|\tLEFTOVER\t|\t월 사용 잔여시간(분)\t|feature\t\t|\n",
    "|\tHOUSE\t|\t집 가격(달러)\t|feature\t\t|\n",
    "|\tHANDSET_PRICE\t|\t핸드폰 가격(달러)\t|feature\t\t|\n",
    "|\tAVERAGE_CALL_DURATION\t|\t평균 통화시간(분)\t|feature\t\t|\n",
    "|\tREPORTED_SATISFACTION\t|\t만족도 설문('very_unsat', 'unsat', 'avg', 'sat', 'very_sat' )\t|feature\t\t|\n",
    "|\tCONSIDERING_CHANGE_OF_PLAN\t|\t변경 계획 설문('never_thought', 'no', 'perhaps', 'considering',   'actively_looking_into_it')\t|feature\t\t|\n",
    "|\t**CHURN**\t|\t**이탈여부(1 : 이탈, 0 : 잔류)**\t|\t**Target**\t|\n"
   ]
  },
  {
   "cell_type": "markdown",
   "metadata": {
    "id": "bKimk8qVm8oC"
   },
   "source": [
    "----"
   ]
  },
  {
   "cell_type": "markdown",
   "metadata": {
    "id": "0bouXLxGkSSd"
   },
   "source": [
    "## 1.가설수립"
   ]
  },
  {
   "cell_type": "markdown",
   "metadata": {
    "id": "nb3mes75kUSt"
   },
   "source": [
    "* 여기서는 가설을 간략히 수립합니다.\n",
    "    * 숫자형, 범주형 각각 최소 2개 이상씩, 전체 5개의 feature를 도출, 가설을 수립하시오."
   ]
  },
  {
   "cell_type": "markdown",
   "metadata": {},
   "source": [
    "- <범주형 vs 범주형>"
   ]
  },
  {
   "cell_type": "markdown",
   "metadata": {
    "id": "HoZUdXCRkjK9"
   },
   "source": [
    "* 가설1 : 대학졸업 여부(COLLEGE)가 이탈여부(CHURN)에  영향이 없을 것이다."
   ]
  },
  {
   "cell_type": "markdown",
   "metadata": {
    "id": "l9X_boJ8kjEt"
   },
   "source": [
    "* 가설2 : 만족도 설문(REPORTED_SATISFACTION)결과가 좋을수록 따라 이탈여부(CHURN)가 낮을것이다."
   ]
  },
  {
   "cell_type": "markdown",
   "metadata": {
    "id": "3_gTMgCWki91"
   },
   "source": [
    "* 가설3 : 변경 계획 설문(CONSIDERING_CHANGE_OF_PLAN)에 따라 이탈여부(CHURN)과 관련이 있을까?"
   ]
  },
  {
   "cell_type": "markdown",
   "metadata": {},
   "source": [
    "- <숫자형 vs 범주형>"
   ]
  },
  {
   "cell_type": "markdown",
   "metadata": {},
   "source": [
    "- 가설4 : 연 수입액(달러)(INCOME)이 높으면 이탈여부(CHURN)가 낮다."
   ]
  },
  {
   "cell_type": "markdown",
   "metadata": {
    "id": "2lueFYjWktYt"
   },
   "source": [
    "* 가설5 : 월 초과 사용 시간(분)(OVERAGE)가 높을 수록 다른 경쟁사  요금제를 많이 확인해서, 이탈여부(CHURN)가 높다."
   ]
  },
  {
   "cell_type": "markdown",
   "metadata": {
    "id": "rSrSFnsVki2d"
   },
   "source": [
    "* 가설6 : 월 사용 잔여시간(분)(LEFTOVER)에 따라 이탈여부(CHURN) 낮다."
   ]
  },
  {
   "cell_type": "markdown",
   "metadata": {
    "id": "82xzJIZhnAaX"
   },
   "source": [
    "----"
   ]
  },
  {
   "cell_type": "markdown",
   "metadata": {
    "id": "1hYPpnplEedX"
   },
   "source": [
    "## 2.단변량 분석\n",
    "\n",
    "① 변수의 비즈니스 의미  \n",
    "\n",
    "② 숫자? 범주?  \n",
    "\n",
    "③ NaN 존재 여부 및 조치 방안  \n",
    "\n",
    "④ 기초통계량  \n",
    "\n",
    "⑤ 분포  \n",
    "\n",
    "⑥ 위 정보로부터 파악한 내용(비즈니스!) 정리  \n",
    "\n",
    "⑦ 추가 분석해볼 사항 도출"
   ]
  },
  {
   "cell_type": "markdown",
   "metadata": {
    "id": "BP8iBi7We3AI"
   },
   "source": [
    "### 1) feature1 : COLLEGE\t대학졸업 여부"
   ]
  },
  {
   "cell_type": "code",
   "execution_count": 54,
   "metadata": {
    "id": "NRIsridhK3el"
   },
   "outputs": [],
   "source": [
    "feature = 'COLLEGE'"
   ]
  },
  {
   "cell_type": "markdown",
   "metadata": {
    "id": "6H1XUqWEIZ0c"
   },
   "source": [
    "① 변수의 비즈니스 의미"
   ]
  },
  {
   "cell_type": "markdown",
   "metadata": {
    "id": "b8mX3ll_KR6u"
   },
   "source": [
    "> 대학졸업 여부(1,0)"
   ]
  },
  {
   "cell_type": "markdown",
   "metadata": {
    "id": "o9aiDpJZIZi-"
   },
   "source": [
    "② 숫자, 범주?"
   ]
  },
  {
   "cell_type": "markdown",
   "metadata": {
    "id": "fNO_u8-RKS0K"
   },
   "source": [
    "> 범주"
   ]
  },
  {
   "cell_type": "markdown",
   "metadata": {
    "id": "sKZWnu78IZT0"
   },
   "source": [
    "③ NaN 존재 유무"
   ]
  },
  {
   "cell_type": "code",
   "execution_count": 55,
   "metadata": {
    "id": "dt2entFrKUC6"
   },
   "outputs": [
    {
     "data": {
      "text/plain": [
       "0"
      ]
     },
     "execution_count": 55,
     "metadata": {},
     "output_type": "execute_result"
    }
   ],
   "source": [
    "mobile[feature].isna().sum()"
   ]
  },
  {
   "cell_type": "markdown",
   "metadata": {
    "id": "5d5JYEBCIZID"
   },
   "source": [
    "④ 기초통계량(수치화)"
   ]
  },
  {
   "cell_type": "code",
   "execution_count": 56,
   "metadata": {
    "id": "ZMfWNGxCKVbT"
   },
   "outputs": [
    {
     "name": "stdout",
     "output_type": "stream",
     "text": [
      "1    9049\n",
      "0    8951\n",
      "Name: COLLEGE, dtype: int64\n",
      "\n",
      "1    0.502722\n",
      "0    0.497278\n",
      "Name: COLLEGE, dtype: float64\n"
     ]
    }
   ],
   "source": [
    "print(mobile[feature].value_counts())\n",
    "print()\n",
    "print(mobile[feature].value_counts()/ len(mobile[feature]))"
   ]
  },
  {
   "cell_type": "markdown",
   "metadata": {
    "id": "e1yzg_B8IY5M"
   },
   "source": [
    "⑤ 분포 확인(시각화)"
   ]
  },
  {
   "cell_type": "code",
   "execution_count": 57,
   "metadata": {},
   "outputs": [
    {
     "name": "stderr",
     "output_type": "stream",
     "text": [
      "C:\\Users\\User\\anaconda3\\lib\\site-packages\\seaborn\\_decorators.py:36: FutureWarning: Pass the following variable as a keyword arg: x. From version 0.12, the only valid positional argument will be `data`, and passing other arguments without an explicit keyword will result in an error or misinterpretation.\n",
      "  warnings.warn(\n"
     ]
    },
    {
     "data": {
      "image/png": "[encoded data removed]",
      "text/plain": [
       "<Figure size 432x288 with 1 Axes>"
      ]
     },
     "metadata": {
      "needs_background": "light"
     },
     "output_type": "display_data"
    }
   ],
   "source": [
    "sns.countplot(mobile[feature])\n",
    "plt.show()"
   ]
  },
  {
   "cell_type": "markdown",
   "metadata": {
    "id": "yRUYICkIIuc0"
   },
   "source": [
    "⑥ 기초통계량과 분포를 통해서 파악한 내용을 적어 봅시다.\n",
    "\n",
    "보이는 그대로를 넘어, 비즈니스 관점에서 고민하며 적어 봅시다."
   ]
  },
  {
   "cell_type": "markdown",
   "metadata": {
    "id": "ULM7c12fKYAK"
   },
   "source": [
    "> - 졸업여부가 숫자 및 비율이 비슷하다. 두 그룹으로 나눠 만족도 설문(REPORTED_SATISFACTION)을 자세히 살펴보면 좋겠다."
   ]
  },
  {
   "cell_type": "markdown",
   "metadata": {
    "id": "3ZVNnImDIyRE"
   },
   "source": [
    "⑦ 추가 분석해 볼 사항이 있나요?"
   ]
  },
  {
   "cell_type": "markdown",
   "metadata": {
    "id": "PeMdVTGPKYd6"
   },
   "source": [
    "> - 졸업여부 기준으로 두 그룹으로 나누어 그룹핑을 해서, 평균 통화시간(분) AVERAGE_CALL_DURATION)을 추가로 살펴보자"
   ]
  },
  {
   "cell_type": "markdown",
   "metadata": {
    "id": "cYkgwG47evaF"
   },
   "source": [
    "### 2) feature2 : REPORTED_SATISFACTION\t(만족도 설문)"
   ]
  },
  {
   "cell_type": "code",
   "execution_count": 58,
   "metadata": {
    "id": "bUzXvik-Ka88"
   },
   "outputs": [],
   "source": [
    "feature = 'REPORTED_SATISFACTION'"
   ]
  },
  {
   "cell_type": "markdown",
   "metadata": {
    "id": "2omFdiaGKa88"
   },
   "source": [
    "① 변수의 비즈니스 의미"
   ]
  },
  {
   "cell_type": "markdown",
   "metadata": {
    "id": "kZYSSosDKa89"
   },
   "source": [
    "> 만족도 설문: ('very_unsat', 'unsat', 'avg', 'sat', 'very_sat')"
   ]
  },
  {
   "cell_type": "markdown",
   "metadata": {
    "id": "AzFQRtUfKa89"
   },
   "source": [
    "② 숫자, 범주?"
   ]
  },
  {
   "cell_type": "code",
   "execution_count": 60,
   "metadata": {},
   "outputs": [
    {
     "data": {
      "text/plain": [
       "very_unsat    7072\n",
       "very_sat      4562\n",
       "unsat         3590\n",
       "avg           1806\n",
       "sat            932\n",
       "Name: REPORTED_SATISFACTION, dtype: int64"
      ]
     },
     "execution_count": 60,
     "metadata": {},
     "output_type": "execute_result"
    }
   ],
   "source": [
    "mobile[feature].value_counts()"
   ]
  },
  {
   "cell_type": "code",
   "execution_count": 61,
   "metadata": {},
   "outputs": [
    {
     "data": {
      "text/plain": [
       "array(['unsat', 'very_unsat', 'very_sat', 'sat', nan, 'avg'], dtype=object)"
      ]
     },
     "execution_count": 61,
     "metadata": {},
     "output_type": "execute_result"
    }
   ],
   "source": [
    "mobile[feature].unique()"
   ]
  },
  {
   "cell_type": "markdown",
   "metadata": {
    "id": "YxCQJmRJKa8-"
   },
   "source": [
    "> 범주"
   ]
  },
  {
   "cell_type": "markdown",
   "metadata": {
    "id": "SBN704MyKa8-"
   },
   "source": [
    "③ NaN 존재 유무"
   ]
  },
  {
   "cell_type": "code",
   "execution_count": 69,
   "metadata": {
    "id": "HsaWRugtKa8-"
   },
   "outputs": [
    {
     "name": "stdout",
     "output_type": "stream",
     "text": [
      "결측치 수: 38\n",
      "결측치 퍼센트: 0.002111111111111111 %\n"
     ]
    }
   ],
   "source": [
    "print('결측치 수: {}'.format(mobile[feature].isna().sum()))\n",
    "print('결측치 퍼센트: {}'.format(mobile[feature].isna().sum()/len(mobile[feature])), \"%\")"
   ]
  },
  {
   "cell_type": "markdown",
   "metadata": {},
   "source": [
    "> → 결측치가 있다"
   ]
  },
  {
   "cell_type": "markdown",
   "metadata": {},
   "source": [
    "> - mobile 데이터의 한 행은 고객 정보로, 고객 한명한명이 unique하기 때문에, 시계열 자료처럼 앞 뒤 행을 가지고 추정할 수 없다.\n",
    "> - 결측치 수 및 퍼센트가 작으니까 여기서는 결측치를 삭제 하겠다."
   ]
  },
  {
   "cell_type": "code",
   "execution_count": 70,
   "metadata": {
    "scrolled": true
   },
   "outputs": [],
   "source": [
    "mobile.dropna(subset=[feature], inplace=True)"
   ]
  },
  {
   "cell_type": "code",
   "execution_count": 71,
   "metadata": {
    "scrolled": true
   },
   "outputs": [
    {
     "data": {
      "text/plain": [
       "0"
      ]
     },
     "execution_count": 71,
     "metadata": {},
     "output_type": "execute_result"
    }
   ],
   "source": [
    "mobile[feature].isna().sum()"
   ]
  },
  {
   "cell_type": "markdown",
   "metadata": {
    "id": "Tykq0uMtKa8-"
   },
   "source": [
    "④ 기초통계량(수치화)"
   ]
  },
  {
   "cell_type": "code",
   "execution_count": 72,
   "metadata": {
    "id": "ZMfWNGxCKVbT"
   },
   "outputs": [
    {
     "name": "stdout",
     "output_type": "stream",
     "text": [
      "very_unsat    7072\n",
      "very_sat      4562\n",
      "unsat         3590\n",
      "avg           1806\n",
      "sat            932\n",
      "Name: REPORTED_SATISFACTION, dtype: int64\n",
      "\n",
      "very_unsat    0.393720\n",
      "very_sat      0.253981\n",
      "unsat         0.199866\n",
      "avg           0.100546\n",
      "sat           0.051887\n",
      "Name: REPORTED_SATISFACTION, dtype: float64\n"
     ]
    }
   ],
   "source": [
    "print(mobile[feature].value_counts())\n",
    "print()\n",
    "print(mobile[feature].value_counts()/ len(mobile[feature]))"
   ]
  },
  {
   "cell_type": "markdown",
   "metadata": {
    "id": "hJV7-gwfKa8_"
   },
   "source": [
    "⑤ 분포 확인(시각화)"
   ]
  },
  {
   "cell_type": "code",
   "execution_count": 74,
   "metadata": {},
   "outputs": [
    {
     "name": "stderr",
     "output_type": "stream",
     "text": [
      "C:\\Users\\User\\anaconda3\\lib\\site-packages\\seaborn\\_decorators.py:36: FutureWarning: Pass the following variable as a keyword arg: x. From version 0.12, the only valid positional argument will be `data`, and passing other arguments without an explicit keyword will result in an error or misinterpretation.\n",
      "  warnings.warn(\n"
     ]
    },
    {
     "data": {
      "image/png": "[encoded data removed]",
      "text/plain": [
       "<Figure size 432x288 with 1 Axes>"
      ]
     },
     "metadata": {
      "needs_background": "light"
     },
     "output_type": "display_data"
    }
   ],
   "source": [
    "sns.countplot(mobile[feature])\n",
    "plt.xticks(rotation = 70)\n",
    "plt.show()"
   ]
  },
  {
   "cell_type": "markdown",
   "metadata": {
    "id": "lonR2XzeKa8_"
   },
   "source": [
    "⑥ 기초통계량과 분포를 통해서 파악한 내용을 적어 봅시다.\n",
    "\n",
    "보이는 그대로를 넘어, 비즈니스 관점에서 고민하며 적어 봅시다."
   ]
  },
  {
   "cell_type": "markdown",
   "metadata": {
    "id": "1lcP2CtQKa8_"
   },
   "source": [
    "> 매우 만족하지 못하는 고객수가 제일 많은 것으로 보아 이탈여부와 관련이 있을까 궁금하다."
   ]
  },
  {
   "cell_type": "markdown",
   "metadata": {
    "id": "CNtHylBDKa9A"
   },
   "source": [
    "⑦ 추가 분석해 볼 사항이 있나요?"
   ]
  },
  {
   "cell_type": "markdown",
   "metadata": {
    "id": "mQAjOApKKa9A"
   },
   "source": [
    "> 만족, 보통, 불만족 3개의 그룹으로 나눠서 살펴보면 좋겠다."
   ]
  },
  {
   "cell_type": "markdown",
   "metadata": {
    "id": "UNgJNBEIfB1p"
   },
   "source": [
    "### 3) feature3 : CONSIDERING_CHANGE_OF_PLAN(변경 계획 설문)"
   ]
  },
  {
   "cell_type": "code",
   "execution_count": 75,
   "metadata": {
    "id": "7FsVbJ_mKi15"
   },
   "outputs": [],
   "source": [
    "feature = 'CONSIDERING_CHANGE_OF_PLAN'"
   ]
  },
  {
   "cell_type": "markdown",
   "metadata": {
    "id": "-ke0GYsmKi19"
   },
   "source": [
    "① 변수의 비즈니스 의미"
   ]
  },
  {
   "cell_type": "markdown",
   "metadata": {
    "id": "wnGTV3ioKi19"
   },
   "source": [
    "> 변경 계획 설문: ('never_thought', 'no', 'perhaps', 'considering', 'actively_looking_into_it')"
   ]
  },
  {
   "cell_type": "markdown",
   "metadata": {
    "id": "BzqkxzyaKi1-"
   },
   "source": [
    "② 숫자, 범주?"
   ]
  },
  {
   "cell_type": "markdown",
   "metadata": {
    "id": "8z4XiV0AKi1-"
   },
   "source": [
    "> 범주"
   ]
  },
  {
   "cell_type": "markdown",
   "metadata": {
    "id": "NB_N6LzOKi1-"
   },
   "source": [
    "③ NaN 존재 유무"
   ]
  },
  {
   "cell_type": "code",
   "execution_count": 76,
   "metadata": {
    "id": "3BpzuXSLKi1-"
   },
   "outputs": [
    {
     "data": {
      "text/plain": [
       "0"
      ]
     },
     "execution_count": 76,
     "metadata": {},
     "output_type": "execute_result"
    }
   ],
   "source": [
    "mobile[feature].isna().sum()"
   ]
  },
  {
   "cell_type": "markdown",
   "metadata": {
    "id": "TSCvrb3qKi1-"
   },
   "source": [
    "④ 기초통계량(수치화)"
   ]
  },
  {
   "cell_type": "code",
   "execution_count": 77,
   "metadata": {
    "id": "rWlpAjW4Ki1_"
   },
   "outputs": [
    {
     "name": "stdout",
     "output_type": "stream",
     "text": [
      "considering                 7122\n",
      "actively_looking_into_it    4446\n",
      "no                          3639\n",
      "never_thought               1800\n",
      "perhaps                      955\n",
      "Name: CONSIDERING_CHANGE_OF_PLAN, dtype: int64\n",
      "\n",
      "considering                 0.396504\n",
      "actively_looking_into_it    0.247523\n",
      "no                          0.202594\n",
      "never_thought               0.100212\n",
      "perhaps                     0.053168\n",
      "Name: CONSIDERING_CHANGE_OF_PLAN, dtype: float64\n"
     ]
    }
   ],
   "source": [
    "print(mobile[feature].value_counts())\n",
    "print()\n",
    "print(mobile[feature].value_counts()/ len(mobile[feature]))"
   ]
  },
  {
   "cell_type": "markdown",
   "metadata": {
    "id": "aR7lnmz2Ki1_"
   },
   "source": [
    "⑤ 분포 확인(시각화)"
   ]
  },
  {
   "cell_type": "code",
   "execution_count": 78,
   "metadata": {
    "id": "cZ_xT4-FKi2A"
   },
   "outputs": [
    {
     "name": "stderr",
     "output_type": "stream",
     "text": [
      "C:\\Users\\User\\anaconda3\\lib\\site-packages\\seaborn\\_decorators.py:36: FutureWarning: Pass the following variable as a keyword arg: x. From version 0.12, the only valid positional argument will be `data`, and passing other arguments without an explicit keyword will result in an error or misinterpretation.\n",
      "  warnings.warn(\n"
     ]
    },
    {
     "data": {
      "image/png": "[encoded data removed]",
      "text/plain": [
       "<Figure size 432x288 with 1 Axes>"
      ]
     },
     "metadata": {
      "needs_background": "light"
     },
     "output_type": "display_data"
    }
   ],
   "source": [
    "sns.countplot(mobile[feature])\n",
    "plt.xticks(rotation = 70)\n",
    "plt.show()"
   ]
  },
  {
   "cell_type": "markdown",
   "metadata": {
    "id": "zUryC_G3Ki2A"
   },
   "source": [
    "⑥ 기초통계량과 분포를 통해서 파악한 내용을 적어 봅시다.\n",
    "\n",
    "보이는 그대로를 넘어, 비즈니스 관점에서 고민하며 적어 봅시다."
   ]
  },
  {
   "cell_type": "markdown",
   "metadata": {
    "id": "wkwuaXfwKi2A"
   },
   "source": [
    "> 통신사 바꾸는 것을 고려 중인 고객이 제일 많은 것으로 보아, 현재 통신사에서 제공중인 서비스가 나쁘지는 않지만 조금 아쉬워 하는 것이 아닐까?"
   ]
  },
  {
   "cell_type": "markdown",
   "metadata": {
    "id": "YgjNtlWuKi2A"
   },
   "source": [
    "⑦ 추가 분석해 볼 사항이 있나요?"
   ]
  },
  {
   "cell_type": "markdown",
   "metadata": {
    "id": "jSPR07BeKi2B"
   },
   "source": [
    "> 핸드폰가격(HANDSET_PRICE) feature와 관계가 있을까? 비싼 휴대폰을 사용하기 때문에 통신서비스도 고급이길 바라는 것이 아닐까?"
   ]
  },
  {
   "cell_type": "markdown",
   "metadata": {
    "id": "e3QPEq8efB1r"
   },
   "source": [
    "### 4) feature4 : INCOME(연 수입액(달러))"
   ]
  },
  {
   "cell_type": "code",
   "execution_count": 79,
   "metadata": {
    "id": "LFyUzNHDKme9"
   },
   "outputs": [],
   "source": [
    "feature = 'INCOME'"
   ]
  },
  {
   "cell_type": "markdown",
   "metadata": {
    "id": "cYoXD-kgKme9"
   },
   "source": [
    "① 변수의 비즈니스 의미"
   ]
  },
  {
   "cell_type": "markdown",
   "metadata": {
    "id": "H4Oa5BnzKme9"
   },
   "source": [
    "> 연 수입액(달러)"
   ]
  },
  {
   "cell_type": "markdown",
   "metadata": {
    "id": "4NREp0sjKme-"
   },
   "source": [
    "② 숫자, 범주?"
   ]
  },
  {
   "cell_type": "markdown",
   "metadata": {
    "id": "hn29bATCKme-"
   },
   "source": [
    "> 숫자"
   ]
  },
  {
   "cell_type": "markdown",
   "metadata": {
    "id": "pmhn3c76Kme-"
   },
   "source": [
    "③ NaN 존재 유무"
   ]
  },
  {
   "cell_type": "code",
   "execution_count": 80,
   "metadata": {
    "id": "hRCxtyB4Kme-"
   },
   "outputs": [
    {
     "data": {
      "text/plain": [
       "0"
      ]
     },
     "execution_count": 80,
     "metadata": {},
     "output_type": "execute_result"
    }
   ],
   "source": [
    "mobile[feature].isna().sum()"
   ]
  },
  {
   "cell_type": "markdown",
   "metadata": {
    "id": "JDydNtbzKme-"
   },
   "source": [
    "④ 기초통계량(수치화)"
   ]
  },
  {
   "cell_type": "code",
   "execution_count": 81,
   "metadata": {
    "id": "w7d60XLOKme-"
   },
   "outputs": [
    {
     "data": {
      "text/plain": [
       "count     17962.000000\n",
       "mean      80318.592195\n",
       "std       41698.185540\n",
       "min       20007.000000\n",
       "25%       42172.000000\n",
       "50%       75510.500000\n",
       "75%      116082.750000\n",
       "max      159983.000000\n",
       "Name: INCOME, dtype: float64"
      ]
     },
     "execution_count": 81,
     "metadata": {},
     "output_type": "execute_result"
    }
   ],
   "source": [
    "mobile[feature].describe()"
   ]
  },
  {
   "cell_type": "markdown",
   "metadata": {
    "id": "08OXnGH_Kme-"
   },
   "source": [
    "⑤ 분포 확인(시각화)"
   ]
  },
  {
   "cell_type": "code",
   "execution_count": 22,
   "metadata": {
    "id": "yMzY2CyxKme_"
   },
   "outputs": [
    {
     "data": {
      "image/png": "[encoded data removed]",
      "text/plain": [
       "<Figure size 432x288 with 1 Axes>"
      ]
     },
     "metadata": {
      "needs_background": "light"
     },
     "output_type": "display_data"
    },
    {
     "name": "stdout",
     "output_type": "stream",
     "text": [
      "20007.0 159983.0\n"
     ]
    }
   ],
   "source": [
    "box = plt.boxplot(mobile[feature])\n",
    "plt.show()\n",
    "\n",
    "l_fence = box['whiskers'][0].get_ydata()[1]\n",
    "u_fence = box['whiskers'][1].get_ydata()[1]\n",
    "print(l_fence, u_fence)"
   ]
  },
  {
   "cell_type": "code",
   "execution_count": 23,
   "metadata": {},
   "outputs": [
    {
     "data": {
      "image/png": "[encoded data removed]",
      "text/plain": [
       "<Figure size 432x288 with 1 Axes>"
      ]
     },
     "metadata": {
      "needs_background": "light"
     },
     "output_type": "display_data"
    }
   ],
   "source": [
    "avg = mobile[feature].mean()\n",
    "\n",
    "sns.histplot(mobile[feature], bins = 30)\n",
    "\n",
    "plt.axvline(l_fence, color = 'orange')\n",
    "plt.axvline(avg, color = 'r')\n",
    "plt.axvline(u_fence, color = 'orange')\n",
    "plt.show()"
   ]
  },
  {
   "cell_type": "code",
   "execution_count": 25,
   "metadata": {},
   "outputs": [
    {
     "data": {
      "image/png": "[encoded data removed]",
      "text/plain": [
       "<Figure size 432x288 with 1 Axes>"
      ]
     },
     "metadata": {
      "needs_background": "light"
     },
     "output_type": "display_data"
    }
   ],
   "source": [
    "sns.kdeplot(data = mobile, x = feature)\n",
    "plt.axvline(l_fence, color = 'orange')\n",
    "plt.axvline(avg, color = 'r')\n",
    "plt.axvline(u_fence, color = 'orange')\n",
    "plt.show()"
   ]
  },
  {
   "cell_type": "markdown",
   "metadata": {
    "id": "qDqmqhvGKme_"
   },
   "source": [
    "⑥ 기초통계량과 분포를 통해서 파악한 내용을 적어 봅시다.\n",
    "\n",
    "보이는 그대로를 넘어, 비즈니스 관점에서 고민하며 적어 봅시다."
   ]
  },
  {
   "cell_type": "markdown",
   "metadata": {
    "id": "YgxBaew3Kme_"
   },
   "source": [
    "> - 연 수입액은 50000 달러 이하가 가장 많다. \n",
    "> - 연 수입액 50000 달러 를 기준으로 평균소득 집단과 평균소득 초과 집단으로 나누어 분석하면 더 정확한 정보를 얻을 수 있지 않을까?"
   ]
  },
  {
   "cell_type": "markdown",
   "metadata": {
    "id": "EpZ0-McmKme_"
   },
   "source": [
    "⑦ 추가 분석해 볼 사항이 있나요?"
   ]
  },
  {
   "cell_type": "markdown",
   "metadata": {
    "id": "8KHpT6zDKme_"
   },
   "source": [
    "> 50000을 기준으로 그래프를 나눠서 봐야 더 정확한 정보를 얻을 수 있을꺼 같아 보인다."
   ]
  },
  {
   "cell_type": "markdown",
   "metadata": {
    "id": "E5rB6CiofI_d"
   },
   "source": [
    "### 5) feature5 : OVERAGE (월 초과사용 시간(분))"
   ]
  },
  {
   "cell_type": "code",
   "execution_count": 107,
   "metadata": {
    "id": "BoOX0VRsKped"
   },
   "outputs": [],
   "source": [
    "feature = 'OVERAGE'"
   ]
  },
  {
   "cell_type": "markdown",
   "metadata": {
    "id": "lFocUq67Kped"
   },
   "source": [
    "① 변수의 비즈니스 의미"
   ]
  },
  {
   "cell_type": "markdown",
   "metadata": {
    "id": "eDp4a6m6Kped"
   },
   "source": [
    "> 월 초과사용 시간(분)"
   ]
  },
  {
   "cell_type": "markdown",
   "metadata": {
    "id": "tMiSqllJKped"
   },
   "source": [
    "② 숫자, 범주?"
   ]
  },
  {
   "cell_type": "markdown",
   "metadata": {
    "id": "xzz6u-xWKped"
   },
   "source": [
    "> 숫자"
   ]
  },
  {
   "cell_type": "markdown",
   "metadata": {
    "id": "TDvHjCp8Kped"
   },
   "source": [
    "③ NaN 존재 유무"
   ]
  },
  {
   "cell_type": "code",
   "execution_count": 108,
   "metadata": {
    "id": "GMZN3xXPKpee"
   },
   "outputs": [
    {
     "data": {
      "text/plain": [
       "0"
      ]
     },
     "execution_count": 108,
     "metadata": {},
     "output_type": "execute_result"
    }
   ],
   "source": [
    "mobile[feature].isna().sum()"
   ]
  },
  {
   "cell_type": "markdown",
   "metadata": {
    "id": "xG8QXHmcKpee"
   },
   "source": [
    "④ 기초통계량(수치화)"
   ]
  },
  {
   "cell_type": "code",
   "execution_count": 109,
   "metadata": {
    "id": "LP3ywpI8Kpee"
   },
   "outputs": [
    {
     "data": {
      "text/plain": [
       "count    18000.000000\n",
       "mean        86.014833\n",
       "std         85.963981\n",
       "min         -2.000000\n",
       "25%          0.000000\n",
       "50%         59.000000\n",
       "75%        179.000000\n",
       "max        335.000000\n",
       "Name: OVERAGE, dtype: float64"
      ]
     },
     "execution_count": 109,
     "metadata": {},
     "output_type": "execute_result"
    }
   ],
   "source": [
    "mobile[feature].describe()"
   ]
  },
  {
   "cell_type": "markdown",
   "metadata": {},
   "source": [
    "> 월 초과사용 시간(분)은 마이너스가 나올 수 없다. 마이너스가 나온이유가 평균값으로 집어넣어져서 그렇다고 한다. \n",
    "> 양수만으로 분석을 해야할 필요가 있어 보인다."
   ]
  },
  {
   "cell_type": "code",
   "execution_count": 110,
   "metadata": {},
   "outputs": [
    {
     "data": {
      "text/plain": [
       "3308      -2\n",
       "8999       0\n",
       "15685      0\n",
       "15687      0\n",
       "7336       0\n",
       "        ... \n",
       "17982    295\n",
       "14717    296\n",
       "12871    298\n",
       "2267     301\n",
       "9907     335\n",
       "Name: OVERAGE, Length: 18000, dtype: int64"
      ]
     },
     "execution_count": 110,
     "metadata": {},
     "output_type": "execute_result"
    }
   ],
   "source": [
    "mobile[feature].sort_values()"
   ]
  },
  {
   "cell_type": "markdown",
   "metadata": {},
   "source": [
    "> → 음수는 -2하나 밖에 없으니까 0으로 대체하자 해보자  \n",
    "OVERAGE (월 초과사용 시간(분)) feature을 만들면서 생긴 마이너스 일테니까"
   ]
  },
  {
   "cell_type": "code",
   "execution_count": 111,
   "metadata": {},
   "outputs": [
    {
     "data": {
      "text/plain": [
       "-2"
      ]
     },
     "execution_count": 111,
     "metadata": {},
     "output_type": "execute_result"
    }
   ],
   "source": [
    "mobile[feature][3308]"
   ]
  },
  {
   "cell_type": "code",
   "execution_count": 112,
   "metadata": {},
   "outputs": [
    {
     "name": "stderr",
     "output_type": "stream",
     "text": [
      "<ipython-input-112-a4d72689b7a6>:1: SettingWithCopyWarning: \n",
      "A value is trying to be set on a copy of a slice from a DataFrame\n",
      "\n",
      "See the caveats in the documentation: https://pandas.pydata.org/pandas-docs/stable/user_guide/indexing.html#returning-a-view-versus-a-copy\n",
      "  mobile[feature][3308] = 0\n"
     ]
    }
   ],
   "source": [
    "mobile[feature][3308] = 0"
   ]
  },
  {
   "cell_type": "code",
   "execution_count": 113,
   "metadata": {},
   "outputs": [
    {
     "data": {
      "text/plain": [
       "0"
      ]
     },
     "execution_count": 113,
     "metadata": {},
     "output_type": "execute_result"
    }
   ],
   "source": [
    "mobile[feature][3308]"
   ]
  },
  {
   "cell_type": "code",
   "execution_count": 114,
   "metadata": {},
   "outputs": [
    {
     "data": {
      "text/plain": [
       "count    18000.000000\n",
       "mean        86.014944\n",
       "std         85.963869\n",
       "min          0.000000\n",
       "25%          0.000000\n",
       "50%         59.000000\n",
       "75%        179.000000\n",
       "max        335.000000\n",
       "Name: OVERAGE, dtype: float64"
      ]
     },
     "execution_count": 114,
     "metadata": {},
     "output_type": "execute_result"
    }
   ],
   "source": [
    "mobile[feature].describe()"
   ]
  },
  {
   "cell_type": "markdown",
   "metadata": {},
   "source": [
    "> 마이너스를 0으로 대체 완료"
   ]
  },
  {
   "cell_type": "markdown",
   "metadata": {
    "id": "2NBiXBJzKpee"
   },
   "source": [
    "⑤ 분포 확인(시각화)"
   ]
  },
  {
   "cell_type": "code",
   "execution_count": 115,
   "metadata": {
    "id": "yMzY2CyxKme_"
   },
   "outputs": [
    {
     "data": {
      "image/png": "[encoded data removed]",
      "text/plain": [
       "<Figure size 432x288 with 1 Axes>"
      ]
     },
     "metadata": {
      "needs_background": "light"
     },
     "output_type": "display_data"
    },
    {
     "name": "stdout",
     "output_type": "stream",
     "text": [
      "0.0 335.0\n"
     ]
    }
   ],
   "source": [
    "box = plt.boxplot(mobile[feature])\n",
    "plt.show()\n",
    "\n",
    "l_fence = box['whiskers'][0].get_ydata()[1]\n",
    "u_fence = box['whiskers'][1].get_ydata()[1]\n",
    "print(l_fence, u_fence)"
   ]
  },
  {
   "cell_type": "code",
   "execution_count": 116,
   "metadata": {},
   "outputs": [
    {
     "data": {
      "image/png": "[encoded data removed]",
      "text/plain": [
       "<Figure size 432x288 with 1 Axes>"
      ]
     },
     "metadata": {
      "needs_background": "light"
     },
     "output_type": "display_data"
    }
   ],
   "source": [
    "avg = mobile[feature].mean()\n",
    "\n",
    "sns.histplot(mobile[feature], bins = 30)\n",
    "\n",
    "plt.axvline(l_fence, color = 'orange')\n",
    "plt.axvline(avg, color = 'r')\n",
    "plt.axvline(u_fence, color = 'orange')\n",
    "plt.show()"
   ]
  },
  {
   "cell_type": "code",
   "execution_count": 117,
   "metadata": {},
   "outputs": [
    {
     "data": {
      "image/png": "[encoded data removed]",
      "text/plain": [
       "<Figure size 432x288 with 1 Axes>"
      ]
     },
     "metadata": {
      "needs_background": "light"
     },
     "output_type": "display_data"
    }
   ],
   "source": [
    "sns.kdeplot(data = mobile, x = feature)\n",
    "plt.axvline(l_fence, color = 'orange')\n",
    "plt.axvline(avg, color = 'r')\n",
    "plt.axvline(u_fence, color = 'orange')\n",
    "plt.show()"
   ]
  },
  {
   "cell_type": "markdown",
   "metadata": {
    "id": "fUE37qfWKpee"
   },
   "source": [
    "⑥ 기초통계량과 분포를 통해서 파악한 내용을 적어 봅시다.\n",
    "\n",
    "보이는 그대로를 넘어, 비즈니스 관점에서 고민하며 적어 봅시다."
   ]
  },
  {
   "cell_type": "markdown",
   "metadata": {
    "id": "3pXS8Y2BKpee"
   },
   "source": [
    "> - 그래프 봉오리가 3개가 보인다. 특이한 그래프이다.  \n",
    "> - 월 초과사용 시간이 0분 인 고객은 초과사용을 하지 않는 고객이기 때문에 제외 시킬 필요가 있어 보인다.  \n",
    "> - 두번째 봉오리에 있는 고객들이 매번 월 초과 사용시간이 저러한 것인지 일회성인지 확인해볼 필요가 있어 보인다.\n",
    "> - 세번째 봉오리에 있는 고객들은 뭔가 직장인이지 않을 까? 영업직이나 전화를 많이 하는 고객들이지 않을까?"
   ]
  },
  {
   "cell_type": "markdown",
   "metadata": {
    "id": "cci16W-GKpee"
   },
   "source": [
    "⑦ 추가 분석해 볼 사항이 있나요?"
   ]
  },
  {
   "cell_type": "markdown",
   "metadata": {
    "id": "atWD22NIKpee"
   },
   "source": [
    "> 세번째 봉오리에 있는 고객들과 연 수입액(INCOME)가 연관이 있을까?"
   ]
  },
  {
   "cell_type": "markdown",
   "metadata": {
    "id": "78iry0XpLCc0"
   },
   "source": [
    "### 6) feature : LEFTOVER(월 사용 잔여시간(분))"
   ]
  },
  {
   "cell_type": "code",
   "execution_count": 185,
   "metadata": {},
   "outputs": [],
   "source": [
    "feature = 'LEFTOVER'"
   ]
  },
  {
   "cell_type": "markdown",
   "metadata": {
    "id": "lFocUq67Kped"
   },
   "source": [
    "① 변수의 비즈니스 의미"
   ]
  },
  {
   "cell_type": "markdown",
   "metadata": {
    "id": "eDp4a6m6Kped"
   },
   "source": [
    "> 월 사용 잔여시간(분)"
   ]
  },
  {
   "cell_type": "markdown",
   "metadata": {
    "id": "tMiSqllJKped"
   },
   "source": [
    "② 숫자, 범주?"
   ]
  },
  {
   "cell_type": "markdown",
   "metadata": {
    "id": "xzz6u-xWKped"
   },
   "source": [
    "> 숫자"
   ]
  },
  {
   "cell_type": "markdown",
   "metadata": {
    "id": "TDvHjCp8Kped"
   },
   "source": [
    "③ NaN 존재 유무"
   ]
  },
  {
   "cell_type": "code",
   "execution_count": 186,
   "metadata": {
    "id": "GMZN3xXPKpee"
   },
   "outputs": [
    {
     "data": {
      "text/plain": [
       "0"
      ]
     },
     "execution_count": 186,
     "metadata": {},
     "output_type": "execute_result"
    }
   ],
   "source": [
    "mobile[feature].isna().sum()"
   ]
  },
  {
   "cell_type": "markdown",
   "metadata": {
    "id": "xG8QXHmcKpee"
   },
   "source": [
    "④ 기초통계량(수치화)"
   ]
  },
  {
   "cell_type": "code",
   "execution_count": 187,
   "metadata": {
    "id": "LP3ywpI8Kpee"
   },
   "outputs": [
    {
     "data": {
      "text/plain": [
       "count    18000.000000\n",
       "mean        23.995500\n",
       "std         26.860363\n",
       "min          0.000000\n",
       "25%          0.000000\n",
       "50%         14.500000\n",
       "75%         42.000000\n",
       "max         89.000000\n",
       "Name: LEFTOVER, dtype: float64"
      ]
     },
     "execution_count": 187,
     "metadata": {},
     "output_type": "execute_result"
    }
   ],
   "source": [
    "mobile[feature].describe()"
   ]
  },
  {
   "cell_type": "markdown",
   "metadata": {
    "id": "2NBiXBJzKpee"
   },
   "source": [
    "⑤ 분포 확인(시각화)"
   ]
  },
  {
   "cell_type": "code",
   "execution_count": 188,
   "metadata": {
    "id": "yMzY2CyxKme_"
   },
   "outputs": [
    {
     "data": {
      "image/png": "[encoded data removed]",
      "text/plain": [
       "<Figure size 432x288 with 1 Axes>"
      ]
     },
     "metadata": {
      "needs_background": "light"
     },
     "output_type": "display_data"
    },
    {
     "name": "stdout",
     "output_type": "stream",
     "text": [
      "0.0 89.0\n"
     ]
    }
   ],
   "source": [
    "box = plt.boxplot(mobile[feature])\n",
    "plt.show()\n",
    "\n",
    "l_fence = box['whiskers'][0].get_ydata()[1]\n",
    "u_fence = box['whiskers'][1].get_ydata()[1]\n",
    "print(l_fence, u_fence)"
   ]
  },
  {
   "cell_type": "code",
   "execution_count": 189,
   "metadata": {},
   "outputs": [
    {
     "data": {
      "image/png": "[encoded data removed]",
      "text/plain": [
       "<Figure size 432x288 with 1 Axes>"
      ]
     },
     "metadata": {
      "needs_background": "light"
     },
     "output_type": "display_data"
    }
   ],
   "source": [
    "avg = mobile[feature].mean()\n",
    "\n",
    "sns.histplot(mobile[feature], bins = 30)\n",
    "\n",
    "plt.axvline(l_fence, color = 'orange')\n",
    "plt.axvline(avg, color = 'r')\n",
    "plt.axvline(u_fence, color = 'orange')\n",
    "plt.show()"
   ]
  },
  {
   "cell_type": "code",
   "execution_count": 190,
   "metadata": {},
   "outputs": [
    {
     "data": {
      "image/png": "[encoded data removed]",
      "text/plain": [
       "<Figure size 432x288 with 1 Axes>"
      ]
     },
     "metadata": {
      "needs_background": "light"
     },
     "output_type": "display_data"
    }
   ],
   "source": [
    "sns.kdeplot(data = mobile, x = feature)\n",
    "plt.axvline(l_fence, color = 'orange')\n",
    "plt.axvline(avg, color = 'r')\n",
    "plt.axvline(u_fence, color = 'orange')\n",
    "plt.show()"
   ]
  },
  {
   "cell_type": "markdown",
   "metadata": {
    "id": "fUE37qfWKpee"
   },
   "source": [
    "⑥ 기초통계량과 분포를 통해서 파악한 내용을 적어 봅시다.\n",
    "\n",
    "보이는 그대로를 넘어, 비즈니스 관점에서 고민하며 적어 봅시다."
   ]
  },
  {
   "cell_type": "markdown",
   "metadata": {
    "id": "3pXS8Y2BKpee"
   },
   "source": [
    "> LEFTOVER(월 사용 잔여시간(분))이 0분 인 고객은 잔여시간을 딱 맞게 사용하거나 그 이상 사용하는 고객으로 보인다."
   ]
  },
  {
   "cell_type": "markdown",
   "metadata": {
    "id": "cci16W-GKpee"
   },
   "source": [
    "⑦ 추가 분석해 볼 사항이 있나요?"
   ]
  },
  {
   "cell_type": "markdown",
   "metadata": {},
   "source": [
    "> LEFTOVER(월 사용 잔여시간(분))이 남지 않은 고객들이 OVERAGE(월 초과사용 시간(분)) 이 높은 것이 아닐까?"
   ]
  },
  {
   "cell_type": "markdown",
   "metadata": {
    "id": "78iry0XpLCc0"
   },
   "source": [
    "### 7) target : CHURN(이탈여부)"
   ]
  },
  {
   "cell_type": "code",
   "execution_count": 191,
   "metadata": {
    "id": "CokPil3nLCc7"
   },
   "outputs": [],
   "source": [
    "target = 'CHURN'"
   ]
  },
  {
   "cell_type": "markdown",
   "metadata": {
    "id": "AXZCZBLBLCc8"
   },
   "source": [
    "① 변수의 비즈니스 의미"
   ]
  },
  {
   "cell_type": "markdown",
   "metadata": {
    "id": "LE6ylreXLCc8"
   },
   "source": [
    "> 1 : 이탈, 0 : 잔류"
   ]
  },
  {
   "cell_type": "markdown",
   "metadata": {
    "id": "OyftkfSnLCc8"
   },
   "source": [
    "② 숫자, 범주?"
   ]
  },
  {
   "cell_type": "markdown",
   "metadata": {
    "id": "ubukJmxzLCc8"
   },
   "source": [
    "> 범주"
   ]
  },
  {
   "cell_type": "markdown",
   "metadata": {
    "id": "4_aoVtEZLCc9"
   },
   "source": [
    "③ NaN 존재 유무"
   ]
  },
  {
   "cell_type": "code",
   "execution_count": 193,
   "metadata": {
    "id": "yJTRrDtDLCc9"
   },
   "outputs": [
    {
     "data": {
      "text/plain": [
       "0"
      ]
     },
     "execution_count": 193,
     "metadata": {},
     "output_type": "execute_result"
    }
   ],
   "source": [
    "mobile[target].isna().sum()"
   ]
  },
  {
   "cell_type": "markdown",
   "metadata": {
    "id": "J4FlMwvdLCc9"
   },
   "source": [
    "④ 기초통계량(수치화)"
   ]
  },
  {
   "cell_type": "code",
   "execution_count": 196,
   "metadata": {
    "id": "zwZ_xGh0LCc-",
    "scrolled": true
   },
   "outputs": [
    {
     "name": "stdout",
     "output_type": "stream",
     "text": [
      "0    9131\n",
      "1    8869\n",
      "Name: CHURN, dtype: int64\n",
      "\n",
      "0    0.507278\n",
      "1    0.492722\n",
      "Name: CHURN, dtype: float64\n"
     ]
    }
   ],
   "source": [
    "print(mobile[target].value_counts())\n",
    "print()\n",
    "print(mobile[target].value_counts()/ len(mobile[target]))"
   ]
  },
  {
   "cell_type": "markdown",
   "metadata": {
    "id": "Mi7hgkwhLCc-"
   },
   "source": [
    "⑤ 분포 확인(시각화)"
   ]
  },
  {
   "cell_type": "code",
   "execution_count": 198,
   "metadata": {
    "id": "SlDmIojyLCc-"
   },
   "outputs": [
    {
     "name": "stderr",
     "output_type": "stream",
     "text": [
      "C:\\Users\\User\\anaconda3\\lib\\site-packages\\seaborn\\_decorators.py:36: FutureWarning: Pass the following variable as a keyword arg: x. From version 0.12, the only valid positional argument will be `data`, and passing other arguments without an explicit keyword will result in an error or misinterpretation.\n",
      "  warnings.warn(\n"
     ]
    },
    {
     "data": {
      "image/png": "[encoded data removed]",
      "text/plain": [
       "<Figure size 432x288 with 1 Axes>"
      ]
     },
     "metadata": {
      "needs_background": "light"
     },
     "output_type": "display_data"
    }
   ],
   "source": [
    "sns.countplot(mobile[target])\n",
    "plt.show()"
   ]
  },
  {
   "cell_type": "markdown",
   "metadata": {
    "id": "IJDj2DQ0LCc_"
   },
   "source": [
    "⑥ 기초통계량과 분포를 통해서 파악한 내용을 적어 봅시다.\n",
    "\n",
    "보이는 그대로를 넘어, 비즈니스 관점에서 고민하며 적어 봅시다."
   ]
  },
  {
   "cell_type": "markdown",
   "metadata": {
    "id": "SxVB-FBfLCdA"
   },
   "source": [
    "> 이탈여부의 숫자가 비슷해 보이고 별로 차이가 없어보인다."
   ]
  },
  {
   "cell_type": "markdown",
   "metadata": {
    "id": "0ypYwLk2LCdA"
   },
   "source": [
    "⑦ 추가 분석해 볼 사항이 있나요?"
   ]
  },
  {
   "cell_type": "markdown",
   "metadata": {
    "id": "vsbs9ewfLCdA"
   },
   "source": [
    "> 이탈여부와 관계가 많은 feature는 무엇일까? 어떠한 조건에 영향을 받게 될까?"
   ]
  },
  {
   "cell_type": "markdown",
   "metadata": {
    "id": "ZghJJ7yLEpDA"
   },
   "source": [
    "## 3.이변량 분석 \n",
    "* 자료의 종류에 맞게 X --> Y 에 대해서 그래프(시각화)와 가설검정(수치화)를 수행하고 결과를 평가합니다.\n",
    "* 가설검정시 다음의 항목을 참조하여 수행합니다.\n",
    "    * 유의수준 : 5%\n",
    "    * 숫자 --> 숫자 : 상관분석\n",
    "    * 범주 --> 범주 : 카이제곱검정\n",
    "    * 범주 --> 숫자 : t검정, 분산분석\n",
    "    * 숫자 --> 범주 : 로지스틱 회귀모형을 통해, 회귀계수의 P.value로 검정을 수행합니다."
   ]
  },
  {
   "cell_type": "code",
   "execution_count": 119,
   "metadata": {
    "id": "qiWKeotjGkLp"
   },
   "outputs": [],
   "source": [
    "target = 'CHURN'"
   ]
  },
  {
   "cell_type": "markdown",
   "metadata": {
    "id": "fap08wfEMqtY"
   },
   "source": [
    "### (1) 범주형 Feature --> 범주형CHURN\n",
    "* 모든 범주형 Feature에 대해서 Y와 비교하여 차트를 그리고 수치화 하시오.  \n",
    "    ① 교차표(pd.crosstab())  \n",
    "    ② 시각화( Stacked Bar, Mosaic)  \n",
    "    ③ 가설검정(카이제곱검정)\n",
    "* 각 feature 별로 관계의 정도를 3가지로 정리해봅시다. "
   ]
  },
  {
   "cell_type": "code",
   "execution_count": 120,
   "metadata": {
    "id": "r4wGQJtSYRWD"
   },
   "outputs": [
    {
     "name": "stdout",
     "output_type": "stream",
     "text": [
      "0.49272222222222223\n"
     ]
    }
   ],
   "source": [
    "# 전체 이탈율\n",
    "total_mean = mobile[target].mean()\n",
    "print(total_mean)"
   ]
  },
  {
   "cell_type": "markdown",
   "metadata": {
    "id": "Dh2UW7_S-yoq"
   },
   "source": [
    "#### 1) COLLEGE(대학졸업 여부) --> CHURN"
   ]
  },
  {
   "cell_type": "code",
   "execution_count": 144,
   "metadata": {
    "id": "EWXtZEr_X0ok"
   },
   "outputs": [],
   "source": [
    "feature = 'COLLEGE'"
   ]
  },
  {
   "cell_type": "markdown",
   "metadata": {
    "id": "sq4qjPyrXkS3"
   },
   "source": [
    "① 교차표(pd.crosstab())"
   ]
  },
  {
   "cell_type": "code",
   "execution_count": 145,
   "metadata": {
    "id": "qkS8v_BxX3Gk"
   },
   "outputs": [
    {
     "data": {
      "text/html": [
       "<div>\n",
       "<style scoped>\n",
       "    .dataframe tbody tr th:only-of-type {\n",
       "        vertical-align: middle;\n",
       "    }\n",
       "\n",
       "    .dataframe tbody tr th {\n",
       "        vertical-align: top;\n",
       "    }\n",
       "\n",
       "    .dataframe thead th {\n",
       "        text-align: right;\n",
       "    }\n",
       "</style>\n",
       "<table border=\"1\" class=\"dataframe\">\n",
       "  <thead>\n",
       "    <tr style=\"text-align: right;\">\n",
       "      <th>COLLEGE</th>\n",
       "      <th>0</th>\n",
       "      <th>1</th>\n",
       "    </tr>\n",
       "    <tr>\n",
       "      <th>CHURN</th>\n",
       "      <th></th>\n",
       "      <th></th>\n",
       "    </tr>\n",
       "  </thead>\n",
       "  <tbody>\n",
       "    <tr>\n",
       "      <th>0</th>\n",
       "      <td>0.515697</td>\n",
       "      <td>0.49895</td>\n",
       "    </tr>\n",
       "    <tr>\n",
       "      <th>1</th>\n",
       "      <td>0.484303</td>\n",
       "      <td>0.50105</td>\n",
       "    </tr>\n",
       "  </tbody>\n",
       "</table>\n",
       "</div>"
      ],
      "text/plain": [
       "COLLEGE         0        1\n",
       "CHURN                     \n",
       "0        0.515697  0.49895\n",
       "1        0.484303  0.50105"
      ]
     },
     "execution_count": 145,
     "metadata": {},
     "output_type": "execute_result"
    }
   ],
   "source": [
    "temp = pd.crosstab(mobile[target], mobile[feature], normalize = 'columns')\n",
    "temp"
   ]
  },
  {
   "cell_type": "markdown",
   "metadata": {
    "id": "s2QiOyPmZ1Sy"
   },
   "source": [
    "② 시각화( Stacked Bar, Mosaic)"
   ]
  },
  {
   "cell_type": "code",
   "execution_count": 146,
   "metadata": {
    "id": "eLZgTrQqYciB"
   },
   "outputs": [
    {
     "name": "stdout",
     "output_type": "stream",
     "text": [
      "CHURN           0         1\n",
      "COLLEGE                    \n",
      "0        0.515697  0.484303\n",
      "1        0.498950  0.501050\n"
     ]
    },
    {
     "data": {
      "image/png": "[encoded data removed]",
      "text/plain": [
       "<Figure size 432x288 with 1 Axes>"
      ]
     },
     "metadata": {
      "needs_background": "light"
     },
     "output_type": "display_data"
    }
   ],
   "source": [
    "temp = pd.crosstab(mobile[feature], mobile[target], normalize = 'index')\n",
    "print(temp)\n",
    "\n",
    "temp.plot.bar(stacked = True)\n",
    "plt.axhline(1-mobile[target].mean(), color = 'r')\n",
    "plt.show()"
   ]
  },
  {
   "cell_type": "code",
   "execution_count": 147,
   "metadata": {
    "id": "RVjIC6RsaQfv"
   },
   "outputs": [
    {
     "data": {
      "image/png": "[encoded data removed]",
      "text/plain": [
       "<Figure size 432x288 with 3 Axes>"
      ]
     },
     "metadata": {
      "needs_background": "light"
     },
     "output_type": "display_data"
    }
   ],
   "source": [
    "mosaic(mobile, [feature, target])\n",
    "plt.axhline(1-mobile[target].mean(), color = 'r')\n",
    "plt.show()"
   ]
  },
  {
   "cell_type": "markdown",
   "metadata": {
    "id": "V1pyYZ3ibCyO"
   },
   "source": [
    "시각화를 통해 파악한 내용을 적어 봅시다."
   ]
  },
  {
   "cell_type": "markdown",
   "metadata": {
    "id": "K7hA7NOjLOlp"
   },
   "source": [
    "> 그래프로는 큰 차이가 없어 보인다."
   ]
  },
  {
   "cell_type": "markdown",
   "metadata": {
    "id": "8MX4b9jZbGal"
   },
   "source": [
    "③ 가설검정(카이제곱검정)"
   ]
  },
  {
   "cell_type": "code",
   "execution_count": 131,
   "metadata": {
    "id": "vMjinA9nLP2_"
   },
   "outputs": [
    {
     "name": "stdout",
     "output_type": "stream",
     "text": [
      "교차표\n",
      " CHURN       0     1\n",
      "COLLEGE            \n",
      "0        4616  4335\n",
      "1        4515  4534\n",
      "==================================================\n",
      "카이제곱통계량 : 4.982102934693502\n",
      "p-value : 0.02561083347822053\n",
      "자유도 : 1\n",
      "기대빈도 :\n",
      " [[4540.64338889 4410.35661111]\n",
      " [4590.35661111 4458.64338889]]\n"
     ]
    }
   ],
   "source": [
    "# 먼저 집계\n",
    "table = pd.crosstab(mobile[feature], mobile[target])\n",
    "print('교차표\\n', table)\n",
    "print('='*50)\n",
    "\n",
    "# 카이제곱검정\n",
    "result = spst.chi2_contingency(table)\n",
    "print(\"카이제곱통계량 : {}\".format(result[0]))\n",
    "print('p-value : {}'.format(result[1]))\n",
    "print('자유도 : {}'.format(result[2]))\n",
    "print('기대빈도 :\\n {}'.format(result[3]))"
   ]
  },
  {
   "cell_type": "markdown",
   "metadata": {
    "id": "wuH_fPA6bTE1"
   },
   "source": [
    "④ 시각화와 가설검정을 통해서 파악한 내용을 적어 봅시다."
   ]
  },
  {
   "cell_type": "markdown",
   "metadata": {
    "id": "Eg_fzBzqbj0U"
   },
   "source": [
    "> v-value가 0.05보다 작으므로, COLLEGE(대학졸업 여부)와 CHURN(이탈여부)는 관련이 있다."
   ]
  },
  {
   "cell_type": "markdown",
   "metadata": {
    "id": "4Xeo68yeLU98"
   },
   "source": [
    "#### 2)  REPORTED_SATISFACTION(만족도 설문) --> CHURN"
   ]
  },
  {
   "cell_type": "code",
   "execution_count": 151,
   "metadata": {
    "id": "rA7_WcWzLU-E"
   },
   "outputs": [],
   "source": [
    "feature = 'REPORTED_SATISFACTION'"
   ]
  },
  {
   "cell_type": "markdown",
   "metadata": {
    "id": "mjCkvEsXLU-F"
   },
   "source": [
    "① 교차표(pd.crosstab())"
   ]
  },
  {
   "cell_type": "code",
   "execution_count": 152,
   "metadata": {
    "id": "qkS8v_BxX3Gk"
   },
   "outputs": [
    {
     "data": {
      "text/html": [
       "<div>\n",
       "<style scoped>\n",
       "    .dataframe tbody tr th:only-of-type {\n",
       "        vertical-align: middle;\n",
       "    }\n",
       "\n",
       "    .dataframe tbody tr th {\n",
       "        vertical-align: top;\n",
       "    }\n",
       "\n",
       "    .dataframe thead th {\n",
       "        text-align: right;\n",
       "    }\n",
       "</style>\n",
       "<table border=\"1\" class=\"dataframe\">\n",
       "  <thead>\n",
       "    <tr style=\"text-align: right;\">\n",
       "      <th>REPORTED_SATISFACTION</th>\n",
       "      <th>avg</th>\n",
       "      <th>sat</th>\n",
       "      <th>unsat</th>\n",
       "      <th>very_sat</th>\n",
       "      <th>very_unsat</th>\n",
       "    </tr>\n",
       "    <tr>\n",
       "      <th>CHURN</th>\n",
       "      <th></th>\n",
       "      <th></th>\n",
       "      <th></th>\n",
       "      <th></th>\n",
       "      <th></th>\n",
       "    </tr>\n",
       "  </thead>\n",
       "  <tbody>\n",
       "    <tr>\n",
       "      <th>0</th>\n",
       "      <td>0.527132</td>\n",
       "      <td>0.527897</td>\n",
       "      <td>0.499164</td>\n",
       "      <td>0.511618</td>\n",
       "      <td>0.50099</td>\n",
       "    </tr>\n",
       "    <tr>\n",
       "      <th>1</th>\n",
       "      <td>0.472868</td>\n",
       "      <td>0.472103</td>\n",
       "      <td>0.500836</td>\n",
       "      <td>0.488382</td>\n",
       "      <td>0.49901</td>\n",
       "    </tr>\n",
       "  </tbody>\n",
       "</table>\n",
       "</div>"
      ],
      "text/plain": [
       "REPORTED_SATISFACTION       avg       sat     unsat  very_sat  very_unsat\n",
       "CHURN                                                                    \n",
       "0                      0.527132  0.527897  0.499164  0.511618     0.50099\n",
       "1                      0.472868  0.472103  0.500836  0.488382     0.49901"
      ]
     },
     "execution_count": 152,
     "metadata": {},
     "output_type": "execute_result"
    }
   ],
   "source": [
    "temp = pd.crosstab(mobile[target], mobile[feature], normalize = 'columns')\n",
    "temp"
   ]
  },
  {
   "cell_type": "markdown",
   "metadata": {
    "id": "KTlO_nVILU-F"
   },
   "source": [
    "② 시각화( Stacked Bar, Mosaic)"
   ]
  },
  {
   "cell_type": "code",
   "execution_count": 153,
   "metadata": {
    "id": "eLZgTrQqYciB"
   },
   "outputs": [
    {
     "name": "stdout",
     "output_type": "stream",
     "text": [
      "CHURN                         0         1\n",
      "REPORTED_SATISFACTION                    \n",
      "avg                    0.527132  0.472868\n",
      "sat                    0.527897  0.472103\n",
      "unsat                  0.499164  0.500836\n",
      "very_sat               0.511618  0.488382\n",
      "very_unsat             0.500990  0.499010\n"
     ]
    },
    {
     "data": {
      "image/png": "[encoded data removed]",
      "text/plain": [
       "<Figure size 432x288 with 1 Axes>"
      ]
     },
     "metadata": {
      "needs_background": "light"
     },
     "output_type": "display_data"
    }
   ],
   "source": [
    "temp = pd.crosstab(mobile[feature], mobile[target], normalize = 'index')\n",
    "print(temp)\n",
    "\n",
    "temp.plot.bar(stacked = True)\n",
    "plt.axhline(1-mobile[target].mean(), color = 'r')\n",
    "plt.show()"
   ]
  },
  {
   "cell_type": "code",
   "execution_count": 154,
   "metadata": {
    "id": "RVjIC6RsaQfv",
    "scrolled": true
   },
   "outputs": [
    {
     "data": {
      "image/png": "[encoded data removed]",
      "text/plain": [
       "<Figure size 432x288 with 3 Axes>"
      ]
     },
     "metadata": {
      "needs_background": "light"
     },
     "output_type": "display_data"
    }
   ],
   "source": [
    "mosaic(mobile, [feature, target])\n",
    "plt.axhline(1-mobile[target].mean(), color = 'r')\n",
    "plt.show()"
   ]
  },
  {
   "cell_type": "markdown",
   "metadata": {
    "id": "_Uo9zuseLU-G"
   },
   "source": [
    "시각화를 통해 파악한 내용을 적어 봅시다."
   ]
  },
  {
   "cell_type": "markdown",
   "metadata": {
    "id": "GV1EhOn6LU-G"
   },
   "source": [
    "> 시각적으로 보니 관련이 없어 보인다."
   ]
  },
  {
   "cell_type": "markdown",
   "metadata": {
    "id": "qvnoTO3ZLU-G"
   },
   "source": [
    "③ 가설검정(카이제곱검정)"
   ]
  },
  {
   "cell_type": "code",
   "execution_count": 155,
   "metadata": {
    "id": "vMjinA9nLP2_"
   },
   "outputs": [
    {
     "name": "stdout",
     "output_type": "stream",
     "text": [
      "교차표\n",
      " CHURN                     0     1\n",
      "REPORTED_SATISFACTION            \n",
      "avg                     952   854\n",
      "sat                     492   440\n",
      "unsat                  1792  1798\n",
      "very_sat               2334  2228\n",
      "very_unsat             3543  3529\n",
      "==================================================\n",
      "카이제곱통계량 : 6.841100957205645\n",
      "p-value : 0.14452738878905058\n",
      "자유도 : 4\n",
      "기대빈도 :\n",
      " [[ 916.27201871  889.72798129]\n",
      " [ 472.84912593  459.15087407]\n",
      " [1821.38236277 1768.61763723]\n",
      " [2314.5254426  2247.4745574 ]\n",
      " [3587.97104999 3484.02895001]]\n"
     ]
    }
   ],
   "source": [
    "# 먼저 집계\n",
    "table = pd.crosstab(mobile[feature], mobile[target])\n",
    "print('교차표\\n', table)\n",
    "print('='*50)\n",
    "\n",
    "# 카이제곱검정\n",
    "result = spst.chi2_contingency(table)\n",
    "print(\"카이제곱통계량 : {}\".format(result[0]))\n",
    "print('p-value : {}'.format(result[1]))\n",
    "print('자유도 : {}'.format(result[2]))\n",
    "print('기대빈도 :\\n {}'.format(result[3]))"
   ]
  },
  {
   "cell_type": "markdown",
   "metadata": {
    "id": "mRrRp1C_LU-H"
   },
   "source": [
    "④ 시각화와 가설검정을 통해서 파악한 내용을 적어 봅시다."
   ]
  },
  {
   "cell_type": "markdown",
   "metadata": {
    "id": "Eg_fzBzqbj0U"
   },
   "source": [
    "> v-value가 0.05보다 크므로, REPORTED_SATISFACTION(만족도 설문)와 CHURN(이탈여부)는 관련이 없다."
   ]
  },
  {
   "cell_type": "markdown",
   "metadata": {
    "id": "bdWZCugILZAz"
   },
   "source": [
    "#### 3) CONSIDERING_CHANGE_OF_PLAN(변경 계획 설문) --> CHURN"
   ]
  },
  {
   "cell_type": "code",
   "execution_count": 156,
   "metadata": {
    "id": "H7UDK6CKLZAz"
   },
   "outputs": [],
   "source": [
    "feature = 'CONSIDERING_CHANGE_OF_PLAN'"
   ]
  },
  {
   "cell_type": "markdown",
   "metadata": {
    "id": "0UmyfctOLZAz"
   },
   "source": [
    "① 교차표(pd.crosstab())"
   ]
  },
  {
   "cell_type": "code",
   "execution_count": 157,
   "metadata": {
    "id": "qkS8v_BxX3Gk"
   },
   "outputs": [
    {
     "data": {
      "text/html": [
       "<div>\n",
       "<style scoped>\n",
       "    .dataframe tbody tr th:only-of-type {\n",
       "        vertical-align: middle;\n",
       "    }\n",
       "\n",
       "    .dataframe tbody tr th {\n",
       "        vertical-align: top;\n",
       "    }\n",
       "\n",
       "    .dataframe thead th {\n",
       "        text-align: right;\n",
       "    }\n",
       "</style>\n",
       "<table border=\"1\" class=\"dataframe\">\n",
       "  <thead>\n",
       "    <tr style=\"text-align: right;\">\n",
       "      <th>CONSIDERING_CHANGE_OF_PLAN</th>\n",
       "      <th>actively_looking_into_it</th>\n",
       "      <th>considering</th>\n",
       "      <th>never_thought</th>\n",
       "      <th>no</th>\n",
       "      <th>perhaps</th>\n",
       "    </tr>\n",
       "    <tr>\n",
       "      <th>CHURN</th>\n",
       "      <th></th>\n",
       "      <th></th>\n",
       "      <th></th>\n",
       "      <th></th>\n",
       "      <th></th>\n",
       "    </tr>\n",
       "  </thead>\n",
       "  <tbody>\n",
       "    <tr>\n",
       "      <th>0</th>\n",
       "      <td>0.511565</td>\n",
       "      <td>0.510853</td>\n",
       "      <td>0.513304</td>\n",
       "      <td>0.500274</td>\n",
       "      <td>0.475992</td>\n",
       "    </tr>\n",
       "    <tr>\n",
       "      <th>1</th>\n",
       "      <td>0.488435</td>\n",
       "      <td>0.489147</td>\n",
       "      <td>0.486696</td>\n",
       "      <td>0.499726</td>\n",
       "      <td>0.524008</td>\n",
       "    </tr>\n",
       "  </tbody>\n",
       "</table>\n",
       "</div>"
      ],
      "text/plain": [
       "CONSIDERING_CHANGE_OF_PLAN  actively_looking_into_it  considering  \\\n",
       "CHURN                                                               \n",
       "0                                           0.511565     0.510853   \n",
       "1                                           0.488435     0.489147   \n",
       "\n",
       "CONSIDERING_CHANGE_OF_PLAN  never_thought        no   perhaps  \n",
       "CHURN                                                          \n",
       "0                                0.513304  0.500274  0.475992  \n",
       "1                                0.486696  0.499726  0.524008  "
      ]
     },
     "execution_count": 157,
     "metadata": {},
     "output_type": "execute_result"
    }
   ],
   "source": [
    "temp = pd.crosstab(mobile[target], mobile[feature], normalize = 'columns')\n",
    "temp"
   ]
  },
  {
   "cell_type": "markdown",
   "metadata": {
    "id": "Wjo9OCLWLZA0"
   },
   "source": [
    "② 시각화( Stacked Bar, Mosaic)"
   ]
  },
  {
   "cell_type": "code",
   "execution_count": 159,
   "metadata": {
    "id": "eLZgTrQqYciB"
   },
   "outputs": [
    {
     "name": "stdout",
     "output_type": "stream",
     "text": [
      "CHURN                              0         1\n",
      "CONSIDERING_CHANGE_OF_PLAN                    \n",
      "actively_looking_into_it    0.511565  0.488435\n",
      "considering                 0.510853  0.489147\n",
      "never_thought               0.513304  0.486696\n",
      "no                          0.500274  0.499726\n",
      "perhaps                     0.475992  0.524008\n"
     ]
    },
    {
     "data": {
      "image/png": "[encoded data removed]",
      "text/plain": [
       "<Figure size 432x288 with 1 Axes>"
      ]
     },
     "metadata": {
      "needs_background": "light"
     },
     "output_type": "display_data"
    }
   ],
   "source": [
    "temp = pd.crosstab(mobile[feature], mobile[target], normalize = 'index')\n",
    "print(temp)\n",
    "\n",
    "temp.plot.bar(stacked = True)\n",
    "plt.axhline(1-mobile[target].mean(), color = 'r')\n",
    "plt.xticks(rotation = 70)\n",
    "plt.show()"
   ]
  },
  {
   "cell_type": "code",
   "execution_count": 160,
   "metadata": {
    "id": "RVjIC6RsaQfv",
    "scrolled": true
   },
   "outputs": [
    {
     "data": {
      "image/png": "[encoded data removed]",
      "text/plain": [
       "<Figure size 432x288 with 3 Axes>"
      ]
     },
     "metadata": {
      "needs_background": "light"
     },
     "output_type": "display_data"
    }
   ],
   "source": [
    "mosaic(mobile, [feature, target])\n",
    "plt.axhline(1-mobile[target].mean(), color = 'r')\n",
    "plt.show()"
   ]
  },
  {
   "cell_type": "markdown",
   "metadata": {
    "id": "BdNn9DkYLZA0"
   },
   "source": [
    "시각화를 통해 파악한 내용을 적어 봅시다."
   ]
  },
  {
   "cell_type": "markdown",
   "metadata": {
    "id": "DG4sUGNxLZA0"
   },
   "source": [
    "> 시각적으로 관련이 없어 보인다"
   ]
  },
  {
   "cell_type": "markdown",
   "metadata": {
    "id": "lqhgW7HGLZA0"
   },
   "source": [
    "③ 가설검정(카이제곱검정)"
   ]
  },
  {
   "cell_type": "code",
   "execution_count": 161,
   "metadata": {
    "id": "vMjinA9nLP2_"
   },
   "outputs": [
    {
     "name": "stdout",
     "output_type": "stream",
     "text": [
      "교차표\n",
      " CHURN                          0     1\n",
      "CONSIDERING_CHANGE_OF_PLAN            \n",
      "actively_looking_into_it    2278  2175\n",
      "considering                 3648  3493\n",
      "never_thought                926   878\n",
      "no                          1823  1821\n",
      "perhaps                      456   502\n",
      "==================================================\n",
      "카이제곱통계량 : 5.421434419620688\n",
      "p-value : 0.24672225866799702\n",
      "자유도 : 4\n",
      "기대빈도 :\n",
      " [[2258.90794444 2194.09205556]\n",
      " [3622.47061111 3518.52938889]\n",
      " [ 915.12911111  888.87088889]\n",
      " [1848.52022222 1795.47977778]\n",
      " [ 485.97211111  472.02788889]]\n"
     ]
    }
   ],
   "source": [
    "# 먼저 집계\n",
    "table = pd.crosstab(mobile[feature], mobile[target])\n",
    "print('교차표\\n', table)\n",
    "print('='*50)\n",
    "\n",
    "# 카이제곱검정\n",
    "result = spst.chi2_contingency(table)\n",
    "print(\"카이제곱통계량 : {}\".format(result[0]))\n",
    "print('p-value : {}'.format(result[1]))\n",
    "print('자유도 : {}'.format(result[2]))\n",
    "print('기대빈도 :\\n {}'.format(result[3]))"
   ]
  },
  {
   "cell_type": "markdown",
   "metadata": {
    "id": "7vM4xafWLZA0"
   },
   "source": [
    "④ 시각화와 가설검정을 통해서 파악한 내용을 적어 봅시다."
   ]
  },
  {
   "cell_type": "markdown",
   "metadata": {
    "id": "Eg_fzBzqbj0U"
   },
   "source": [
    "> v-value가 0.05보다 크므로, CONSIDERING_CHANGE_OF_PLAN(변경 계획 설문) )와 CHURN(이탈여부)는 관련이 없다."
   ]
  },
  {
   "cell_type": "markdown",
   "metadata": {
    "id": "lUsQ0iBHMqte"
   },
   "source": [
    "### (2) 숫자형 Feature --> 범주형 CHURN\n",
    "\n",
    "* 숫자형 Feature에 대해서 Y와 비교하여 차트를 그리고 수치화 하시오.  \n",
    "    ① 그래프 : histogram, densityplot   \n",
    "    ② 수치화 : 로지스틱회귀"
   ]
  },
  {
   "cell_type": "markdown",
   "metadata": {
    "id": "F_Mugk3f_y3X"
   },
   "source": [
    "#### 1)  INCOME(연 수입액(달러)) --> CHURN\n"
   ]
  },
  {
   "cell_type": "code",
   "execution_count": 162,
   "metadata": {
    "id": "8ROLKtUueHSn"
   },
   "outputs": [],
   "source": [
    "feature = 'INCOME'"
   ]
  },
  {
   "cell_type": "markdown",
   "metadata": {
    "id": "iZwchGY8eRH_"
   },
   "source": [
    "① 그래프 : histogram, densityplot"
   ]
  },
  {
   "cell_type": "code",
   "execution_count": 163,
   "metadata": {
    "id": "zkMwa2_hLj0J",
    "scrolled": true
   },
   "outputs": [
    {
     "data": {
      "image/png": "[encoded data removed]",
      "text/plain": [
       "<Figure size 432x288 with 1 Axes>"
      ]
     },
     "metadata": {
      "needs_background": "light"
     },
     "output_type": "display_data"
    }
   ],
   "source": [
    "sns.histplot(x=feature, data = mobile, hue = target)\n",
    "plt.show()"
   ]
  },
  {
   "cell_type": "code",
   "execution_count": 167,
   "metadata": {},
   "outputs": [
    {
     "data": {
      "image/png": "[encoded data removed]",
      "text/plain": [
       "<Figure size 432x288 with 1 Axes>"
      ]
     },
     "metadata": {
      "needs_background": "light"
     },
     "output_type": "display_data"
    }
   ],
   "source": [
    "m0 = mobile.loc[mobile[target]==0]\n",
    "m1 = mobile.loc[mobile[target]==1]\n",
    "\n",
    "sns.kdeplot(x=feature, data = m0, label = '0: stay')\n",
    "sns.kdeplot(x=feature, data = m1, label = '1: out')\n",
    "plt.legend()\n",
    "plt.show()"
   ]
  },
  {
   "cell_type": "markdown",
   "metadata": {
    "id": "62LpmfYBfADw"
   },
   "source": [
    "시각화를 통해 파악한 내용을 적어 봅시다."
   ]
  },
  {
   "cell_type": "markdown",
   "metadata": {
    "id": "36-jxwdxLnQd"
   },
   "source": [
    "> INCOME(연 수입액(달러))와 CHURN(이탈여부)는 관련이 조금 있어보인다."
   ]
  },
  {
   "cell_type": "markdown",
   "metadata": {
    "id": "AMOh1uw2fVoO"
   },
   "source": [
    "② 수치화 : 로지스틱회귀"
   ]
  },
  {
   "cell_type": "code",
   "execution_count": 169,
   "metadata": {
    "id": "_trwmx6iLn5M",
    "scrolled": true
   },
   "outputs": [
    {
     "name": "stdout",
     "output_type": "stream",
     "text": [
      "Optimization terminated successfully.\n",
      "         Current function value: 0.692683\n",
      "         Iterations 2\n",
      "p-value: INCOME    0.000044\n",
      "dtype: float64\n"
     ]
    }
   ],
   "source": [
    "model = sm.Logit(mobile[target], mobile[feature])\n",
    "result = model.fit()\n",
    "print('p-value: {}'.format(result.pvalues))"
   ]
  },
  {
   "cell_type": "markdown",
   "metadata": {
    "id": "1QGY11sufcJ1"
   },
   "source": [
    "③ 시각화와 수치화를 통해 파악한 내용을 적어 봅시다."
   ]
  },
  {
   "cell_type": "markdown",
   "metadata": {
    "id": "Eg_fzBzqbj0U"
   },
   "source": [
    "> v-value가 0.05보다 작으므로, CONSIDERING_CHANGE_OF_PLAN(변경 계획 설문) )와 CHURN(이탈여부)는 관련이 있다. (약한 관계)"
   ]
  },
  {
   "cell_type": "markdown",
   "metadata": {
    "id": "QwikcGXELsny"
   },
   "source": [
    "#### 2) OVERAGE(월 초과사용 시간(분)) --> CHURN\n"
   ]
  },
  {
   "cell_type": "code",
   "execution_count": 170,
   "metadata": {
    "id": "bGWLTAg9Lsny"
   },
   "outputs": [],
   "source": [
    "feature = 'OVERAGE'"
   ]
  },
  {
   "cell_type": "markdown",
   "metadata": {
    "id": "sc7eLRzfLsny"
   },
   "source": [
    "① 그래프 : histogram, densityplot"
   ]
  },
  {
   "cell_type": "code",
   "execution_count": 171,
   "metadata": {
    "id": "zkMwa2_hLj0J",
    "scrolled": false
   },
   "outputs": [
    {
     "data": {
      "image/png": "[encoded data removed]",
      "text/plain": [
       "<Figure size 432x288 with 1 Axes>"
      ]
     },
     "metadata": {
      "needs_background": "light"
     },
     "output_type": "display_data"
    }
   ],
   "source": [
    "sns.histplot(x=feature, data = mobile, hue = target)\n",
    "plt.show()"
   ]
  },
  {
   "cell_type": "code",
   "execution_count": 172,
   "metadata": {},
   "outputs": [
    {
     "data": {
      "image/png": "[encoded data removed]",
      "text/plain": [
       "<Figure size 432x288 with 1 Axes>"
      ]
     },
     "metadata": {
      "needs_background": "light"
     },
     "output_type": "display_data"
    }
   ],
   "source": [
    "m0 = mobile.loc[mobile[target]==0]\n",
    "m1 = mobile.loc[mobile[target]==1]\n",
    "\n",
    "sns.kdeplot(x=feature, data = m0, label = '0: stay')\n",
    "sns.kdeplot(x=feature, data = m1, label = '1: out')\n",
    "plt.legend()\n",
    "plt.show()"
   ]
  },
  {
   "cell_type": "markdown",
   "metadata": {
    "id": "-S8NZ40hLsnz"
   },
   "source": [
    "시각화를 통해 파악한 내용을 적어 봅시다."
   ]
  },
  {
   "cell_type": "markdown",
   "metadata": {
    "id": "36-jxwdxLnQd"
   },
   "source": [
    "> OVERAGE(월 초과사용 시간(분)) 와 CHURN(이탈여부)는 관련이 조금 커보인다."
   ]
  },
  {
   "cell_type": "markdown",
   "metadata": {
    "id": "YasEY4wlLsnz"
   },
   "source": [
    "② 수치화 : 로지스틱회귀"
   ]
  },
  {
   "cell_type": "code",
   "execution_count": 173,
   "metadata": {
    "id": "_trwmx6iLn5M",
    "scrolled": false
   },
   "outputs": [
    {
     "name": "stdout",
     "output_type": "stream",
     "text": [
      "Optimization terminated successfully.\n",
      "         Current function value: 0.680553\n",
      "         Iterations 4\n",
      "p-value: OVERAGE    3.529820e-97\n",
      "dtype: float64\n"
     ]
    }
   ],
   "source": [
    "model = sm.Logit(mobile[target], mobile[feature])\n",
    "result = model.fit()\n",
    "print('p-value: {}'.format(result.pvalues))"
   ]
  },
  {
   "cell_type": "markdown",
   "metadata": {
    "id": "KCY04YNhLsnz"
   },
   "source": [
    "③ 시각화와 수치화를 통해 파악한 내용을 적어 봅시다."
   ]
  },
  {
   "cell_type": "markdown",
   "metadata": {
    "id": "Eg_fzBzqbj0U"
   },
   "source": [
    "> v-value가 0.05보다 작으므로, OVERAGE(월 초과사용 시간(분))와 CHURN(이탈여부)는 관련이 있다. (강한 관계)"
   ]
  },
  {
   "cell_type": "markdown",
   "metadata": {},
   "source": [
    "> 회사에 수익을 창출시켜주는 고객이 이탈률이 가장높다. 이러한 이탈률을 낮추기 위해 전략을 세울 필요가 있다."
   ]
  },
  {
   "cell_type": "markdown",
   "metadata": {
    "id": "KkyjTXOqLsyK"
   },
   "source": [
    "#### 3) LEFTOVER(월 사용 잔여시간(분)) --> CHURN\n"
   ]
  },
  {
   "cell_type": "code",
   "execution_count": 174,
   "metadata": {
    "id": "ZNHDXzGALsyK"
   },
   "outputs": [],
   "source": [
    "feature = 'LEFTOVER'"
   ]
  },
  {
   "cell_type": "markdown",
   "metadata": {
    "id": "LbKQ02H1LsyK"
   },
   "source": [
    "① 그래프 : histogram, densityplot"
   ]
  },
  {
   "cell_type": "code",
   "execution_count": 175,
   "metadata": {
    "id": "zkMwa2_hLj0J",
    "scrolled": false
   },
   "outputs": [
    {
     "data": {
      "image/png": "[encoded data removed]",
      "text/plain": [
       "<Figure size 432x288 with 1 Axes>"
      ]
     },
     "metadata": {
      "needs_background": "light"
     },
     "output_type": "display_data"
    }
   ],
   "source": [
    "sns.histplot(x=feature, data = mobile, hue = target)\n",
    "plt.show()"
   ]
  },
  {
   "cell_type": "code",
   "execution_count": 176,
   "metadata": {},
   "outputs": [
    {
     "data": {
      "image/png": "[encoded data removed]",
      "text/plain": [
       "<Figure size 432x288 with 1 Axes>"
      ]
     },
     "metadata": {
      "needs_background": "light"
     },
     "output_type": "display_data"
    }
   ],
   "source": [
    "m0 = mobile.loc[mobile[target]==0]\n",
    "m1 = mobile.loc[mobile[target]==1]\n",
    "\n",
    "sns.kdeplot(x=feature, data = m0, label = '0: stay')\n",
    "sns.kdeplot(x=feature, data = m1, label = '1: out')\n",
    "plt.legend()\n",
    "plt.show()"
   ]
  },
  {
   "cell_type": "markdown",
   "metadata": {
    "id": "54OoAr6HLsyK"
   },
   "source": [
    "시각화를 통해 파악한 내용을 적어 봅시다."
   ]
  },
  {
   "cell_type": "markdown",
   "metadata": {
    "id": "36-jxwdxLnQd"
   },
   "source": [
    "> LEFTOVER(월 사용 잔여시간(분)) 와 CHURN(이탈여부)는 관련이 커보인다."
   ]
  },
  {
   "cell_type": "markdown",
   "metadata": {
    "id": "GFqQUDBpLsyL"
   },
   "source": [
    "② 수치화 : 로지스틱회귀"
   ]
  },
  {
   "cell_type": "code",
   "execution_count": 177,
   "metadata": {
    "id": "_trwmx6iLn5M",
    "scrolled": false
   },
   "outputs": [
    {
     "name": "stdout",
     "output_type": "stream",
     "text": [
      "Optimization terminated successfully.\n",
      "         Current function value: 0.692532\n",
      "         Iterations 3\n",
      "p-value: LEFTOVER    0.000003\n",
      "dtype: float64\n"
     ]
    }
   ],
   "source": [
    "model = sm.Logit(mobile[target], mobile[feature])\n",
    "result = model.fit()\n",
    "print('p-value: {}'.format(result.pvalues))"
   ]
  },
  {
   "cell_type": "markdown",
   "metadata": {
    "id": "-Z-KF5qfLsyL"
   },
   "source": [
    "③ 시각화와 수치화를 통해 파악한 내용을 적어 봅시다."
   ]
  },
  {
   "cell_type": "markdown",
   "metadata": {
    "id": "Eg_fzBzqbj0U"
   },
   "source": [
    "> v-value가 0.05보다 작으므로, LEFTOVER(월 사용 잔여시간(분))와 CHURN(이탈여부)는 관련이 있다. (강한 관계)"
   ]
  },
  {
   "cell_type": "markdown",
   "metadata": {
    "id": "Jd4WbbU-jqU3"
   },
   "source": [
    "## 4.관계 정리"
   ]
  },
  {
   "cell_type": "markdown",
   "metadata": {
    "id": "bKmN0rtAjto6"
   },
   "source": [
    "### 1) 강한관계의 변수"
   ]
  },
  {
   "cell_type": "markdown",
   "metadata": {
    "id": "lx6Np73PL0YS"
   },
   "source": [
    "> HOUSE, LEFTOVER, OVERAGE"
   ]
  },
  {
   "cell_type": "markdown",
   "metadata": {
    "id": "u8B765zNjwp5"
   },
   "source": [
    "### 2) 약한관계의 변수"
   ]
  },
  {
   "cell_type": "markdown",
   "metadata": {
    "id": "kg8-QylzL1kE"
   },
   "source": [
    "> HANDSET_PRICE,INCOME"
   ]
  },
  {
   "cell_type": "markdown",
   "metadata": {
    "id": "eYiQ9OUijwdq"
   },
   "source": [
    "### 3) 관계 없음"
   ]
  },
  {
   "cell_type": "markdown",
   "metadata": {
    "id": "K0o6lwH5L2Wj"
   },
   "source": [
    "> COLLEGE, REPORTED_SATISFACTION, CONSIDERING_CHANGE_OF_PLAN"
   ]
  },
  {
   "cell_type": "markdown",
   "metadata": {
    "id": "nePF6KE6jlX6"
   },
   "source": [
    "## 5.추가 분석"
   ]
  },
  {
   "cell_type": "markdown",
   "metadata": {},
   "source": [
    "> 결론"
   ]
  },
  {
   "cell_type": "markdown",
   "metadata": {},
   "source": [
    "- 이탈에 약하게 영향을 주는 요인\n",
    "핸드폰 가격이 높을수록 이탈을 더 많이 하는 경향이 있다. 이것은 핸드폰 가격이 높음에 따라 더 나은 서비스를 기대할 것이라는\n",
    "소비자의 심리가 반영된 것으로 추측된다. 핸드폰 가격이 높은 고객들에게 더 나은 서비스를 혹은 특별 서비스를 제공한다면 \n",
    "이탈을 막을 수 있을 것이라 생각한다. "
   ]
  },
  {
   "cell_type": "markdown",
   "metadata": {
    "id": "B8E9F24bkYTn"
   },
   "source": [
    "- 이탈에 관계없는 요인\n",
    "만족도 설문, 변경 계획 설문은 고객의 답변이 성실히 임하였는지에 대한 여부를 판단할 수 없기 때문에 설문이라는 특성상 \n",
    "참고자료로만 사용되는 것이 좋다고 생각한다. 이탈과 상관관계가 없다고 나오는데,  Power BI를 통해 다른 범주와 종합적으로 \n",
    "분석할 필요가 있다."
   ]
  }
 ],
 "metadata": {
  "colab": {
   "collapsed_sections": [],
   "name": "과제2. Mobile 고객 이탈 분석.ipynb",
   "provenance": [],
   "toc_visible": true
  },
  "kernelspec": {
   "display_name": "Python 3",
   "language": "python",
   "name": "python3"
  },
  "language_info": {
   "codemirror_mode": {
    "name": "ipython",
    "version": 3
   },
   "file_extension": ".py",
   "mimetype": "text/x-python",
   "name": "python",
   "nbconvert_exporter": "python",
   "pygments_lexer": "ipython3",
   "version": "3.8.8"
  }
 },
 "nbformat": 4,
 "nbformat_minor": 1
}
