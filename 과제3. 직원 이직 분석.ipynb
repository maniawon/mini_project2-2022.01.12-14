{
 "cells": [
  {
   "cell_type": "markdown",
   "metadata": {
    "id": "mTt7qGUTCcFs"
   },
   "source": [
    "# 과제3. 직원 이직 분석"
   ]
  },
  {
   "cell_type": "markdown",
   "metadata": {
    "id": "wxRsRRwbEQ2K"
   },
   "source": [
    "* 여러분은 OO회사의 **데이터분석가** 입니다.\n",
    "* **인사팀**에서는 여러분에게 우리 회사 직원의 **이직(Attrition)에 영향을 주는 요인**을 분석해달라고 요청해 왔습니다."
   ]
  },
  {
   "cell_type": "markdown",
   "metadata": {
    "id": "0wuYJKZHjA3d"
   },
   "source": [
    "![](https://adoptostaging.blob.core.windows.net/media/employee-attrition-reasons-9LIqMv.jpg)"
   ]
  },
  {
   "cell_type": "markdown",
   "metadata": {
    "id": "AHmt88Q5EVsj"
   },
   "source": [
    "## 0.환경설정"
   ]
  },
  {
   "cell_type": "markdown",
   "metadata": {
    "id": "KnzVh2LmkLDU"
   },
   "source": [
    "### 1) 라이브러리 로딩"
   ]
  },
  {
   "cell_type": "code",
   "execution_count": 124,
   "metadata": {
    "colab": {
     "base_uri": "https://localhost:8080/"
    },
    "executionInfo": {
     "elapsed": 1814,
     "status": "ok",
     "timestamp": 1642116812855,
     "user": {
      "displayName": "한기영",
      "photoUrl": "https://lh3.googleusercontent.com/a/default-user=s64",
      "userId": "13049187003176135487"
     },
     "user_tz": -540
    },
    "id": "3rsQerEaELwI",
    "outputId": "311fa740-af96-4f17-df74-b950f836c97e"
   },
   "outputs": [],
   "source": [
    "import pandas as pd\n",
    "import numpy as np\n",
    "import matplotlib.pyplot as plt\n",
    "import seaborn as sns\n",
    "\n",
    "from statsmodels.graphics.mosaicplot import mosaic\n",
    "from scipy import stats as spst\n",
    "import statsmodels.api as sm"
   ]
  },
  {
   "cell_type": "markdown",
   "metadata": {
    "id": "5Qh5KYWokO_N"
   },
   "source": [
    "### 2) 데이터 로딩"
   ]
  },
  {
   "cell_type": "code",
   "execution_count": 125,
   "metadata": {
    "colab": {
     "base_uri": "https://localhost:8080/",
     "height": 427
    },
    "executionInfo": {
     "elapsed": 276,
     "status": "ok",
     "timestamp": 1642116994336,
     "user": {
      "displayName": "한기영",
      "photoUrl": "https://lh3.googleusercontent.com/a/default-user=s64",
      "userId": "13049187003176135487"
     },
     "user_tz": -540
    },
    "id": "Bw5yZwT0MJKx",
    "outputId": "197c4587-f9a3-419f-c89a-745ff72ab54a"
   },
   "outputs": [
    {
     "data": {
      "text/html": [
       "<div>\n",
       "<style scoped>\n",
       "    .dataframe tbody tr th:only-of-type {\n",
       "        vertical-align: middle;\n",
       "    }\n",
       "\n",
       "    .dataframe tbody tr th {\n",
       "        vertical-align: top;\n",
       "    }\n",
       "\n",
       "    .dataframe thead th {\n",
       "        text-align: right;\n",
       "    }\n",
       "</style>\n",
       "<table border=\"1\" class=\"dataframe\">\n",
       "  <thead>\n",
       "    <tr style=\"text-align: right;\">\n",
       "      <th></th>\n",
       "      <th>Attrition</th>\n",
       "      <th>Age</th>\n",
       "      <th>DistanceFromHome</th>\n",
       "      <th>Gender</th>\n",
       "      <th>JobSatisfaction</th>\n",
       "      <th>MaritalStatus</th>\n",
       "      <th>MonthlyIncome</th>\n",
       "      <th>NumCompaniesWorked</th>\n",
       "      <th>OverTime</th>\n",
       "      <th>PercentSalaryHike</th>\n",
       "      <th>RelationshipSatisfaction</th>\n",
       "      <th>TotalWorkingYears</th>\n",
       "      <th>WorkLifeBalance</th>\n",
       "    </tr>\n",
       "  </thead>\n",
       "  <tbody>\n",
       "    <tr>\n",
       "      <th>0</th>\n",
       "      <td>0</td>\n",
       "      <td>33</td>\n",
       "      <td>7.0</td>\n",
       "      <td>Male</td>\n",
       "      <td>3</td>\n",
       "      <td>Married</td>\n",
       "      <td>11691</td>\n",
       "      <td>0.0</td>\n",
       "      <td>No</td>\n",
       "      <td>11</td>\n",
       "      <td>4</td>\n",
       "      <td>14</td>\n",
       "      <td>4</td>\n",
       "    </tr>\n",
       "    <tr>\n",
       "      <th>1</th>\n",
       "      <td>0</td>\n",
       "      <td>35</td>\n",
       "      <td>18.0</td>\n",
       "      <td>Male</td>\n",
       "      <td>4</td>\n",
       "      <td>Single</td>\n",
       "      <td>9362</td>\n",
       "      <td>2.0</td>\n",
       "      <td>No</td>\n",
       "      <td>11</td>\n",
       "      <td>3</td>\n",
       "      <td>10</td>\n",
       "      <td>3</td>\n",
       "    </tr>\n",
       "    <tr>\n",
       "      <th>2</th>\n",
       "      <td>0</td>\n",
       "      <td>42</td>\n",
       "      <td>6.0</td>\n",
       "      <td>Male</td>\n",
       "      <td>1</td>\n",
       "      <td>Married</td>\n",
       "      <td>13348</td>\n",
       "      <td>9.0</td>\n",
       "      <td>No</td>\n",
       "      <td>13</td>\n",
       "      <td>2</td>\n",
       "      <td>18</td>\n",
       "      <td>4</td>\n",
       "    </tr>\n",
       "    <tr>\n",
       "      <th>3</th>\n",
       "      <td>0</td>\n",
       "      <td>46</td>\n",
       "      <td>2.0</td>\n",
       "      <td>Female</td>\n",
       "      <td>1</td>\n",
       "      <td>Married</td>\n",
       "      <td>17048</td>\n",
       "      <td>8.0</td>\n",
       "      <td>No</td>\n",
       "      <td>23</td>\n",
       "      <td>1</td>\n",
       "      <td>28</td>\n",
       "      <td>3</td>\n",
       "    </tr>\n",
       "    <tr>\n",
       "      <th>4</th>\n",
       "      <td>0</td>\n",
       "      <td>39</td>\n",
       "      <td>NaN</td>\n",
       "      <td>Male</td>\n",
       "      <td>4</td>\n",
       "      <td>Divorced</td>\n",
       "      <td>4127</td>\n",
       "      <td>2.0</td>\n",
       "      <td>No</td>\n",
       "      <td>18</td>\n",
       "      <td>4</td>\n",
       "      <td>7</td>\n",
       "      <td>3</td>\n",
       "    </tr>\n",
       "    <tr>\n",
       "      <th>5</th>\n",
       "      <td>1</td>\n",
       "      <td>22</td>\n",
       "      <td>4.0</td>\n",
       "      <td>Male</td>\n",
       "      <td>3</td>\n",
       "      <td>Single</td>\n",
       "      <td>3894</td>\n",
       "      <td>5.0</td>\n",
       "      <td>No</td>\n",
       "      <td>16</td>\n",
       "      <td>3</td>\n",
       "      <td>4</td>\n",
       "      <td>3</td>\n",
       "    </tr>\n",
       "    <tr>\n",
       "      <th>6</th>\n",
       "      <td>0</td>\n",
       "      <td>24</td>\n",
       "      <td>21.0</td>\n",
       "      <td>Male</td>\n",
       "      <td>1</td>\n",
       "      <td>Divorced</td>\n",
       "      <td>2296</td>\n",
       "      <td>0.0</td>\n",
       "      <td>No</td>\n",
       "      <td>14</td>\n",
       "      <td>2</td>\n",
       "      <td>2</td>\n",
       "      <td>3</td>\n",
       "    </tr>\n",
       "    <tr>\n",
       "      <th>7</th>\n",
       "      <td>0</td>\n",
       "      <td>34</td>\n",
       "      <td>8.0</td>\n",
       "      <td>Male</td>\n",
       "      <td>3</td>\n",
       "      <td>Married</td>\n",
       "      <td>4404</td>\n",
       "      <td>2.0</td>\n",
       "      <td>No</td>\n",
       "      <td>12</td>\n",
       "      <td>1</td>\n",
       "      <td>6</td>\n",
       "      <td>4</td>\n",
       "    </tr>\n",
       "    <tr>\n",
       "      <th>8</th>\n",
       "      <td>0</td>\n",
       "      <td>30</td>\n",
       "      <td>20.0</td>\n",
       "      <td>Male</td>\n",
       "      <td>1</td>\n",
       "      <td>Married</td>\n",
       "      <td>9957</td>\n",
       "      <td>0.0</td>\n",
       "      <td>No</td>\n",
       "      <td>15</td>\n",
       "      <td>3</td>\n",
       "      <td>7</td>\n",
       "      <td>2</td>\n",
       "    </tr>\n",
       "    <tr>\n",
       "      <th>9</th>\n",
       "      <td>0</td>\n",
       "      <td>26</td>\n",
       "      <td>6.0</td>\n",
       "      <td>Female</td>\n",
       "      <td>4</td>\n",
       "      <td>Married</td>\n",
       "      <td>2659</td>\n",
       "      <td>1.0</td>\n",
       "      <td>Yes</td>\n",
       "      <td>13</td>\n",
       "      <td>3</td>\n",
       "      <td>3</td>\n",
       "      <td>3</td>\n",
       "    </tr>\n",
       "  </tbody>\n",
       "</table>\n",
       "</div>"
      ],
      "text/plain": [
       "   Attrition  Age  DistanceFromHome  Gender  JobSatisfaction MaritalStatus  \\\n",
       "0          0   33               7.0    Male                3       Married   \n",
       "1          0   35              18.0    Male                4        Single   \n",
       "2          0   42               6.0    Male                1       Married   \n",
       "3          0   46               2.0  Female                1       Married   \n",
       "4          0   39               NaN    Male                4      Divorced   \n",
       "5          1   22               4.0    Male                3        Single   \n",
       "6          0   24              21.0    Male                1      Divorced   \n",
       "7          0   34               8.0    Male                3       Married   \n",
       "8          0   30              20.0    Male                1       Married   \n",
       "9          0   26               6.0  Female                4       Married   \n",
       "\n",
       "   MonthlyIncome  NumCompaniesWorked OverTime  PercentSalaryHike  \\\n",
       "0          11691                 0.0       No                 11   \n",
       "1           9362                 2.0       No                 11   \n",
       "2          13348                 9.0       No                 13   \n",
       "3          17048                 8.0       No                 23   \n",
       "4           4127                 2.0       No                 18   \n",
       "5           3894                 5.0       No                 16   \n",
       "6           2296                 0.0       No                 14   \n",
       "7           4404                 2.0       No                 12   \n",
       "8           9957                 0.0       No                 15   \n",
       "9           2659                 1.0      Yes                 13   \n",
       "\n",
       "   RelationshipSatisfaction  TotalWorkingYears  WorkLifeBalance  \n",
       "0                         4                 14                4  \n",
       "1                         3                 10                3  \n",
       "2                         2                 18                4  \n",
       "3                         1                 28                3  \n",
       "4                         4                  7                3  \n",
       "5                         3                  4                3  \n",
       "6                         2                  2                3  \n",
       "7                         1                  6                4  \n",
       "8                         3                  7                2  \n",
       "9                         3                  3                3  "
      ]
     },
     "execution_count": 125,
     "metadata": {},
     "output_type": "execute_result"
    }
   ],
   "source": [
    "# data data\n",
    "path = \"https://raw.githubusercontent.com/DA4BAM/dataset/master/Attrition_NA.CSV\"\n",
    "data = pd.read_csv(path)\n",
    "data.drop(['EducationField', 'Education','JobInvolvement', 'StockOptionLevel', 'BusinessTravel','YearsWithCurrManager'\n",
    ",'YearsInCurrentRole','JobRole', 'Department','EmployeeNumber','EnvironmentSatisfaction','TrainingTimesLastYear','YearsAtCompany']\n",
    "          , axis = 1, inplace = True)\n",
    "data['Attrition'] = np.where(data['Attrition']=='Yes', 1, 0)\n",
    "data.head(10)"
   ]
  },
  {
   "cell_type": "markdown",
   "metadata": {
    "id": "v50TP8BhMJKx"
   },
   "source": [
    "|\t구분\t|\t변수 명\t|\t내용\t|\ttype\t|\t비고\t|\n",
    "|\t----\t|\t----\t|\t----\t|\t----\t|\t----\t|\n",
    "|\t**Target**\t|\t**Attrition**\t|\t이직여부, Yes , No\t|\t범주\t| 1- 이직, 0- 잔류\t\t|\n",
    "|\tfeature\t|\tAge\t|\t나이\t|\t숫자\t|\t\t|\n",
    "|\tfeature\t|\tDistanceFromHome\t|\t집-직장 거리\t|\t숫자\t|\t마일\t|\n",
    "|\tfeature\t|\tGender\t|\t성별\t|\t범주\t| Male, Female\t\t|\n",
    "|\tfeature\t|\tJobSatisfaction\t|\t직무 만족도\t|\t범주\t|\t1 Low, 2 Medium, 3 High, 4 Very High\t|\n",
    "|\tfeature\t|\tMaritalStatus\t|\t결혼상태\t|\t범주\t| Single, Married, Divorced\t\t|\n",
    "|\tfeature\t|\tMonthlyIncome\t|\t월급\t|\t숫자\t| 달러\t|\n",
    "|\tfeature\t|\tNumCompaniesWorked\t|\t입사 전 근무한 회사 수\t|\t숫자\t|\t0 - 우리회사가 첫 직장\t|\n",
    "|\tfeature\t|\tRelationshipSatisfaction\t|\t동료와의 관계\t|\t범주\t| 1 Low, 2 Medium, 3 High, 4 Very High\t\t|\n",
    "|\tfeature\t|\tOverTime\t|\t야근여부\t|\t범주\t|\tYes, No\t|\n",
    "|\tfeature\t|\tPercentSalaryHike\t|\t전년대비 급여인상율\t|\t숫자\t|\t%\t|\n",
    "|\tfeature\t|\tTotalWorkingYears\t|\t총 경력 연수\t|\t숫자\t|\t\t|\n",
    "|\tfeature\t|\tWorkLifeBalance\t|\t워라밸. 일-삶 균형도\t|\t범주\t|\t1 Bad, 2 Good, 3 Better, 4 Best\t|"
   ]
  },
  {
   "cell_type": "markdown",
   "metadata": {},
   "source": [
    "* 분석 단위 : 직원 한사람, 한사람...\n",
    "* 설명에서 언급되어지지 않은 사항은 직접 고민하며 스스로 정해서 진행하시면 됩니다.^^\n",
    "* 자\\~! 이제 시작해 봅시다\\~!"
   ]
  },
  {
   "cell_type": "markdown",
   "metadata": {
    "id": "bKimk8qVm8oC"
   },
   "source": [
    "----"
   ]
  },
  {
   "cell_type": "markdown",
   "metadata": {
    "id": "0bouXLxGkSSd"
   },
   "source": [
    "## 1.가설수립"
   ]
  },
  {
   "cell_type": "markdown",
   "metadata": {
    "id": "nb3mes75kUSt"
   },
   "source": [
    "* 여기서는 가설을 간략히 수립합니다.\n",
    "    * 숫자형, 범주형 각각 최소 3개 이상씩, 전체 6개 이상의 변수를 도출, 가설을 수립하시오."
   ]
  },
  {
   "cell_type": "markdown",
   "metadata": {},
   "source": [
    "- <범주형 vs 범주형>"
   ]
  },
  {
   "cell_type": "markdown",
   "metadata": {
    "id": "HoZUdXCRkjK9"
   },
   "source": [
    "* 가설1 : 결혼을 하면 책임감이 필요로 하기 때문에, MaritalStatus(결혼상태)가 Married면 Attrition(이직여부)가 낮을 것이다."
   ]
  },
  {
   "cell_type": "markdown",
   "metadata": {
    "id": "l9X_boJ8kjEt"
   },
   "source": [
    "* 가설2 : RelationshipSatisfaction(동료와의 관계)가 좋을 수록 Attrition(이직여부)가 낮을 것이다."
   ]
  },
  {
   "cell_type": "markdown",
   "metadata": {
    "id": "3_gTMgCWki91"
   },
   "source": [
    "* 가설3 : WorkLifeBalance(워라밸. 일-삶 균형도)가 좋을 수록 Attrition(이직여부)가 낮을 것이다."
   ]
  },
  {
   "cell_type": "markdown",
   "metadata": {
    "id": "3_gTMgCWki91"
   },
   "source": [
    "* 가설9 : OverTime(야근여부)가 있을 수록 Attrition(이직여부)가 높을 것이다."
   ]
  },
  {
   "cell_type": "markdown",
   "metadata": {},
   "source": [
    "- <숫자형 vs 범주형>"
   ]
  },
  {
   "cell_type": "markdown",
   "metadata": {
    "id": "rSrSFnsVki2d"
   },
   "source": [
    "* 가설4 : DistanceFromHome(집-직장 거리)가 가까울 수록 Attrition(이직여부)가 낮을 것이다."
   ]
  },
  {
   "cell_type": "markdown",
   "metadata": {
    "id": "2lueFYjWktYt"
   },
   "source": [
    "* 가설5 : NumCompaniesWorked(입사 전 근무한 회사 수)가 높을 수록 Attrition(이직여부)가 높을 것이다."
   ]
  },
  {
   "cell_type": "markdown",
   "metadata": {
    "id": "U1RiPfhgYCr_"
   },
   "source": [
    "* 가설6 : PercentSalaryHike(전년대비 급여인상율)이 높을 수록  Attrition(이직여부)가 낮을 것이다."
   ]
  },
  {
   "cell_type": "markdown",
   "metadata": {
    "id": "U1RiPfhgYCr_"
   },
   "source": [
    "* 가설7 : TotalWorkingYears(총 경력 연수)이 높을 수록 Attrition(이직여부)가 낮을 것이다."
   ]
  },
  {
   "cell_type": "markdown",
   "metadata": {
    "id": "U1RiPfhgYCr_"
   },
   "source": [
    "* 가설8 : MonthlyIncome(월급)이 높을 수록 Attrition(이직여부)가 낮고 강한 관계가 있을 것이다."
   ]
  },
  {
   "cell_type": "markdown",
   "metadata": {
    "id": "82xzJIZhnAaX"
   },
   "source": [
    "----"
   ]
  },
  {
   "cell_type": "markdown",
   "metadata": {
    "id": "1hYPpnplEedX"
   },
   "source": [
    "## 2.단변량 분석\n",
    "\n",
    "① 변수의 비즈니스 의미  \n",
    "\n",
    "② 숫자? 범주?  \n",
    "\n",
    "③ NaN 존재 여부 및 조치 방안  \n",
    "\n",
    "④ 기초통계량  \n",
    "\n",
    "⑤ 분포  \n",
    "\n",
    "⑥ 위 정보로부터 파악한 내용(비즈니스!) 정리  \n",
    "\n",
    "⑦ 추가 분석해볼 사항 도출"
   ]
  },
  {
   "cell_type": "markdown",
   "metadata": {
    "id": "BP8iBi7We3AI"
   },
   "source": [
    "### 1) target : Attrition(이직여부)"
   ]
  },
  {
   "cell_type": "code",
   "execution_count": 126,
   "metadata": {},
   "outputs": [],
   "source": [
    "target = 'Attrition'"
   ]
  },
  {
   "cell_type": "markdown",
   "metadata": {
    "id": "6H1XUqWEIZ0c"
   },
   "source": [
    "① 변수의 비즈니스 의미"
   ]
  },
  {
   "cell_type": "markdown",
   "metadata": {
    "id": "9eV5dkLkMm78"
   },
   "source": [
    "> 이직여부  \n",
    "Yes 1- 이직  \n",
    "No 0- 잔류"
   ]
  },
  {
   "cell_type": "markdown",
   "metadata": {
    "id": "o9aiDpJZIZi-"
   },
   "source": [
    "② 숫자, 범주?"
   ]
  },
  {
   "cell_type": "markdown",
   "metadata": {
    "id": "fNO_u8-RKS0K"
   },
   "source": [
    "> 범주"
   ]
  },
  {
   "cell_type": "markdown",
   "metadata": {
    "id": "sKZWnu78IZT0"
   },
   "source": [
    "③ NaN 존재 유무"
   ]
  },
  {
   "cell_type": "code",
   "execution_count": 127,
   "metadata": {},
   "outputs": [
    {
     "data": {
      "text/plain": [
       "0"
      ]
     },
     "execution_count": 127,
     "metadata": {},
     "output_type": "execute_result"
    }
   ],
   "source": [
    "data[target].isna().sum()"
   ]
  },
  {
   "cell_type": "markdown",
   "metadata": {
    "id": "5d5JYEBCIZID"
   },
   "source": [
    "④ 기초통계량(수치화)"
   ]
  },
  {
   "cell_type": "code",
   "execution_count": 128,
   "metadata": {},
   "outputs": [
    {
     "name": "stdout",
     "output_type": "stream",
     "text": [
      "0    1050\n",
      "1     200\n",
      "Name: Attrition, dtype: int64\n",
      "\n",
      "0    0.84\n",
      "1    0.16\n",
      "Name: Attrition, dtype: float64\n"
     ]
    }
   ],
   "source": [
    "print(data[target].value_counts())\n",
    "print()\n",
    "print(data[target].value_counts()/ len(data[target]))"
   ]
  },
  {
   "cell_type": "markdown",
   "metadata": {
    "id": "e1yzg_B8IY5M"
   },
   "source": [
    "⑤ 분포 확인(시각화)"
   ]
  },
  {
   "cell_type": "code",
   "execution_count": 129,
   "metadata": {
    "id": "42ZDPDmKMmu8"
   },
   "outputs": [
    {
     "name": "stderr",
     "output_type": "stream",
     "text": [
      "C:\\Users\\User\\anaconda3\\lib\\site-packages\\seaborn\\_decorators.py:36: FutureWarning: Pass the following variable as a keyword arg: x. From version 0.12, the only valid positional argument will be `data`, and passing other arguments without an explicit keyword will result in an error or misinterpretation.\n",
      "  warnings.warn(\n"
     ]
    },
    {
     "data": {
      "image/png": "[encoded data removed]",
      "text/plain": [
       "<Figure size 432x288 with 1 Axes>"
      ]
     },
     "metadata": {
      "needs_background": "light"
     },
     "output_type": "display_data"
    }
   ],
   "source": [
    "sns.countplot(data[target])\n",
    "plt.show()"
   ]
  },
  {
   "cell_type": "code",
   "execution_count": 130,
   "metadata": {
    "id": "1b7NizWlMmqk"
   },
   "outputs": [
    {
     "data": {
      "image/png": "[encoded data removed]",
      "text/plain": [
       "<Figure size 432x288 with 1 Axes>"
      ]
     },
     "metadata": {},
     "output_type": "display_data"
    }
   ],
   "source": [
    "# 집계\n",
    "cnt = data[target].value_counts()\n",
    "\n",
    "# pie chart\n",
    "plt.pie(cnt.values, labels = cnt.index, autopct = '%.2f%%',\n",
    "       explode = [0.05, 0.05], shadow=True)\n",
    "plt.show()"
   ]
  },
  {
   "cell_type": "markdown",
   "metadata": {
    "id": "xYOwVs4UJkt5"
   },
   "source": [
    "6) 기초통계량과 분포를 통해서 파악한 내용을 적어 봅시다.\n",
    "\n",
    "보이는 그대로를 넘어, 비즈니스 관점에서 고민하며 적어 봅시다."
   ]
  },
  {
   "cell_type": "markdown",
   "metadata": {},
   "source": [
    "> 이직을 하지 않은 직원이 84%로 이직을 한 직원보다 많다.  \n",
    "> 전반적으로 회사에 만족하는 직원들이 많을 것으로 예상되고 분석결과도 그렇지 않을까?"
   ]
  },
  {
   "cell_type": "markdown",
   "metadata": {
    "id": "1lVk8HISJkt5"
   },
   "source": [
    "7) 추가 분석해 볼 사항이 있나요?"
   ]
  },
  {
   "cell_type": "markdown",
   "metadata": {},
   "source": [
    "> 이직률이 0퍼 일 수는 없으나, 이직이 높은 이유와 낮은 이유를 추가로 살펴보고 현재 회사에서 진행중인 인사프로그램의 장점을 정리해서 유지할 필요가 있어보인다."
   ]
  },
  {
   "cell_type": "markdown",
   "metadata": {},
   "source": [
    "> 지금 직원 이직이 낮다고 회사 시스템을 방치하기 보다는 이직을 낮추기 위해 노력을 기울이는 긴장도 늦추지 않아야 할 필요가 있다."
   ]
  },
  {
   "cell_type": "markdown",
   "metadata": {
    "id": "TLlMg3cNMoRg"
   },
   "source": [
    "### 2) feature1 : MaritalStatus(결혼상태)"
   ]
  },
  {
   "cell_type": "code",
   "execution_count": 131,
   "metadata": {
    "id": "fkRE6s1WMoRh"
   },
   "outputs": [],
   "source": [
    "feature = 'MaritalStatus'"
   ]
  },
  {
   "cell_type": "markdown",
   "metadata": {
    "id": "6H1XUqWEIZ0c"
   },
   "source": [
    "① 변수의 비즈니스 의미"
   ]
  },
  {
   "cell_type": "markdown",
   "metadata": {
    "id": "b8mX3ll_KR6u"
   },
   "source": [
    "> 결혼상태: Single, Married, Divorced"
   ]
  },
  {
   "cell_type": "markdown",
   "metadata": {
    "id": "o9aiDpJZIZi-"
   },
   "source": [
    "② 숫자, 범주?"
   ]
  },
  {
   "cell_type": "markdown",
   "metadata": {
    "id": "fNO_u8-RKS0K"
   },
   "source": [
    "> 범주"
   ]
  },
  {
   "cell_type": "markdown",
   "metadata": {
    "id": "sKZWnu78IZT0"
   },
   "source": [
    "③ NaN 존재 유무"
   ]
  },
  {
   "cell_type": "code",
   "execution_count": 132,
   "metadata": {
    "id": "BlknRQSKMoRi"
   },
   "outputs": [
    {
     "data": {
      "text/plain": [
       "0"
      ]
     },
     "execution_count": 132,
     "metadata": {},
     "output_type": "execute_result"
    }
   ],
   "source": [
    "data[feature].isna().sum()"
   ]
  },
  {
   "cell_type": "markdown",
   "metadata": {
    "id": "5d5JYEBCIZID"
   },
   "source": [
    "④ 기초통계량(수치화)"
   ]
  },
  {
   "cell_type": "code",
   "execution_count": 133,
   "metadata": {
    "id": "lNQhfu9uMoRi"
   },
   "outputs": [
    {
     "name": "stdout",
     "output_type": "stream",
     "text": [
      "Married     570\n",
      "Single      404\n",
      "Divorced    276\n",
      "Name: MaritalStatus, dtype: int64\n",
      "\n",
      "Married     0.4560\n",
      "Single      0.3232\n",
      "Divorced    0.2208\n",
      "Name: MaritalStatus, dtype: float64\n"
     ]
    }
   ],
   "source": [
    "print(data[feature].value_counts())\n",
    "print()\n",
    "print(data[feature].value_counts()/ len(data[feature]))"
   ]
  },
  {
   "cell_type": "markdown",
   "metadata": {
    "id": "e1yzg_B8IY5M"
   },
   "source": [
    "⑤ 분포 확인(시각화)"
   ]
  },
  {
   "cell_type": "code",
   "execution_count": 134,
   "metadata": {},
   "outputs": [
    {
     "name": "stderr",
     "output_type": "stream",
     "text": [
      "C:\\Users\\User\\anaconda3\\lib\\site-packages\\seaborn\\_decorators.py:36: FutureWarning: Pass the following variable as a keyword arg: x. From version 0.12, the only valid positional argument will be `data`, and passing other arguments without an explicit keyword will result in an error or misinterpretation.\n",
      "  warnings.warn(\n"
     ]
    },
    {
     "data": {
      "image/png": "[encoded data removed]",
      "text/plain": [
       "<Figure size 432x288 with 1 Axes>"
      ]
     },
     "metadata": {
      "needs_background": "light"
     },
     "output_type": "display_data"
    }
   ],
   "source": [
    "sns.countplot(data[feature])\n",
    "plt.show()"
   ]
  },
  {
   "cell_type": "code",
   "execution_count": 135,
   "metadata": {},
   "outputs": [
    {
     "data": {
      "image/png": "[encoded data removed]",
      "text/plain": [
       "<Figure size 432x288 with 1 Axes>"
      ]
     },
     "metadata": {},
     "output_type": "display_data"
    }
   ],
   "source": [
    "# 집계\n",
    "cnt = data[feature].value_counts()\n",
    "\n",
    "# pie chart\n",
    "plt.pie(cnt.values, labels = cnt.index, autopct = '%.2f%%',\n",
    "       explode = [0.05, 0.05, 0.05], shadow=True)\n",
    "plt.show()"
   ]
  },
  {
   "cell_type": "markdown",
   "metadata": {
    "id": "yRUYICkIIuc0"
   },
   "source": [
    "⑥ 기초통계량과 분포를 통해서 파악한 내용을 적어 봅시다.\n",
    "\n",
    "보이는 그대로를 넘어, 비즈니스 관점에서 고민하며 적어 봅시다."
   ]
  },
  {
   "cell_type": "markdown",
   "metadata": {
    "id": "yQih09bhMoRj"
   },
   "source": [
    "> 결혼한 사람이 이직이 낮다고 생각했는데, 싱글인 사람의 비율도 32.32%로 작지 않다."
   ]
  },
  {
   "cell_type": "markdown",
   "metadata": {
    "id": "zcV7pMeiMoRj"
   },
   "source": [
    "> 회사의 사내 복지가 엄청 좋은 것으로 예상된다."
   ]
  },
  {
   "cell_type": "markdown",
   "metadata": {
    "id": "3ZVNnImDIyRE"
   },
   "source": [
    "⑦ 추가 분석해 볼 사항이 있나요?"
   ]
  },
  {
   "cell_type": "markdown",
   "metadata": {},
   "source": [
    "> 추후에 분석을 하면서 혹시 Single과 Divorced 를 합쳐서 분석해야할 필요가 있을까? 어찌되었든 현재는 싱글이니까?"
   ]
  },
  {
   "cell_type": "markdown",
   "metadata": {
    "id": "nJmYs7WgMzti"
   },
   "source": [
    "### 3) feature2 : RelationshipSatisfaction(동료와의 관계)"
   ]
  },
  {
   "cell_type": "code",
   "execution_count": 136,
   "metadata": {
    "id": "fkRE6s1WMoRh"
   },
   "outputs": [],
   "source": [
    "feature = 'RelationshipSatisfaction'"
   ]
  },
  {
   "cell_type": "markdown",
   "metadata": {
    "id": "6H1XUqWEIZ0c"
   },
   "source": [
    "① 변수의 비즈니스 의미"
   ]
  },
  {
   "cell_type": "markdown",
   "metadata": {
    "id": "b8mX3ll_KR6u"
   },
   "source": [
    "> 동료와의 관계: 1 Low, 2 Medium, 3 High, 4 Very High"
   ]
  },
  {
   "cell_type": "markdown",
   "metadata": {
    "id": "o9aiDpJZIZi-"
   },
   "source": [
    "② 숫자, 범주?"
   ]
  },
  {
   "cell_type": "markdown",
   "metadata": {
    "id": "fNO_u8-RKS0K"
   },
   "source": [
    "> 범주"
   ]
  },
  {
   "cell_type": "markdown",
   "metadata": {
    "id": "sKZWnu78IZT0"
   },
   "source": [
    "③ NaN 존재 유무"
   ]
  },
  {
   "cell_type": "code",
   "execution_count": 137,
   "metadata": {
    "id": "BlknRQSKMoRi"
   },
   "outputs": [
    {
     "data": {
      "text/plain": [
       "0"
      ]
     },
     "execution_count": 137,
     "metadata": {},
     "output_type": "execute_result"
    }
   ],
   "source": [
    "data[feature].isna().sum()"
   ]
  },
  {
   "cell_type": "markdown",
   "metadata": {
    "id": "5d5JYEBCIZID"
   },
   "source": [
    "④ 기초통계량(수치화)"
   ]
  },
  {
   "cell_type": "code",
   "execution_count": 138,
   "metadata": {
    "id": "lNQhfu9uMoRi"
   },
   "outputs": [
    {
     "name": "stdout",
     "output_type": "stream",
     "text": [
      "3    397\n",
      "4    365\n",
      "2    258\n",
      "1    230\n",
      "Name: RelationshipSatisfaction, dtype: int64\n",
      "\n",
      "3    0.3176\n",
      "4    0.2920\n",
      "2    0.2064\n",
      "1    0.1840\n",
      "Name: RelationshipSatisfaction, dtype: float64\n"
     ]
    }
   ],
   "source": [
    "print(data[feature].value_counts())\n",
    "print()\n",
    "print(data[feature].value_counts()/ len(data[feature]))"
   ]
  },
  {
   "cell_type": "markdown",
   "metadata": {
    "id": "e1yzg_B8IY5M"
   },
   "source": [
    "⑤ 분포 확인(시각화)"
   ]
  },
  {
   "cell_type": "code",
   "execution_count": 139,
   "metadata": {},
   "outputs": [
    {
     "name": "stderr",
     "output_type": "stream",
     "text": [
      "C:\\Users\\User\\anaconda3\\lib\\site-packages\\seaborn\\_decorators.py:36: FutureWarning: Pass the following variable as a keyword arg: x. From version 0.12, the only valid positional argument will be `data`, and passing other arguments without an explicit keyword will result in an error or misinterpretation.\n",
      "  warnings.warn(\n"
     ]
    },
    {
     "data": {
      "image/png": "[encoded data removed]",
      "text/plain": [
       "<Figure size 432x288 with 1 Axes>"
      ]
     },
     "metadata": {
      "needs_background": "light"
     },
     "output_type": "display_data"
    }
   ],
   "source": [
    "sns.countplot(data[feature])\n",
    "plt.show()"
   ]
  },
  {
   "cell_type": "code",
   "execution_count": 140,
   "metadata": {},
   "outputs": [
    {
     "data": {
      "image/png": "[encoded data removed]",
      "text/plain": [
       "<Figure size 432x288 with 1 Axes>"
      ]
     },
     "metadata": {},
     "output_type": "display_data"
    }
   ],
   "source": [
    "# 집계\n",
    "cnt = data[feature].value_counts()\n",
    "\n",
    "# pie chart\n",
    "plt.pie(cnt.values, labels = cnt.index, autopct = '%.2f%%',\n",
    "       explode = [0.05, 0.05, 0.05, 0.05], shadow=True)\n",
    "plt.show()"
   ]
  },
  {
   "cell_type": "markdown",
   "metadata": {
    "id": "yRUYICkIIuc0"
   },
   "source": [
    "⑥ 기초통계량과 분포를 통해서 파악한 내용을 적어 봅시다.\n",
    "\n",
    "보이는 그대로를 넘어, 비즈니스 관점에서 고민하며 적어 봅시다."
   ]
  },
  {
   "cell_type": "markdown",
   "metadata": {
    "id": "yQih09bhMoRj"
   },
   "source": [
    "> 동료와의 관계에서 3(High)와 4(Very High)를 살펴보니, 60% 정도의 직원이 동료와의 관계가 높은편이다. 즉, 동료들과 잘지내고 있는 직원이 60%정도 이고, 보통인 사람은 비즈니스 관계로만 생각하지 않을까?"
   ]
  },
  {
   "cell_type": "markdown",
   "metadata": {
    "id": "zcV7pMeiMoRj"
   },
   "source": [
    "> 동료와의 관계 비율이 18.4%로 가장 낮은 것을 보니, 현재 분석하는 회사의 직원들은 팀워크가 좋아보이고 그렇기 때문에 성과가 좋고 이에 합당한 보상도 제대로 받고 있는 것이 아닐까?"
   ]
  },
  {
   "cell_type": "markdown",
   "metadata": {
    "id": "3ZVNnImDIyRE"
   },
   "source": [
    "⑦ 추가 분석해 볼 사항이 있나요?"
   ]
  },
  {
   "cell_type": "markdown",
   "metadata": {},
   "source": [
    "> 동료와이 관계가 높을 수록 팀워크가 좋을테니 급여 인상율도 높지 않을까?"
   ]
  },
  {
   "cell_type": "markdown",
   "metadata": {
    "id": "0q616kYrM0VR"
   },
   "source": [
    "### 4) feature3 : WorkLifeBalance(워라밸. 일-삶 균형도)"
   ]
  },
  {
   "cell_type": "code",
   "execution_count": 141,
   "metadata": {
    "id": "fkRE6s1WMoRh"
   },
   "outputs": [],
   "source": [
    "feature = 'WorkLifeBalance'"
   ]
  },
  {
   "cell_type": "markdown",
   "metadata": {
    "id": "6H1XUqWEIZ0c"
   },
   "source": [
    "① 변수의 비즈니스 의미"
   ]
  },
  {
   "cell_type": "markdown",
   "metadata": {
    "id": "b8mX3ll_KR6u"
   },
   "source": [
    "> 워라밸. 일-삶 균형도: 1 Bad, 2 Good, 3 Better, 4 Best"
   ]
  },
  {
   "cell_type": "markdown",
   "metadata": {
    "id": "o9aiDpJZIZi-"
   },
   "source": [
    "② 숫자, 범주?"
   ]
  },
  {
   "cell_type": "markdown",
   "metadata": {
    "id": "fNO_u8-RKS0K"
   },
   "source": [
    "> 범주"
   ]
  },
  {
   "cell_type": "markdown",
   "metadata": {
    "id": "sKZWnu78IZT0"
   },
   "source": [
    "③ NaN 존재 유무"
   ]
  },
  {
   "cell_type": "code",
   "execution_count": 142,
   "metadata": {
    "id": "BlknRQSKMoRi"
   },
   "outputs": [
    {
     "data": {
      "text/plain": [
       "0"
      ]
     },
     "execution_count": 142,
     "metadata": {},
     "output_type": "execute_result"
    }
   ],
   "source": [
    "data[feature].isna().sum()"
   ]
  },
  {
   "cell_type": "markdown",
   "metadata": {
    "id": "5d5JYEBCIZID"
   },
   "source": [
    "④ 기초통계량(수치화)"
   ]
  },
  {
   "cell_type": "code",
   "execution_count": 143,
   "metadata": {
    "id": "lNQhfu9uMoRi"
   },
   "outputs": [
    {
     "name": "stdout",
     "output_type": "stream",
     "text": [
      "3    747\n",
      "2    297\n",
      "4    137\n",
      "1     69\n",
      "Name: WorkLifeBalance, dtype: int64\n",
      "\n",
      "3    0.5976\n",
      "2    0.2376\n",
      "4    0.1096\n",
      "1    0.0552\n",
      "Name: WorkLifeBalance, dtype: float64\n"
     ]
    }
   ],
   "source": [
    "print(data[feature].value_counts())\n",
    "print()\n",
    "print(data[feature].value_counts()/ len(data[feature]))"
   ]
  },
  {
   "cell_type": "markdown",
   "metadata": {
    "id": "e1yzg_B8IY5M"
   },
   "source": [
    "⑤ 분포 확인(시각화)"
   ]
  },
  {
   "cell_type": "code",
   "execution_count": 144,
   "metadata": {},
   "outputs": [
    {
     "name": "stderr",
     "output_type": "stream",
     "text": [
      "C:\\Users\\User\\anaconda3\\lib\\site-packages\\seaborn\\_decorators.py:36: FutureWarning: Pass the following variable as a keyword arg: x. From version 0.12, the only valid positional argument will be `data`, and passing other arguments without an explicit keyword will result in an error or misinterpretation.\n",
      "  warnings.warn(\n"
     ]
    },
    {
     "data": {
      "image/png": "[encoded data removed]",
      "text/plain": [
       "<Figure size 432x288 with 1 Axes>"
      ]
     },
     "metadata": {
      "needs_background": "light"
     },
     "output_type": "display_data"
    }
   ],
   "source": [
    "sns.countplot(data[feature])\n",
    "plt.show()"
   ]
  },
  {
   "cell_type": "code",
   "execution_count": 145,
   "metadata": {},
   "outputs": [
    {
     "data": {
      "image/png": "[encoded data removed]",
      "text/plain": [
       "<Figure size 432x288 with 1 Axes>"
      ]
     },
     "metadata": {},
     "output_type": "display_data"
    }
   ],
   "source": [
    "# 집계\n",
    "cnt = data[feature].value_counts()\n",
    "\n",
    "# pie chart\n",
    "plt.pie(cnt.values, labels = cnt.index, autopct = '%.2f%%',\n",
    "       explode = [0.05, 0.05, 0.05, 0.05], shadow=True)\n",
    "plt.show()"
   ]
  },
  {
   "cell_type": "markdown",
   "metadata": {
    "id": "yRUYICkIIuc0"
   },
   "source": [
    "⑥ 기초통계량과 분포를 통해서 파악한 내용을 적어 봅시다.\n",
    "\n",
    "보이는 그대로를 넘어, 비즈니스 관점에서 고민하며 적어 봅시다."
   ]
  },
  {
   "cell_type": "markdown",
   "metadata": {
    "id": "yQih09bhMoRj"
   },
   "source": [
    "> 그래프를 살펴보니,  WorkLifeBalance(워라밸. 일-삶 균형도)에서 만족하는 직원이 상당히 많은 것을 시각적으로 확인할 수 있다."
   ]
  },
  {
   "cell_type": "markdown",
   "metadata": {
    "id": "zcV7pMeiMoRj"
   },
   "source": [
    "> 동료와의 관계가 좋은 편으로 나왔는데, 워라밸까지 만족하는 설문지 결과를 보면 이 회사에서 이직을 하는 사람들은 결혼이나 특별한 일이 아니고서는 이직을 잘 하지 않지 않을까?"
   ]
  },
  {
   "cell_type": "markdown",
   "metadata": {
    "id": "3ZVNnImDIyRE"
   },
   "source": [
    "⑦ 추가 분석해 볼 사항이 있나요?"
   ]
  },
  {
   "cell_type": "markdown",
   "metadata": {},
   "source": [
    "> WorkLifeBalance(워라밸. 일-삶 균형도)과 DistanceFromHome(집-직장 거리)는 관련이 있을까? 집이 가까우면 출퇴근 시간이 줄어들기 때문에, 직원일이 만족하는 것일까? 회사에서 제공하는 사원아파트가 있는 것일까?"
   ]
  },
  {
   "cell_type": "markdown",
   "metadata": {
    "id": "53vrba7gM04Z"
   },
   "source": [
    "### 5) feature4 : DistanceFromHome(집-직장 거리)"
   ]
  },
  {
   "cell_type": "code",
   "execution_count": 146,
   "metadata": {
    "id": "LFyUzNHDKme9"
   },
   "outputs": [],
   "source": [
    "feature = 'DistanceFromHome'"
   ]
  },
  {
   "cell_type": "markdown",
   "metadata": {
    "id": "cYoXD-kgKme9"
   },
   "source": [
    "① 변수의 비즈니스 의미"
   ]
  },
  {
   "cell_type": "markdown",
   "metadata": {
    "id": "H4Oa5BnzKme9"
   },
   "source": [
    "> 집-직장 거리(단위: 마일)"
   ]
  },
  {
   "cell_type": "markdown",
   "metadata": {
    "id": "4NREp0sjKme-"
   },
   "source": [
    "② 숫자, 범주?"
   ]
  },
  {
   "cell_type": "markdown",
   "metadata": {
    "id": "hn29bATCKme-"
   },
   "source": [
    "> 숫자"
   ]
  },
  {
   "cell_type": "markdown",
   "metadata": {
    "id": "pmhn3c76Kme-"
   },
   "source": [
    "③ NaN 존재 유무"
   ]
  },
  {
   "cell_type": "code",
   "execution_count": 147,
   "metadata": {
    "id": "hRCxtyB4Kme-"
   },
   "outputs": [
    {
     "data": {
      "text/plain": [
       "54"
      ]
     },
     "execution_count": 147,
     "metadata": {},
     "output_type": "execute_result"
    }
   ],
   "source": [
    "data[feature].isna().sum()"
   ]
  },
  {
   "cell_type": "markdown",
   "metadata": {},
   "source": [
    "> 결측치 존재"
   ]
  },
  {
   "cell_type": "markdown",
   "metadata": {
    "id": "JDydNtbzKme-"
   },
   "source": [
    "④ 기초통계량(수치화)"
   ]
  },
  {
   "cell_type": "code",
   "execution_count": 148,
   "metadata": {
    "id": "w7d60XLOKme-",
    "scrolled": true
   },
   "outputs": [
    {
     "data": {
      "text/plain": [
       "count    1196.000000\n",
       "mean        9.258361\n",
       "std         8.166016\n",
       "min         1.000000\n",
       "25%         2.000000\n",
       "50%         7.000000\n",
       "75%        14.000000\n",
       "max        29.000000\n",
       "Name: DistanceFromHome, dtype: float64"
      ]
     },
     "execution_count": 148,
     "metadata": {},
     "output_type": "execute_result"
    }
   ],
   "source": [
    "data[feature].describe()"
   ]
  },
  {
   "cell_type": "markdown",
   "metadata": {},
   "source": [
    "> 결측치를 확인하고 기초통계량을 확인 한 결과,  \n",
    "> 거리에 대한 것이니 마이너스가 없는 것을 확인했다."
   ]
  },
  {
   "cell_type": "markdown",
   "metadata": {},
   "source": [
    "> 결측치를 어떻게 할까 고민을 하면서,  \n",
    "> 한 행은 직원 한 명 한 명의 유니크한 정보인데 다른 사람의 값으로 채워 넣어도 될까?   \n",
    "회사 주변에 사는 직원들도 있지만, 회사에서 멀리사는 직원들도 분명히 존재할 꺼다"
   ]
  },
  {
   "cell_type": "markdown",
   "metadata": {},
   "source": [
    "> 하지만, 지원들은 분명 출퇴근 시간이 그래도 1~2시간 이내인 곳에서 거주 할 것이다.  \n",
    "> 회사가 3시간 이상으로 너무 멀었으면 이사를 가거나 했을 것이기 때문에 평균값으로 결측치를 채워보겠다."
   ]
  },
  {
   "cell_type": "markdown",
   "metadata": {},
   "source": [
    "- 평균 값으로 결측치 채우기"
   ]
  },
  {
   "cell_type": "code",
   "execution_count": 149,
   "metadata": {},
   "outputs": [
    {
     "data": {
      "text/plain": [
       "9.258361204013378"
      ]
     },
     "execution_count": 149,
     "metadata": {},
     "output_type": "execute_result"
    }
   ],
   "source": [
    "avg = data[feature].mean()\n",
    "avg"
   ]
  },
  {
   "cell_type": "code",
   "execution_count": 150,
   "metadata": {},
   "outputs": [],
   "source": [
    "data[feature].fillna(avg, inplace=True) "
   ]
  },
  {
   "cell_type": "code",
   "execution_count": 151,
   "metadata": {},
   "outputs": [
    {
     "data": {
      "text/plain": [
       "0"
      ]
     },
     "execution_count": 151,
     "metadata": {},
     "output_type": "execute_result"
    }
   ],
   "source": [
    "data[feature].isna().sum()"
   ]
  },
  {
   "cell_type": "markdown",
   "metadata": {},
   "source": [
    "> 평균 값으로 결측치 대체하기 완료!"
   ]
  },
  {
   "cell_type": "code",
   "execution_count": 152,
   "metadata": {},
   "outputs": [
    {
     "data": {
      "text/plain": [
       "count    1250.000000\n",
       "mean        9.258361\n",
       "std         7.987539\n",
       "min         1.000000\n",
       "25%         2.000000\n",
       "50%         7.000000\n",
       "75%        13.000000\n",
       "max        29.000000\n",
       "Name: DistanceFromHome, dtype: float64"
      ]
     },
     "execution_count": 152,
     "metadata": {},
     "output_type": "execute_result"
    }
   ],
   "source": [
    "# 기초통계량 확인!\n",
    "data[feature].describe()"
   ]
  },
  {
   "cell_type": "markdown",
   "metadata": {
    "id": "08OXnGH_Kme-"
   },
   "source": [
    "⑤ 분포 확인(시각화)"
   ]
  },
  {
   "cell_type": "code",
   "execution_count": 153,
   "metadata": {
    "id": "yMzY2CyxKme_"
   },
   "outputs": [
    {
     "data": {
      "image/png": "[encoded data removed]",
      "text/plain": [
       "<Figure size 432x288 with 1 Axes>"
      ]
     },
     "metadata": {
      "needs_background": "light"
     },
     "output_type": "display_data"
    },
    {
     "name": "stdout",
     "output_type": "stream",
     "text": [
      "1.0 29.0\n"
     ]
    }
   ],
   "source": [
    "box = plt.boxplot(data[feature])\n",
    "plt.show()\n",
    "\n",
    "l_fence = box['whiskers'][0].get_ydata()[1]\n",
    "u_fence = box['whiskers'][1].get_ydata()[1]\n",
    "print(l_fence, u_fence)"
   ]
  },
  {
   "cell_type": "code",
   "execution_count": 154,
   "metadata": {},
   "outputs": [
    {
     "data": {
      "image/png": "[encoded data removed]",
      "text/plain": [
       "<Figure size 432x288 with 1 Axes>"
      ]
     },
     "metadata": {
      "needs_background": "light"
     },
     "output_type": "display_data"
    }
   ],
   "source": [
    "mean = data[feature].mean()\n",
    "\n",
    "sns.histplot(data[feature], bins = 30)\n",
    "\n",
    "plt.axvline(l_fence, color = 'orange')\n",
    "plt.axvline(mean, color = 'r')\n",
    "plt.axvline(u_fence, color = 'orange')\n",
    "plt.show()"
   ]
  },
  {
   "cell_type": "code",
   "execution_count": 155,
   "metadata": {},
   "outputs": [
    {
     "data": {
      "image/png": "[encoded data removed]",
      "text/plain": [
       "<Figure size 432x288 with 1 Axes>"
      ]
     },
     "metadata": {
      "needs_background": "light"
     },
     "output_type": "display_data"
    }
   ],
   "source": [
    "sns.kdeplot(data = data, x = feature)\n",
    "plt.axvline(l_fence, color = 'orange')\n",
    "plt.axvline(mean, color = 'r')\n",
    "plt.axvline(u_fence, color = 'orange')\n",
    "plt.show()"
   ]
  },
  {
   "cell_type": "markdown",
   "metadata": {
    "id": "qDqmqhvGKme_"
   },
   "source": [
    "⑥ 기초통계량과 분포를 통해서 파악한 내용을 적어 봅시다.\n",
    "\n",
    "보이는 그대로를 넘어, 비즈니스 관점에서 고민하며 적어 봅시다."
   ]
  },
  {
   "cell_type": "markdown",
   "metadata": {
    "id": "YgxBaew3Kme_"
   },
   "source": [
    "> - 회사와의 거리가 2마일 이하에 집이 있는 직원수가 가장 많고 15마일 이상인 직원들도 있다. \n",
    "> - 내가 직원 입장이라면, 회사와 집이 가까운 것을 매우 선호할 것이다. 다른 사람들도 그렇지 않을까? 라고 생각을 했고 그래프를 살펴보니 집과 회사까지의 거리가 10마일 이내인 직원들의 수가 많다. 혹시 회사에서 제공하는 집이있는 것일까?"
   ]
  },
  {
   "cell_type": "markdown",
   "metadata": {
    "id": "EpZ0-McmKme_"
   },
   "source": [
    "⑦ 추가 분석해 볼 사항이 있나요?"
   ]
  },
  {
   "cell_type": "markdown",
   "metadata": {
    "id": "8KHpT6zDKme_"
   },
   "source": [
    "> - 크게 3개의 집단으로 나눌수 있어 보인다. 5마일을 기준으로 분류하고 15마일 이상으로 분류한다."
   ]
  },
  {
   "cell_type": "markdown",
   "metadata": {
    "id": "opTBFVXvM1mx"
   },
   "source": [
    "### 6) feature5 : NumCompaniesWorked(입사 전 근무한 회사 수)"
   ]
  },
  {
   "cell_type": "code",
   "execution_count": 156,
   "metadata": {
    "id": "LFyUzNHDKme9"
   },
   "outputs": [],
   "source": [
    "feature = 'NumCompaniesWorked'"
   ]
  },
  {
   "cell_type": "markdown",
   "metadata": {
    "id": "cYoXD-kgKme9"
   },
   "source": [
    "① 변수의 비즈니스 의미"
   ]
  },
  {
   "cell_type": "markdown",
   "metadata": {
    "id": "H4Oa5BnzKme9"
   },
   "source": [
    "> 입사 전 근무한 회사 수, 0 - 우리회사가 첫 직장"
   ]
  },
  {
   "cell_type": "markdown",
   "metadata": {
    "id": "4NREp0sjKme-"
   },
   "source": [
    "② 숫자, 범주?"
   ]
  },
  {
   "cell_type": "markdown",
   "metadata": {
    "id": "hn29bATCKme-"
   },
   "source": [
    "> 숫자"
   ]
  },
  {
   "cell_type": "markdown",
   "metadata": {
    "id": "pmhn3c76Kme-"
   },
   "source": [
    "③ NaN 존재 유무"
   ]
  },
  {
   "cell_type": "code",
   "execution_count": 157,
   "metadata": {
    "id": "hRCxtyB4Kme-",
    "scrolled": true
   },
   "outputs": [
    {
     "data": {
      "text/plain": [
       "21"
      ]
     },
     "execution_count": 157,
     "metadata": {},
     "output_type": "execute_result"
    }
   ],
   "source": [
    "data[feature].isna().sum()"
   ]
  },
  {
   "cell_type": "markdown",
   "metadata": {},
   "source": [
    "> 결측치 존재"
   ]
  },
  {
   "cell_type": "markdown",
   "metadata": {
    "id": "JDydNtbzKme-"
   },
   "source": [
    "④ 기초통계량(수치화)"
   ]
  },
  {
   "cell_type": "code",
   "execution_count": 158,
   "metadata": {
    "id": "w7d60XLOKme-",
    "scrolled": false
   },
   "outputs": [
    {
     "data": {
      "text/plain": [
       "count    1229.000000\n",
       "mean        2.678600\n",
       "std         2.473647\n",
       "min         0.000000\n",
       "25%         1.000000\n",
       "50%         2.000000\n",
       "75%         4.000000\n",
       "max         9.000000\n",
       "Name: NumCompaniesWorked, dtype: float64"
      ]
     },
     "execution_count": 158,
     "metadata": {},
     "output_type": "execute_result"
    }
   ],
   "source": [
    "data[feature].describe()"
   ]
  },
  {
   "cell_type": "markdown",
   "metadata": {
    "id": "x7RhTmPzM1mx"
   },
   "source": [
    "> 응답을 안하고 공란으로 둔 것으로 보면, 체크 하는 것을 깜빡했거나, 아니면 말하기 싫어서 2가지라고 생각한다."
   ]
  },
  {
   "cell_type": "markdown",
   "metadata": {
    "id": "jA3dK_gZM1mx"
   },
   "source": [
    "> 특히, 신입사원으로 여기가 첫 회사이면 설문조사 후에 공란이 없는지 한 번 더 확인 하지 않을까?"
   ]
  },
  {
   "cell_type": "markdown",
   "metadata": {
    "id": "heP_bxuRM1mx"
   },
   "source": [
    "> 공란으로 둔 직원들은 우리회사가 첫 직장이 아니고 적어도 2번째 이상의 직장이지 않을까?"
   ]
  },
  {
   "cell_type": "markdown",
   "metadata": {
    "id": "BkM5kJZGM1mx"
   },
   "source": [
    "> 결측치를 적어도 2번째 회사이지 않을까라는 생각으로 0을 넣을 수는 없고 1이상으로 넣고 싶지만 현재 근무하는 회사가 몇 번째 회사인지 알 수가 없다."
   ]
  },
  {
   "cell_type": "markdown",
   "metadata": {},
   "source": [
    "> 결론, 현재 근무하는 회사가 첫 회사가 아니라고 판단했고  \n",
    "> 적어도 다른회사에서 1번 이상 일한 경험이 있을 것이라 추측 되기 때문에  \n",
    "> 결측치를 1로 주겠다!"
   ]
  },
  {
   "cell_type": "markdown",
   "metadata": {},
   "source": [
    "- 1로 결측치 채우기"
   ]
  },
  {
   "cell_type": "code",
   "execution_count": 159,
   "metadata": {},
   "outputs": [],
   "source": [
    "data[feature].fillna(1, inplace=True) "
   ]
  },
  {
   "cell_type": "code",
   "execution_count": 160,
   "metadata": {},
   "outputs": [
    {
     "data": {
      "text/plain": [
       "0"
      ]
     },
     "execution_count": 160,
     "metadata": {},
     "output_type": "execute_result"
    }
   ],
   "source": [
    "data[feature].isna().sum()"
   ]
  },
  {
   "cell_type": "markdown",
   "metadata": {},
   "source": [
    "> 1로 결측치 대체하기 완료!"
   ]
  },
  {
   "cell_type": "code",
   "execution_count": 161,
   "metadata": {},
   "outputs": [
    {
     "data": {
      "text/plain": [
       "count    1250.000000\n",
       "mean        2.650400\n",
       "std         2.462241\n",
       "min         0.000000\n",
       "25%         1.000000\n",
       "50%         2.000000\n",
       "75%         4.000000\n",
       "max         9.000000\n",
       "Name: NumCompaniesWorked, dtype: float64"
      ]
     },
     "execution_count": 161,
     "metadata": {},
     "output_type": "execute_result"
    }
   ],
   "source": [
    "# 기초통계량 확인!\n",
    "data[feature].describe()"
   ]
  },
  {
   "cell_type": "markdown",
   "metadata": {
    "id": "08OXnGH_Kme-"
   },
   "source": [
    "⑤ 분포 확인(시각화)"
   ]
  },
  {
   "cell_type": "code",
   "execution_count": 162,
   "metadata": {
    "id": "yMzY2CyxKme_"
   },
   "outputs": [
    {
     "data": {
      "image/png": "[encoded data removed]",
      "text/plain": [
       "<Figure size 432x288 with 1 Axes>"
      ]
     },
     "metadata": {
      "needs_background": "light"
     },
     "output_type": "display_data"
    },
    {
     "name": "stdout",
     "output_type": "stream",
     "text": [
      "0.0 8.0\n"
     ]
    }
   ],
   "source": [
    "box = plt.boxplot(data[feature])\n",
    "plt.show()\n",
    "\n",
    "l_fence = box['whiskers'][0].get_ydata()[1]\n",
    "u_fence = box['whiskers'][1].get_ydata()[1]\n",
    "print(l_fence, u_fence)"
   ]
  },
  {
   "cell_type": "code",
   "execution_count": 163,
   "metadata": {},
   "outputs": [
    {
     "data": {
      "image/png": "[encoded data removed]",
      "text/plain": [
       "<Figure size 432x288 with 1 Axes>"
      ]
     },
     "metadata": {
      "needs_background": "light"
     },
     "output_type": "display_data"
    }
   ],
   "source": [
    "mean = data[feature].mean()\n",
    "\n",
    "sns.histplot(data[feature], bins = 30)\n",
    "plt.show()"
   ]
  },
  {
   "cell_type": "code",
   "execution_count": 164,
   "metadata": {},
   "outputs": [
    {
     "data": {
      "image/png": "[encoded data removed]",
      "text/plain": [
       "<Figure size 432x288 with 1 Axes>"
      ]
     },
     "metadata": {
      "needs_background": "light"
     },
     "output_type": "display_data"
    }
   ],
   "source": [
    "sns.kdeplot(data = data, x = feature)\n",
    "plt.show()"
   ]
  },
  {
   "cell_type": "markdown",
   "metadata": {
    "id": "qDqmqhvGKme_"
   },
   "source": [
    "⑥ 기초통계량과 분포를 통해서 파악한 내용을 적어 봅시다.\n",
    "\n",
    "보이는 그대로를 넘어, 비즈니스 관점에서 고민하며 적어 봅시다."
   ]
  },
  {
   "cell_type": "markdown",
   "metadata": {
    "id": "YgxBaew3Kme_"
   },
   "source": [
    "> box plot에서 이상치가 탐색되었는데, 혹시 계약직은 아닐까? 프로젝트를 할때 하번씩 외부 전문가를 데리고 오는데 그 사람이 아닐까?"
   ]
  },
  {
   "cell_type": "markdown",
   "metadata": {
    "id": "EpZ0-McmKme_"
   },
   "source": [
    "⑦ 추가 분석해 볼 사항이 있나요?"
   ]
  },
  {
   "cell_type": "markdown",
   "metadata": {
    "id": "8KHpT6zDKme_"
   },
   "source": [
    "> 21명을 1로 바꿨다고 해서, 입사전 근무한 회사 수가 1개인 직원이 400명 이상은 아니다. 결측치 처리 전에도 입사전 근무한 회사 수가 1인 직원이 많지 않았나?"
   ]
  },
  {
   "cell_type": "markdown",
   "metadata": {},
   "source": [
    "> 입사전 근무한 회사 수가 낮을 수록 이직여부가 낮지 않을까?"
   ]
  },
  {
   "cell_type": "markdown",
   "metadata": {
    "id": "NFGBwz34YJG3"
   },
   "source": [
    "### 7) feature6 : PercentSalaryHike(전년대비 급여인상율)"
   ]
  },
  {
   "cell_type": "code",
   "execution_count": 165,
   "metadata": {
    "id": "LFyUzNHDKme9"
   },
   "outputs": [],
   "source": [
    "feature = 'PercentSalaryHike'"
   ]
  },
  {
   "cell_type": "markdown",
   "metadata": {
    "id": "cYoXD-kgKme9"
   },
   "source": [
    "① 변수의 비즈니스 의미"
   ]
  },
  {
   "cell_type": "markdown",
   "metadata": {
    "id": "H4Oa5BnzKme9"
   },
   "source": [
    "> 전년대비 급여인상율 (%)"
   ]
  },
  {
   "cell_type": "markdown",
   "metadata": {
    "id": "4NREp0sjKme-"
   },
   "source": [
    "② 숫자, 범주?"
   ]
  },
  {
   "cell_type": "markdown",
   "metadata": {
    "id": "hn29bATCKme-"
   },
   "source": [
    "> 숫자"
   ]
  },
  {
   "cell_type": "markdown",
   "metadata": {
    "id": "pmhn3c76Kme-"
   },
   "source": [
    "③ NaN 존재 유무"
   ]
  },
  {
   "cell_type": "code",
   "execution_count": 166,
   "metadata": {
    "id": "hRCxtyB4Kme-",
    "scrolled": true
   },
   "outputs": [
    {
     "data": {
      "text/plain": [
       "0"
      ]
     },
     "execution_count": 166,
     "metadata": {},
     "output_type": "execute_result"
    }
   ],
   "source": [
    "data[feature].isna().sum()"
   ]
  },
  {
   "cell_type": "markdown",
   "metadata": {},
   "source": [
    "> 결측치 존재"
   ]
  },
  {
   "cell_type": "markdown",
   "metadata": {
    "id": "JDydNtbzKme-"
   },
   "source": [
    "④ 기초통계량(수치화)"
   ]
  },
  {
   "cell_type": "code",
   "execution_count": 167,
   "metadata": {
    "id": "w7d60XLOKme-",
    "scrolled": false
   },
   "outputs": [
    {
     "data": {
      "text/plain": [
       "count    1250.000000\n",
       "mean       15.216000\n",
       "std         3.625556\n",
       "min        11.000000\n",
       "25%        12.000000\n",
       "50%        14.000000\n",
       "75%        18.000000\n",
       "max        25.000000\n",
       "Name: PercentSalaryHike, dtype: float64"
      ]
     },
     "execution_count": 167,
     "metadata": {},
     "output_type": "execute_result"
    }
   ],
   "source": [
    "data[feature].describe()"
   ]
  },
  {
   "cell_type": "markdown",
   "metadata": {
    "id": "08OXnGH_Kme-"
   },
   "source": [
    "⑤ 분포 확인(시각화)"
   ]
  },
  {
   "cell_type": "code",
   "execution_count": 168,
   "metadata": {
    "id": "yMzY2CyxKme_"
   },
   "outputs": [
    {
     "data": {
      "image/png": "[encoded data removed]",
      "text/plain": [
       "<Figure size 432x288 with 1 Axes>"
      ]
     },
     "metadata": {
      "needs_background": "light"
     },
     "output_type": "display_data"
    },
    {
     "name": "stdout",
     "output_type": "stream",
     "text": [
      "11.0 25.0\n"
     ]
    }
   ],
   "source": [
    "box = plt.boxplot(data[feature])\n",
    "plt.show()\n",
    "\n",
    "l_fence = box['whiskers'][0].get_ydata()[1]\n",
    "u_fence = box['whiskers'][1].get_ydata()[1]\n",
    "print(l_fence, u_fence)"
   ]
  },
  {
   "cell_type": "code",
   "execution_count": 169,
   "metadata": {},
   "outputs": [
    {
     "data": {
      "image/png": "[encoded data removed]",
      "text/plain": [
       "<Figure size 432x288 with 1 Axes>"
      ]
     },
     "metadata": {
      "needs_background": "light"
     },
     "output_type": "display_data"
    }
   ],
   "source": [
    "mean = data[feature].mean()\n",
    "\n",
    "sns.histplot(data[feature], bins = 30)\n",
    "\n",
    "plt.axvline(l_fence, color = 'orange')\n",
    "plt.axvline(mean, color = 'r')\n",
    "plt.axvline(u_fence, color = 'orange')\n",
    "plt.show()"
   ]
  },
  {
   "cell_type": "code",
   "execution_count": 170,
   "metadata": {},
   "outputs": [
    {
     "data": {
      "image/png": "[encoded data removed]",
      "text/plain": [
       "<Figure size 432x288 with 1 Axes>"
      ]
     },
     "metadata": {
      "needs_background": "light"
     },
     "output_type": "display_data"
    }
   ],
   "source": [
    "sns.kdeplot(data = data, x = feature)\n",
    "plt.axvline(l_fence, color = 'orange')\n",
    "plt.axvline(mean, color = 'r')\n",
    "plt.axvline(u_fence, color = 'orange')\n",
    "plt.show()"
   ]
  },
  {
   "cell_type": "markdown",
   "metadata": {
    "id": "qDqmqhvGKme_"
   },
   "source": [
    "⑥ 기초통계량과 분포를 통해서 파악한 내용을 적어 봅시다.\n",
    "\n",
    "보이는 그대로를 넘어, 비즈니스 관점에서 고민하며 적어 봅시다."
   ]
  },
  {
   "cell_type": "markdown",
   "metadata": {
    "id": "YgxBaew3Kme_"
   },
   "source": [
    "> 전년대비 급여인상율은 15% 이하가 가장 높게 나타난 것으로 보아, 직원의 대부분은 급여인상율 혜택을 받고 있는 것이 아닐까?"
   ]
  },
  {
   "cell_type": "markdown",
   "metadata": {
    "id": "EpZ0-McmKme_"
   },
   "source": [
    "⑦ 추가 분석해 볼 사항이 있나요?"
   ]
  },
  {
   "cell_type": "markdown",
   "metadata": {
    "id": "aZqkq7z6YJG4"
   },
   "source": [
    "> 전년대비 급여인상율이 높을 수록 월급이 높을까?"
   ]
  },
  {
   "cell_type": "markdown",
   "metadata": {
    "id": "NFGBwz34YJG3"
   },
   "source": [
    "### 7) feature7 : TotalWorkingYears(총 경력 연수)"
   ]
  },
  {
   "cell_type": "code",
   "execution_count": 171,
   "metadata": {
    "id": "LFyUzNHDKme9"
   },
   "outputs": [],
   "source": [
    "feature = 'TotalWorkingYears'"
   ]
  },
  {
   "cell_type": "markdown",
   "metadata": {
    "id": "cYoXD-kgKme9"
   },
   "source": [
    "① 변수의 비즈니스 의미"
   ]
  },
  {
   "cell_type": "markdown",
   "metadata": {
    "id": "H4Oa5BnzKme9"
   },
   "source": [
    "> 총 경력 연수"
   ]
  },
  {
   "cell_type": "markdown",
   "metadata": {
    "id": "4NREp0sjKme-"
   },
   "source": [
    "② 숫자, 범주?"
   ]
  },
  {
   "cell_type": "markdown",
   "metadata": {
    "id": "hn29bATCKme-"
   },
   "source": [
    "> 숫자"
   ]
  },
  {
   "cell_type": "markdown",
   "metadata": {
    "id": "pmhn3c76Kme-"
   },
   "source": [
    "③ NaN 존재 유무"
   ]
  },
  {
   "cell_type": "code",
   "execution_count": 172,
   "metadata": {
    "id": "hRCxtyB4Kme-",
    "scrolled": true
   },
   "outputs": [
    {
     "data": {
      "text/plain": [
       "0"
      ]
     },
     "execution_count": 172,
     "metadata": {},
     "output_type": "execute_result"
    }
   ],
   "source": [
    "data[feature].isna().sum()"
   ]
  },
  {
   "cell_type": "markdown",
   "metadata": {
    "id": "JDydNtbzKme-"
   },
   "source": [
    "④ 기초통계량(수치화)"
   ]
  },
  {
   "cell_type": "code",
   "execution_count": 173,
   "metadata": {
    "id": "w7d60XLOKme-",
    "scrolled": false
   },
   "outputs": [
    {
     "data": {
      "text/plain": [
       "count    1250.00000\n",
       "mean       11.33920\n",
       "std         7.79687\n",
       "min         0.00000\n",
       "25%         6.00000\n",
       "50%        10.00000\n",
       "75%        15.00000\n",
       "max        40.00000\n",
       "Name: TotalWorkingYears, dtype: float64"
      ]
     },
     "execution_count": 173,
     "metadata": {},
     "output_type": "execute_result"
    }
   ],
   "source": [
    "data[feature].describe()"
   ]
  },
  {
   "cell_type": "markdown",
   "metadata": {
    "id": "08OXnGH_Kme-"
   },
   "source": [
    "⑤ 분포 확인(시각화)"
   ]
  },
  {
   "cell_type": "code",
   "execution_count": 174,
   "metadata": {
    "id": "yMzY2CyxKme_"
   },
   "outputs": [
    {
     "data": {
      "image/png": "[encoded data removed]",
      "text/plain": [
       "<Figure size 432x288 with 1 Axes>"
      ]
     },
     "metadata": {
      "needs_background": "light"
     },
     "output_type": "display_data"
    },
    {
     "name": "stdout",
     "output_type": "stream",
     "text": [
      "0.0 28.0\n"
     ]
    }
   ],
   "source": [
    "box = plt.boxplot(data[feature])\n",
    "plt.show()\n",
    "\n",
    "l_fence = box['whiskers'][0].get_ydata()[1]\n",
    "u_fence = box['whiskers'][1].get_ydata()[1]\n",
    "print(l_fence, u_fence)"
   ]
  },
  {
   "cell_type": "code",
   "execution_count": 175,
   "metadata": {},
   "outputs": [
    {
     "data": {
      "image/png": "[encoded data removed]",
      "text/plain": [
       "<Figure size 432x288 with 1 Axes>"
      ]
     },
     "metadata": {
      "needs_background": "light"
     },
     "output_type": "display_data"
    }
   ],
   "source": [
    "mean = data[feature].mean()\n",
    "\n",
    "sns.histplot(data[feature], bins = 30)\n",
    "\n",
    "plt.axvline(l_fence, color = 'orange')\n",
    "plt.axvline(mean, color = 'r')\n",
    "plt.axvline(u_fence, color = 'orange')\n",
    "plt.show()"
   ]
  },
  {
   "cell_type": "code",
   "execution_count": 176,
   "metadata": {},
   "outputs": [
    {
     "data": {
      "image/png": "[encoded data removed]",
      "text/plain": [
       "<Figure size 432x288 with 1 Axes>"
      ]
     },
     "metadata": {
      "needs_background": "light"
     },
     "output_type": "display_data"
    }
   ],
   "source": [
    "sns.kdeplot(data = data, x = feature)\n",
    "plt.axvline(l_fence, color = 'orange')\n",
    "plt.axvline(mean, color = 'r')\n",
    "plt.axvline(u_fence, color = 'orange')\n",
    "plt.show()"
   ]
  },
  {
   "cell_type": "markdown",
   "metadata": {
    "id": "qDqmqhvGKme_"
   },
   "source": [
    "⑥ 기초통계량과 분포를 통해서 파악한 내용을 적어 봅시다.\n",
    "\n",
    "보이는 그대로를 넘어, 비즈니스 관점에서 고민하며 적어 봅시다."
   ]
  },
  {
   "cell_type": "markdown",
   "metadata": {
    "id": "YgxBaew3Kme_"
   },
   "source": [
    "> - 신입사원이 80명 정도 이다.  \n",
    "> - box plot에서 이상치로 있는 직원들은 총 경력이 약 30년 이상인 배태랑 직원들이 아닐까?\n",
    "> - 총 경력 연수가 7~10년인 직원들이 가장 많음 \n",
    "> - 10년 이후로 부터 그래프가 급격하게 떨어지는 이유는 무엇일까? 10년 이상의 경력직들은 회사 안에서 통과해야할 시험이라도 있는 것일까? 그 시험을 통과하지 못하면 회사를 나가야하나? 데이터에서 살펴볼 수 없는 사내의 문화 및 분위기를 알아야 더 정확한 분석이 가능해 보인다."
   ]
  },
  {
   "cell_type": "markdown",
   "metadata": {
    "id": "EpZ0-McmKme_"
   },
   "source": [
    "⑦ 추가 분석해 볼 사항이 있나요?"
   ]
  },
  {
   "cell_type": "markdown",
   "metadata": {
    "id": "8KHpT6zDKme_"
   },
   "source": [
    "> TotalWorkingYears(총 경력 연수)가 높은 직원들은 이직여부가 낮은편이 아닐까? 10이상을 기준으로 두 그룹으로 나누어 자세히 살펴볼 필요가 있다."
   ]
  },
  {
   "cell_type": "markdown",
   "metadata": {
    "id": "akKd5uoTYF-5"
   },
   "source": [
    "### 9) feature8 : MonthlyIncome(월급)"
   ]
  },
  {
   "cell_type": "code",
   "execution_count": 177,
   "metadata": {
    "id": "LFyUzNHDKme9"
   },
   "outputs": [],
   "source": [
    "feature = 'MonthlyIncome'"
   ]
  },
  {
   "cell_type": "markdown",
   "metadata": {
    "id": "cYoXD-kgKme9"
   },
   "source": [
    "① 변수의 비즈니스 의미"
   ]
  },
  {
   "cell_type": "markdown",
   "metadata": {
    "id": "H4Oa5BnzKme9"
   },
   "source": [
    "> 월급(달러)"
   ]
  },
  {
   "cell_type": "markdown",
   "metadata": {
    "id": "4NREp0sjKme-"
   },
   "source": [
    "② 숫자, 범주?"
   ]
  },
  {
   "cell_type": "markdown",
   "metadata": {
    "id": "hn29bATCKme-"
   },
   "source": [
    "> 숫자"
   ]
  },
  {
   "cell_type": "markdown",
   "metadata": {
    "id": "pmhn3c76Kme-"
   },
   "source": [
    "③ NaN 존재 유무"
   ]
  },
  {
   "cell_type": "code",
   "execution_count": 178,
   "metadata": {
    "id": "hRCxtyB4Kme-",
    "scrolled": true
   },
   "outputs": [
    {
     "data": {
      "text/plain": [
       "0"
      ]
     },
     "execution_count": 178,
     "metadata": {},
     "output_type": "execute_result"
    }
   ],
   "source": [
    "data[feature].isna().sum()"
   ]
  },
  {
   "cell_type": "markdown",
   "metadata": {
    "id": "JDydNtbzKme-"
   },
   "source": [
    "④ 기초통계량(수치화)"
   ]
  },
  {
   "cell_type": "code",
   "execution_count": 179,
   "metadata": {
    "id": "w7d60XLOKme-",
    "scrolled": false
   },
   "outputs": [
    {
     "data": {
      "text/plain": [
       "count     1250.000000\n",
       "mean      6525.548000\n",
       "std       4676.979554\n",
       "min       1009.000000\n",
       "25%       2932.250000\n",
       "50%       4988.000000\n",
       "75%       8437.500000\n",
       "max      19999.000000\n",
       "Name: MonthlyIncome, dtype: float64"
      ]
     },
     "execution_count": 179,
     "metadata": {},
     "output_type": "execute_result"
    }
   ],
   "source": [
    "data[feature].describe()"
   ]
  },
  {
   "cell_type": "markdown",
   "metadata": {
    "id": "08OXnGH_Kme-"
   },
   "source": [
    "⑤ 분포 확인(시각화)"
   ]
  },
  {
   "cell_type": "code",
   "execution_count": 180,
   "metadata": {
    "id": "yMzY2CyxKme_"
   },
   "outputs": [
    {
     "data": {
      "image/png": "[encoded data removed]",
      "text/plain": [
       "<Figure size 432x288 with 1 Axes>"
      ]
     },
     "metadata": {
      "needs_background": "light"
     },
     "output_type": "display_data"
    },
    {
     "name": "stdout",
     "output_type": "stream",
     "text": [
      "1009.0 16606.0\n"
     ]
    }
   ],
   "source": [
    "box = plt.boxplot(data[feature])\n",
    "plt.show()\n",
    "\n",
    "l_fence = box['whiskers'][0].get_ydata()[1]\n",
    "u_fence = box['whiskers'][1].get_ydata()[1]\n",
    "print(l_fence, u_fence)"
   ]
  },
  {
   "cell_type": "code",
   "execution_count": 181,
   "metadata": {},
   "outputs": [
    {
     "data": {
      "image/png": "[encoded data removed]",
      "text/plain": [
       "<Figure size 432x288 with 1 Axes>"
      ]
     },
     "metadata": {
      "needs_background": "light"
     },
     "output_type": "display_data"
    }
   ],
   "source": [
    "mean = data[feature].mean()\n",
    "\n",
    "sns.histplot(data[feature], bins = 30)\n",
    "\n",
    "plt.axvline(l_fence, color = 'orange')\n",
    "plt.axvline(mean, color = 'r')\n",
    "plt.axvline(u_fence, color = 'orange')\n",
    "plt.show()"
   ]
  },
  {
   "cell_type": "code",
   "execution_count": 182,
   "metadata": {},
   "outputs": [
    {
     "data": {
      "image/png": "[encoded data removed]",
      "text/plain": [
       "<Figure size 432x288 with 1 Axes>"
      ]
     },
     "metadata": {
      "needs_background": "light"
     },
     "output_type": "display_data"
    }
   ],
   "source": [
    "sns.kdeplot(data = data, x = feature)\n",
    "plt.axvline(l_fence, color = 'orange')\n",
    "plt.axvline(mean, color = 'r')\n",
    "plt.axvline(u_fence, color = 'orange')\n",
    "plt.show()"
   ]
  },
  {
   "cell_type": "markdown",
   "metadata": {
    "id": "qDqmqhvGKme_"
   },
   "source": [
    "⑥ 기초통계량과 분포를 통해서 파악한 내용을 적어 봅시다.\n",
    "\n",
    "보이는 그대로를 넘어, 비즈니스 관점에서 고민하며 적어 봅시다."
   ]
  },
  {
   "cell_type": "markdown",
   "metadata": {
    "id": "YgxBaew3Kme_"
   },
   "source": [
    "> box plot을 보니 연봉이 높은 직원들이 이상치로 들어가 있다."
   ]
  },
  {
   "cell_type": "markdown",
   "metadata": {
    "id": "YgxBaew3Kme_"
   },
   "source": [
    "> 평균 월급인 6525달러 지점에서의 수가 확연하게 줄어드는 것으로 보아, 이 회사는 경력직보다 신입사원수가 많고 경력직으 이직이 높은것이 아닐까?"
   ]
  },
  {
   "cell_type": "markdown",
   "metadata": {
    "id": "EpZ0-McmKme_"
   },
   "source": [
    "⑦ 추가 분석해 볼 사항이 있나요?"
   ]
  },
  {
   "cell_type": "markdown",
   "metadata": {
    "id": "8KHpT6zDKme_"
   },
   "source": [
    "> 신입사원과, 경력직 2가지 그룹으로 나누어 이직여부를 살펴볼 필요가 있다."
   ]
  },
  {
   "cell_type": "markdown",
   "metadata": {
    "id": "akKd5uoTYF-5"
   },
   "source": [
    "### 10) feature9 : OverTime(야근여부)"
   ]
  },
  {
   "cell_type": "code",
   "execution_count": 219,
   "metadata": {
    "id": "fkRE6s1WMoRh"
   },
   "outputs": [],
   "source": [
    "feature = 'OverTime'"
   ]
  },
  {
   "cell_type": "markdown",
   "metadata": {
    "id": "6H1XUqWEIZ0c"
   },
   "source": [
    "① 변수의 비즈니스 의미"
   ]
  },
  {
   "cell_type": "markdown",
   "metadata": {
    "id": "b8mX3ll_KR6u"
   },
   "source": [
    "> 야근여부 (Yes, No)"
   ]
  },
  {
   "cell_type": "markdown",
   "metadata": {
    "id": "o9aiDpJZIZi-"
   },
   "source": [
    "② 숫자, 범주?"
   ]
  },
  {
   "cell_type": "code",
   "execution_count": 220,
   "metadata": {},
   "outputs": [
    {
     "data": {
      "text/plain": [
       "array(['No', 'Yes'], dtype=object)"
      ]
     },
     "execution_count": 220,
     "metadata": {},
     "output_type": "execute_result"
    }
   ],
   "source": [
    "data[feature].unique()"
   ]
  },
  {
   "cell_type": "markdown",
   "metadata": {
    "id": "fNO_u8-RKS0K"
   },
   "source": [
    "> 범주"
   ]
  },
  {
   "cell_type": "markdown",
   "metadata": {
    "id": "sKZWnu78IZT0"
   },
   "source": [
    "③ NaN 존재 유무"
   ]
  },
  {
   "cell_type": "code",
   "execution_count": 221,
   "metadata": {
    "id": "BlknRQSKMoRi"
   },
   "outputs": [
    {
     "data": {
      "text/plain": [
       "0"
      ]
     },
     "execution_count": 221,
     "metadata": {},
     "output_type": "execute_result"
    }
   ],
   "source": [
    "data[feature].isna().sum()"
   ]
  },
  {
   "cell_type": "markdown",
   "metadata": {
    "id": "5d5JYEBCIZID"
   },
   "source": [
    "④ 기초통계량(수치화)"
   ]
  },
  {
   "cell_type": "code",
   "execution_count": 222,
   "metadata": {
    "id": "lNQhfu9uMoRi"
   },
   "outputs": [
    {
     "name": "stdout",
     "output_type": "stream",
     "text": [
      "No     896\n",
      "Yes    354\n",
      "Name: OverTime, dtype: int64\n",
      "\n",
      "No     0.7168\n",
      "Yes    0.2832\n",
      "Name: OverTime, dtype: float64\n"
     ]
    }
   ],
   "source": [
    "print(data[feature].value_counts())\n",
    "print()\n",
    "print(data[feature].value_counts()/ len(data[feature]))"
   ]
  },
  {
   "cell_type": "markdown",
   "metadata": {
    "id": "e1yzg_B8IY5M"
   },
   "source": [
    "⑤ 분포 확인(시각화)"
   ]
  },
  {
   "cell_type": "code",
   "execution_count": 223,
   "metadata": {},
   "outputs": [
    {
     "name": "stderr",
     "output_type": "stream",
     "text": [
      "C:\\Users\\User\\anaconda3\\lib\\site-packages\\seaborn\\_decorators.py:36: FutureWarning: Pass the following variable as a keyword arg: x. From version 0.12, the only valid positional argument will be `data`, and passing other arguments without an explicit keyword will result in an error or misinterpretation.\n",
      "  warnings.warn(\n"
     ]
    },
    {
     "data": {
      "image/png": "[encoded data removed]",
      "text/plain": [
       "<Figure size 432x288 with 1 Axes>"
      ]
     },
     "metadata": {
      "needs_background": "light"
     },
     "output_type": "display_data"
    }
   ],
   "source": [
    "sns.countplot(data[feature])\n",
    "plt.show()"
   ]
  },
  {
   "cell_type": "code",
   "execution_count": 225,
   "metadata": {},
   "outputs": [
    {
     "data": {
      "image/png": "[encoded data removed]",
      "text/plain": [
       "<Figure size 432x288 with 1 Axes>"
      ]
     },
     "metadata": {},
     "output_type": "display_data"
    }
   ],
   "source": [
    "# 집계\n",
    "cnt = data[feature].value_counts()\n",
    "\n",
    "# pie chart\n",
    "plt.pie(cnt.values, labels = cnt.index, autopct = '%.2f%%',\n",
    "       explode = [0.05, 0.05], shadow=True)\n",
    "plt.show()"
   ]
  },
  {
   "cell_type": "markdown",
   "metadata": {
    "id": "yRUYICkIIuc0"
   },
   "source": [
    "⑥ 기초통계량과 분포를 통해서 파악한 내용을 적어 봅시다.\n",
    "\n",
    "보이는 그대로를 넘어, 비즈니스 관점에서 고민하며 적어 봅시다."
   ]
  },
  {
   "cell_type": "markdown",
   "metadata": {
    "id": "yQih09bhMoRj"
   },
   "source": [
    "> 그래프를 살펴보니, 야근을 하지 않은 직원들이 71.68%로 야근을 하지 않는 직원보다 압도록으로 많다."
   ]
  },
  {
   "cell_type": "markdown",
   "metadata": {
    "id": "zcV7pMeiMoRj"
   },
   "source": [
    "> 야근을 많이 하지 않으면 워라밸이 좋고 개인적으로 자기 개발을 하는 시간이 늘어나기 때문에 이직여부가 낮지 않을까? 그래도 월급이 너무 적으면 이직을 할 꺼 같은데 월급도 많이 주는 최고의 회사인가?"
   ]
  },
  {
   "cell_type": "markdown",
   "metadata": {
    "id": "3ZVNnImDIyRE"
   },
   "source": [
    "⑦ 추가 분석해 볼 사항이 있나요?"
   ]
  },
  {
   "cell_type": "markdown",
   "metadata": {},
   "source": [
    "> 야근이 적은 회사인데 실질적인 수치로만 야근이 적다고 표시하고 집에가서 직원들이 다들 일하는 것일까? 아니면 정말 야근이 없고 집에서는 푹 쉴수 있게 운영하는 회사일까? 현직자의 말을 참고할 필요가 있다. 그래야 주어진 데이터를 가지고 분석하는 것이 의미가 있기 때문이다."
   ]
  },
  {
   "cell_type": "markdown",
   "metadata": {
    "id": "ZghJJ7yLEpDA"
   },
   "source": [
    "## 3.이변량 분석 \n",
    "* 자료의 종류에 맞게 X --> Y 에 대해서 그래프(시각화)와 가설검정(수치화)를 수행하고 결과를 평가합니다.\n",
    "* 가설검정시 다음의 항목을 참조하여 수행합니다.\n",
    "    * 유의수준 : 5%\n",
    "    * 숫자 --> 숫자 : 상관분석\n",
    "    * 범주 --> 범주 : 카이제곱검정\n",
    "    * 범주 --> 숫자 : t검정, 분산분석\n",
    "    * 숫자 --> 범주 : 로지스틱 회귀모형을 통해, 회귀계수의 P.value로 검정을 수행합니다."
   ]
  },
  {
   "cell_type": "code",
   "execution_count": 183,
   "metadata": {},
   "outputs": [],
   "source": [
    "target = 'Attrition'"
   ]
  },
  {
   "cell_type": "markdown",
   "metadata": {
    "id": "fap08wfEMqtY"
   },
   "source": [
    "### (1) 범주형 Feature --> 범주형 Target\n",
    "* 모든 범주형 Feature에 대해서 Y와 비교하여 차트를 그리고 수치화 하시오.  \n",
    "    ① 교차표(pd.crosstab())  \n",
    "    ② 시각화( Stacked Bar, Mosaic)  \n",
    "    ③ 가설검정(카이제곱검정)\n",
    "* 각 feature 별로 관계의 정도를 3가지로 정리해봅시다. "
   ]
  },
  {
   "cell_type": "markdown",
   "metadata": {
    "id": "Dh2UW7_S-yoq"
   },
   "source": [
    "#### 1) MaritalStatus(결혼상태 범주) --> Attrition(이직여부)"
   ]
  },
  {
   "cell_type": "code",
   "execution_count": 184,
   "metadata": {
    "id": "2yz9iC2NNWA2"
   },
   "outputs": [],
   "source": [
    "feature = 'MaritalStatus'"
   ]
  },
  {
   "cell_type": "markdown",
   "metadata": {
    "id": "sq4qjPyrXkS3"
   },
   "source": [
    "① 교차표(pd.crosstab())"
   ]
  },
  {
   "cell_type": "code",
   "execution_count": 185,
   "metadata": {
    "id": "qkS8v_BxX3Gk"
   },
   "outputs": [
    {
     "data": {
      "text/html": [
       "<div>\n",
       "<style scoped>\n",
       "    .dataframe tbody tr th:only-of-type {\n",
       "        vertical-align: middle;\n",
       "    }\n",
       "\n",
       "    .dataframe tbody tr th {\n",
       "        vertical-align: top;\n",
       "    }\n",
       "\n",
       "    .dataframe thead th {\n",
       "        text-align: right;\n",
       "    }\n",
       "</style>\n",
       "<table border=\"1\" class=\"dataframe\">\n",
       "  <thead>\n",
       "    <tr style=\"text-align: right;\">\n",
       "      <th>MaritalStatus</th>\n",
       "      <th>Divorced</th>\n",
       "      <th>Married</th>\n",
       "      <th>Single</th>\n",
       "    </tr>\n",
       "    <tr>\n",
       "      <th>Attrition</th>\n",
       "      <th></th>\n",
       "      <th></th>\n",
       "      <th></th>\n",
       "    </tr>\n",
       "  </thead>\n",
       "  <tbody>\n",
       "    <tr>\n",
       "      <th>0</th>\n",
       "      <td>0.916667</td>\n",
       "      <td>0.878947</td>\n",
       "      <td>0.732673</td>\n",
       "    </tr>\n",
       "    <tr>\n",
       "      <th>1</th>\n",
       "      <td>0.083333</td>\n",
       "      <td>0.121053</td>\n",
       "      <td>0.267327</td>\n",
       "    </tr>\n",
       "  </tbody>\n",
       "</table>\n",
       "</div>"
      ],
      "text/plain": [
       "MaritalStatus  Divorced   Married    Single\n",
       "Attrition                                  \n",
       "0              0.916667  0.878947  0.732673\n",
       "1              0.083333  0.121053  0.267327"
      ]
     },
     "execution_count": 185,
     "metadata": {},
     "output_type": "execute_result"
    }
   ],
   "source": [
    "temp = pd.crosstab(data[target], data[feature], normalize = 'columns')\n",
    "temp"
   ]
  },
  {
   "cell_type": "markdown",
   "metadata": {
    "id": "s2QiOyPmZ1Sy"
   },
   "source": [
    "② 시각화( Stacked Bar, Mosaic)"
   ]
  },
  {
   "cell_type": "code",
   "execution_count": 186,
   "metadata": {
    "id": "eLZgTrQqYciB"
   },
   "outputs": [
    {
     "name": "stdout",
     "output_type": "stream",
     "text": [
      "Attrition             0         1\n",
      "MaritalStatus                    \n",
      "Divorced       0.916667  0.083333\n",
      "Married        0.878947  0.121053\n",
      "Single         0.732673  0.267327\n"
     ]
    },
    {
     "data": {
      "image/png": "[encoded data removed]",
      "text/plain": [
       "<Figure size 432x288 with 1 Axes>"
      ]
     },
     "metadata": {
      "needs_background": "light"
     },
     "output_type": "display_data"
    }
   ],
   "source": [
    "temp = pd.crosstab(data[feature], data[target], normalize = 'index')\n",
    "print(temp)\n",
    "\n",
    "temp.plot.bar(stacked = True)\n",
    "plt.axhline(1-data[target].mean(), color = 'r')\n",
    "plt.show()"
   ]
  },
  {
   "cell_type": "code",
   "execution_count": 187,
   "metadata": {
    "id": "RVjIC6RsaQfv"
   },
   "outputs": [
    {
     "data": {
      "image/png": "[encoded data removed]",
      "text/plain": [
       "<Figure size 432x288 with 3 Axes>"
      ]
     },
     "metadata": {
      "needs_background": "light"
     },
     "output_type": "display_data"
    }
   ],
   "source": [
    "mosaic(data, [feature, target])\n",
    "plt.axhline(1-data[target].mean(), color = 'r')\n",
    "plt.show()"
   ]
  },
  {
   "cell_type": "markdown",
   "metadata": {
    "id": "V1pyYZ3ibCyO"
   },
   "source": [
    "시각화를 통해 파악한 내용을 적어 봅시다."
   ]
  },
  {
   "cell_type": "markdown",
   "metadata": {},
   "source": [
    "> 그래프로 살펴보니, MaritalStatus(결혼상태 범주)에 따라 이직여부가 차이가 있다."
   ]
  },
  {
   "cell_type": "markdown",
   "metadata": {
    "id": "8MX4b9jZbGal"
   },
   "source": [
    "③ 가설검정(카이제곱검정)"
   ]
  },
  {
   "cell_type": "code",
   "execution_count": 188,
   "metadata": {
    "id": "vMjinA9nLP2_"
   },
   "outputs": [
    {
     "name": "stdout",
     "output_type": "stream",
     "text": [
      "교차표\n",
      " Attrition        0    1\n",
      "MaritalStatus          \n",
      "Divorced       253   23\n",
      "Married        501   69\n",
      "Single         296  108\n",
      "==================================================\n",
      "카이제곱통계량 : 53.12935546374186\n",
      "p-value : 2.9047385436211595e-12\n",
      "자유도 : 2\n",
      "기대빈도 :\n",
      " [[231.84  44.16]\n",
      " [478.8   91.2 ]\n",
      " [339.36  64.64]]\n"
     ]
    }
   ],
   "source": [
    "# 먼저 집계\n",
    "table = pd.crosstab(data[feature], data[target])\n",
    "print('교차표\\n', table)\n",
    "print('='*50)\n",
    "\n",
    "# 카이제곱검정\n",
    "result = spst.chi2_contingency(table)\n",
    "print(\"카이제곱통계량 : {}\".format(result[0]))\n",
    "print('p-value : {}'.format(result[1]))\n",
    "print('자유도 : {}'.format(result[2]))\n",
    "print('기대빈도 :\\n {}'.format(result[3]))"
   ]
  },
  {
   "cell_type": "markdown",
   "metadata": {
    "id": "wuH_fPA6bTE1"
   },
   "source": [
    "④ 시각화와 가설검정을 통해서 파악한 내용을 적어 봅시다."
   ]
  },
  {
   "cell_type": "markdown",
   "metadata": {},
   "source": [
    "> p-value가 0.05보다 작으므로, MaritalStatus(결혼상태 범주)와 Attrition(이직여부)는 관련이 있다. (강한 관계)"
   ]
  },
  {
   "cell_type": "markdown",
   "metadata": {},
   "source": [
    "> 결혼을 하면 책임감이 필요로 하기 때문에, MaritalStatus(결혼상태)가 Married면 Attrition(이직여부)가 낮을 것이다. 라는 주장은 맞았다."
   ]
  },
  {
   "cell_type": "markdown",
   "metadata": {
    "id": "liItz0vkNX2F"
   },
   "source": [
    "#### 2) RelationshipSatisfaction(동료와의 관계) --> Attrition(이직여부)"
   ]
  },
  {
   "cell_type": "code",
   "execution_count": 189,
   "metadata": {
    "id": "2yz9iC2NNWA2"
   },
   "outputs": [],
   "source": [
    "feature = 'RelationshipSatisfaction'"
   ]
  },
  {
   "cell_type": "markdown",
   "metadata": {
    "id": "sq4qjPyrXkS3"
   },
   "source": [
    "① 교차표(pd.crosstab())"
   ]
  },
  {
   "cell_type": "code",
   "execution_count": 190,
   "metadata": {
    "id": "qkS8v_BxX3Gk"
   },
   "outputs": [
    {
     "data": {
      "text/html": [
       "<div>\n",
       "<style scoped>\n",
       "    .dataframe tbody tr th:only-of-type {\n",
       "        vertical-align: middle;\n",
       "    }\n",
       "\n",
       "    .dataframe tbody tr th {\n",
       "        vertical-align: top;\n",
       "    }\n",
       "\n",
       "    .dataframe thead th {\n",
       "        text-align: right;\n",
       "    }\n",
       "</style>\n",
       "<table border=\"1\" class=\"dataframe\">\n",
       "  <thead>\n",
       "    <tr style=\"text-align: right;\">\n",
       "      <th>RelationshipSatisfaction</th>\n",
       "      <th>1</th>\n",
       "      <th>2</th>\n",
       "      <th>3</th>\n",
       "      <th>4</th>\n",
       "    </tr>\n",
       "    <tr>\n",
       "      <th>Attrition</th>\n",
       "      <th></th>\n",
       "      <th></th>\n",
       "      <th></th>\n",
       "      <th></th>\n",
       "    </tr>\n",
       "  </thead>\n",
       "  <tbody>\n",
       "    <tr>\n",
       "      <th>0</th>\n",
       "      <td>0.795652</td>\n",
       "      <td>0.841085</td>\n",
       "      <td>0.848866</td>\n",
       "      <td>0.857534</td>\n",
       "    </tr>\n",
       "    <tr>\n",
       "      <th>1</th>\n",
       "      <td>0.204348</td>\n",
       "      <td>0.158915</td>\n",
       "      <td>0.151134</td>\n",
       "      <td>0.142466</td>\n",
       "    </tr>\n",
       "  </tbody>\n",
       "</table>\n",
       "</div>"
      ],
      "text/plain": [
       "RelationshipSatisfaction         1         2         3         4\n",
       "Attrition                                                       \n",
       "0                         0.795652  0.841085  0.848866  0.857534\n",
       "1                         0.204348  0.158915  0.151134  0.142466"
      ]
     },
     "execution_count": 190,
     "metadata": {},
     "output_type": "execute_result"
    }
   ],
   "source": [
    "temp = pd.crosstab(data[target], data[feature], normalize = 'columns')\n",
    "temp"
   ]
  },
  {
   "cell_type": "markdown",
   "metadata": {
    "id": "s2QiOyPmZ1Sy"
   },
   "source": [
    "② 시각화( Stacked Bar, Mosaic)"
   ]
  },
  {
   "cell_type": "code",
   "execution_count": 191,
   "metadata": {
    "id": "eLZgTrQqYciB"
   },
   "outputs": [
    {
     "name": "stdout",
     "output_type": "stream",
     "text": [
      "Attrition                        0         1\n",
      "RelationshipSatisfaction                    \n",
      "1                         0.795652  0.204348\n",
      "2                         0.841085  0.158915\n",
      "3                         0.848866  0.151134\n",
      "4                         0.857534  0.142466\n"
     ]
    },
    {
     "data": {
      "image/png": "[encoded data removed]",
      "text/plain": [
       "<Figure size 432x288 with 1 Axes>"
      ]
     },
     "metadata": {
      "needs_background": "light"
     },
     "output_type": "display_data"
    }
   ],
   "source": [
    "temp = pd.crosstab(data[feature], data[target], normalize = 'index')\n",
    "print(temp)\n",
    "\n",
    "temp.plot.bar(stacked = True)\n",
    "plt.axhline(1-data[target].mean(), color = 'r')\n",
    "plt.show()"
   ]
  },
  {
   "cell_type": "code",
   "execution_count": 192,
   "metadata": {
    "id": "RVjIC6RsaQfv"
   },
   "outputs": [
    {
     "data": {
      "image/png": "[encoded data removed]",
      "text/plain": [
       "<Figure size 432x288 with 3 Axes>"
      ]
     },
     "metadata": {
      "needs_background": "light"
     },
     "output_type": "display_data"
    }
   ],
   "source": [
    "mosaic(data, [feature, target])\n",
    "plt.axhline(1-data[target].mean(), color = 'r')\n",
    "plt.show()"
   ]
  },
  {
   "cell_type": "markdown",
   "metadata": {
    "id": "V1pyYZ3ibCyO"
   },
   "source": [
    "시각화를 통해 파악한 내용을 적어 봅시다."
   ]
  },
  {
   "cell_type": "markdown",
   "metadata": {},
   "source": [
    "> 그래프로 살펴보니, RelationshipSatisfaction(동료와의 관계)와 Attrition(이직여부)는 관련이 크게 없어 보인다."
   ]
  },
  {
   "cell_type": "markdown",
   "metadata": {
    "id": "8MX4b9jZbGal"
   },
   "source": [
    "③ 가설검정(카이제곱검정)"
   ]
  },
  {
   "cell_type": "code",
   "execution_count": 193,
   "metadata": {
    "id": "vMjinA9nLP2_"
   },
   "outputs": [
    {
     "name": "stdout",
     "output_type": "stream",
     "text": [
      "교차표\n",
      " Attrition                   0   1\n",
      "RelationshipSatisfaction         \n",
      "1                         183  47\n",
      "2                         217  41\n",
      "3                         337  60\n",
      "4                         313  52\n",
      "==================================================\n",
      "카이제곱통계량 : 4.435126158518535\n",
      "p-value : 0.2181503949975081\n",
      "자유도 : 3\n",
      "기대빈도 :\n",
      " [[193.2   36.8 ]\n",
      " [216.72  41.28]\n",
      " [333.48  63.52]\n",
      " [306.6   58.4 ]]\n"
     ]
    }
   ],
   "source": [
    "# 먼저 집계\n",
    "table = pd.crosstab(data[feature], data[target])\n",
    "print('교차표\\n', table)\n",
    "print('='*50)\n",
    "\n",
    "# 카이제곱검정\n",
    "result = spst.chi2_contingency(table)\n",
    "print(\"카이제곱통계량 : {}\".format(result[0]))\n",
    "print('p-value : {}'.format(result[1]))\n",
    "print('자유도 : {}'.format(result[2]))\n",
    "print('기대빈도 :\\n {}'.format(result[3]))"
   ]
  },
  {
   "cell_type": "markdown",
   "metadata": {
    "id": "wuH_fPA6bTE1"
   },
   "source": [
    "④ 시각화와 가설검정을 통해서 파악한 내용을 적어 봅시다."
   ]
  },
  {
   "cell_type": "markdown",
   "metadata": {},
   "source": [
    "> p-value가 0.05보다 크므로, RelationshipSatisfaction(동료와의 관계)와 Attrition(이직여부)는 관련이 없다. (관련 없음)"
   ]
  },
  {
   "cell_type": "markdown",
   "metadata": {},
   "source": [
    "> RelationshipSatisfaction(동료와의 관계)가 좋을 수록 Attrition(이직여부)가 낮을 것이다. 라는 주장은 틀렸다."
   ]
  },
  {
   "cell_type": "markdown",
   "metadata": {
    "id": "TplEQHKlNYgN"
   },
   "source": [
    "#### 3) WorkLifeBalance(워라밸. 일-삶 균형도) --> Attrition(이직여부)"
   ]
  },
  {
   "cell_type": "code",
   "execution_count": 194,
   "metadata": {
    "id": "EOK-_0YwNYgN"
   },
   "outputs": [],
   "source": [
    "feature = 'WorkLifeBalance'"
   ]
  },
  {
   "cell_type": "markdown",
   "metadata": {
    "id": "sq4qjPyrXkS3"
   },
   "source": [
    "① 교차표(pd.crosstab())"
   ]
  },
  {
   "cell_type": "code",
   "execution_count": 195,
   "metadata": {
    "id": "qkS8v_BxX3Gk"
   },
   "outputs": [
    {
     "data": {
      "text/html": [
       "<div>\n",
       "<style scoped>\n",
       "    .dataframe tbody tr th:only-of-type {\n",
       "        vertical-align: middle;\n",
       "    }\n",
       "\n",
       "    .dataframe tbody tr th {\n",
       "        vertical-align: top;\n",
       "    }\n",
       "\n",
       "    .dataframe thead th {\n",
       "        text-align: right;\n",
       "    }\n",
       "</style>\n",
       "<table border=\"1\" class=\"dataframe\">\n",
       "  <thead>\n",
       "    <tr style=\"text-align: right;\">\n",
       "      <th>WorkLifeBalance</th>\n",
       "      <th>1</th>\n",
       "      <th>2</th>\n",
       "      <th>3</th>\n",
       "      <th>4</th>\n",
       "    </tr>\n",
       "    <tr>\n",
       "      <th>Attrition</th>\n",
       "      <th></th>\n",
       "      <th></th>\n",
       "      <th></th>\n",
       "      <th></th>\n",
       "    </tr>\n",
       "  </thead>\n",
       "  <tbody>\n",
       "    <tr>\n",
       "      <th>0</th>\n",
       "      <td>0.710145</td>\n",
       "      <td>0.845118</td>\n",
       "      <td>0.855422</td>\n",
       "      <td>0.810219</td>\n",
       "    </tr>\n",
       "    <tr>\n",
       "      <th>1</th>\n",
       "      <td>0.289855</td>\n",
       "      <td>0.154882</td>\n",
       "      <td>0.144578</td>\n",
       "      <td>0.189781</td>\n",
       "    </tr>\n",
       "  </tbody>\n",
       "</table>\n",
       "</div>"
      ],
      "text/plain": [
       "WorkLifeBalance         1         2         3         4\n",
       "Attrition                                              \n",
       "0                0.710145  0.845118  0.855422  0.810219\n",
       "1                0.289855  0.154882  0.144578  0.189781"
      ]
     },
     "execution_count": 195,
     "metadata": {},
     "output_type": "execute_result"
    }
   ],
   "source": [
    "temp = pd.crosstab(data[target], data[feature], normalize = 'columns')\n",
    "temp"
   ]
  },
  {
   "cell_type": "markdown",
   "metadata": {
    "id": "s2QiOyPmZ1Sy"
   },
   "source": [
    "② 시각화( Stacked Bar, Mosaic)"
   ]
  },
  {
   "cell_type": "code",
   "execution_count": 196,
   "metadata": {
    "id": "eLZgTrQqYciB"
   },
   "outputs": [
    {
     "name": "stdout",
     "output_type": "stream",
     "text": [
      "Attrition               0         1\n",
      "WorkLifeBalance                    \n",
      "1                0.710145  0.289855\n",
      "2                0.845118  0.154882\n",
      "3                0.855422  0.144578\n",
      "4                0.810219  0.189781\n"
     ]
    },
    {
     "data": {
      "image/png": "[encoded data removed]",
      "text/plain": [
       "<Figure size 432x288 with 1 Axes>"
      ]
     },
     "metadata": {
      "needs_background": "light"
     },
     "output_type": "display_data"
    }
   ],
   "source": [
    "temp = pd.crosstab(data[feature], data[target], normalize = 'index')\n",
    "print(temp)\n",
    "\n",
    "temp.plot.bar(stacked = True)\n",
    "plt.axhline(1-data[target].mean(), color = 'r')\n",
    "plt.show()"
   ]
  },
  {
   "cell_type": "code",
   "execution_count": 197,
   "metadata": {
    "id": "RVjIC6RsaQfv"
   },
   "outputs": [
    {
     "data": {
      "image/png": "[encoded data removed]",
      "text/plain": [
       "<Figure size 432x288 with 3 Axes>"
      ]
     },
     "metadata": {
      "needs_background": "light"
     },
     "output_type": "display_data"
    }
   ],
   "source": [
    "mosaic(data, [feature, target])\n",
    "plt.axhline(1-data[target].mean(), color = 'r')\n",
    "plt.show()"
   ]
  },
  {
   "cell_type": "markdown",
   "metadata": {
    "id": "V1pyYZ3ibCyO"
   },
   "source": [
    "시각화를 통해 파악한 내용을 적어 봅시다."
   ]
  },
  {
   "cell_type": "markdown",
   "metadata": {},
   "source": [
    "> 그래프로 살펴보니, WorkLifeBalance(워라밸. 일-삶 균형도)와 Attrition(이직여부)는 약하게 관련이 있어 보인다."
   ]
  },
  {
   "cell_type": "markdown",
   "metadata": {
    "id": "8MX4b9jZbGal"
   },
   "source": [
    "③ 가설검정(카이제곱검정)"
   ]
  },
  {
   "cell_type": "code",
   "execution_count": 198,
   "metadata": {
    "id": "vMjinA9nLP2_"
   },
   "outputs": [
    {
     "name": "stdout",
     "output_type": "stream",
     "text": [
      "교차표\n",
      " Attrition          0    1\n",
      "WorkLifeBalance          \n",
      "1                 49   20\n",
      "2                251   46\n",
      "3                639  108\n",
      "4                111   26\n",
      "==================================================\n",
      "카이제곱통계량 : 10.940810822342664\n",
      "p-value : 0.012050277390233675\n",
      "자유도 : 3\n",
      "기대빈도 :\n",
      " [[ 57.96  11.04]\n",
      " [249.48  47.52]\n",
      " [627.48 119.52]\n",
      " [115.08  21.92]]\n"
     ]
    }
   ],
   "source": [
    "# 먼저 집계\n",
    "table = pd.crosstab(data[feature], data[target])\n",
    "print('교차표\\n', table)\n",
    "print('='*50)\n",
    "\n",
    "# 카이제곱검정\n",
    "result = spst.chi2_contingency(table)\n",
    "print(\"카이제곱통계량 : {}\".format(result[0]))\n",
    "print('p-value : {}'.format(result[1]))\n",
    "print('자유도 : {}'.format(result[2]))\n",
    "print('기대빈도 :\\n {}'.format(result[3]))"
   ]
  },
  {
   "cell_type": "markdown",
   "metadata": {
    "id": "wuH_fPA6bTE1"
   },
   "source": [
    "④ 시각화와 가설검정을 통해서 파악한 내용을 적어 봅시다."
   ]
  },
  {
   "cell_type": "markdown",
   "metadata": {},
   "source": [
    "> p-value가 0.05보다 작으므로, WorkLifeBalance(워라밸. 일-삶 균형도)와 Attrition(이직여부)는 관련이 있다. (약한 관계)"
   ]
  },
  {
   "cell_type": "markdown",
   "metadata": {},
   "source": [
    "> WorkLifeBalance(워라밸. 일-삶 균형도)가 좋을 수록 Attrition(이직여부)가 낮을 것이다. 라는 주장은 맞다."
   ]
  },
  {
   "cell_type": "markdown",
   "metadata": {
    "id": "4satnDSlVnJW"
   },
   "source": [
    "#### 4) OverTime(야근여부) --> Attrition(이직여부)"
   ]
  },
  {
   "cell_type": "code",
   "execution_count": 226,
   "metadata": {
    "id": "EOK-_0YwNYgN"
   },
   "outputs": [],
   "source": [
    "feature = 'OverTime'"
   ]
  },
  {
   "cell_type": "markdown",
   "metadata": {
    "id": "sq4qjPyrXkS3"
   },
   "source": [
    "① 교차표(pd.crosstab())"
   ]
  },
  {
   "cell_type": "code",
   "execution_count": 227,
   "metadata": {
    "id": "qkS8v_BxX3Gk"
   },
   "outputs": [
    {
     "data": {
      "text/html": [
       "<div>\n",
       "<style scoped>\n",
       "    .dataframe tbody tr th:only-of-type {\n",
       "        vertical-align: middle;\n",
       "    }\n",
       "\n",
       "    .dataframe tbody tr th {\n",
       "        vertical-align: top;\n",
       "    }\n",
       "\n",
       "    .dataframe thead th {\n",
       "        text-align: right;\n",
       "    }\n",
       "</style>\n",
       "<table border=\"1\" class=\"dataframe\">\n",
       "  <thead>\n",
       "    <tr style=\"text-align: right;\">\n",
       "      <th>OverTime</th>\n",
       "      <th>No</th>\n",
       "      <th>Yes</th>\n",
       "    </tr>\n",
       "    <tr>\n",
       "      <th>Attrition</th>\n",
       "      <th></th>\n",
       "      <th></th>\n",
       "    </tr>\n",
       "  </thead>\n",
       "  <tbody>\n",
       "    <tr>\n",
       "      <th>0</th>\n",
       "      <td>0.896205</td>\n",
       "      <td>0.69774</td>\n",
       "    </tr>\n",
       "    <tr>\n",
       "      <th>1</th>\n",
       "      <td>0.103795</td>\n",
       "      <td>0.30226</td>\n",
       "    </tr>\n",
       "  </tbody>\n",
       "</table>\n",
       "</div>"
      ],
      "text/plain": [
       "OverTime         No      Yes\n",
       "Attrition                   \n",
       "0          0.896205  0.69774\n",
       "1          0.103795  0.30226"
      ]
     },
     "execution_count": 227,
     "metadata": {},
     "output_type": "execute_result"
    }
   ],
   "source": [
    "temp = pd.crosstab(data[target], data[feature], normalize = 'columns')\n",
    "temp"
   ]
  },
  {
   "cell_type": "markdown",
   "metadata": {
    "id": "s2QiOyPmZ1Sy"
   },
   "source": [
    "② 시각화( Stacked Bar, Mosaic)"
   ]
  },
  {
   "cell_type": "code",
   "execution_count": 228,
   "metadata": {
    "id": "eLZgTrQqYciB"
   },
   "outputs": [
    {
     "name": "stdout",
     "output_type": "stream",
     "text": [
      "Attrition         0         1\n",
      "OverTime                     \n",
      "No         0.896205  0.103795\n",
      "Yes        0.697740  0.302260\n"
     ]
    },
    {
     "data": {
      "image/png": "[encoded data removed]",
      "text/plain": [
       "<Figure size 432x288 with 1 Axes>"
      ]
     },
     "metadata": {
      "needs_background": "light"
     },
     "output_type": "display_data"
    }
   ],
   "source": [
    "temp = pd.crosstab(data[feature], data[target], normalize = 'index')\n",
    "print(temp)\n",
    "\n",
    "temp.plot.bar(stacked = True)\n",
    "plt.axhline(1-data[target].mean(), color = 'r')\n",
    "plt.show()"
   ]
  },
  {
   "cell_type": "code",
   "execution_count": 229,
   "metadata": {
    "id": "RVjIC6RsaQfv"
   },
   "outputs": [
    {
     "data": {
      "image/png": "[encoded data removed]",
      "text/plain": [
       "<Figure size 432x288 with 3 Axes>"
      ]
     },
     "metadata": {
      "needs_background": "light"
     },
     "output_type": "display_data"
    }
   ],
   "source": [
    "mosaic(data, [feature, target])\n",
    "plt.axhline(1-data[target].mean(), color = 'r')\n",
    "plt.show()"
   ]
  },
  {
   "cell_type": "markdown",
   "metadata": {
    "id": "V1pyYZ3ibCyO"
   },
   "source": [
    "시각화를 통해 파악한 내용을 적어 봅시다."
   ]
  },
  {
   "cell_type": "markdown",
   "metadata": {},
   "source": [
    "> 그래프로 살펴보니, OverTime(야근여부)에 따라 다른 결과를 보인다.  \n",
    "야근을 하는 직원들이 야근을 하는 직원에 비해 이직을 많이 한다."
   ]
  },
  {
   "cell_type": "markdown",
   "metadata": {
    "id": "8MX4b9jZbGal"
   },
   "source": [
    "③ 가설검정(카이제곱검정)"
   ]
  },
  {
   "cell_type": "code",
   "execution_count": 230,
   "metadata": {
    "id": "vMjinA9nLP2_"
   },
   "outputs": [
    {
     "name": "stdout",
     "output_type": "stream",
     "text": [
      "교차표\n",
      " Attrition    0    1\n",
      "OverTime           \n",
      "No         803   93\n",
      "Yes        247  107\n",
      "==================================================\n",
      "카이제곱통계량 : 72.89605419432075\n",
      "p-value : 1.366611233098835e-17\n",
      "자유도 : 1\n",
      "기대빈도 :\n",
      " [[752.64 143.36]\n",
      " [297.36  56.64]]\n"
     ]
    }
   ],
   "source": [
    "# 먼저 집계\n",
    "table = pd.crosstab(data[feature], data[target])\n",
    "print('교차표\\n', table)\n",
    "print('='*50)\n",
    "\n",
    "# 카이제곱검정\n",
    "result = spst.chi2_contingency(table)\n",
    "print(\"카이제곱통계량 : {}\".format(result[0]))\n",
    "print('p-value : {}'.format(result[1]))\n",
    "print('자유도 : {}'.format(result[2]))\n",
    "print('기대빈도 :\\n {}'.format(result[3]))"
   ]
  },
  {
   "cell_type": "markdown",
   "metadata": {
    "id": "wuH_fPA6bTE1"
   },
   "source": [
    "④ 시각화와 가설검정을 통해서 파악한 내용을 적어 봅시다."
   ]
  },
  {
   "cell_type": "markdown",
   "metadata": {},
   "source": [
    "> p-value가 0.05보다 작으므로, WorkLifeBalance(워라밸. 일-삶 균형도)와 Attrition(이직여부)는 관련이 있다. (약한 관계)"
   ]
  },
  {
   "cell_type": "markdown",
   "metadata": {},
   "source": [
    "> OverTime(야근여부)가 있을 수록 Attrition(이직여부)가 높을 것이다. 라는 주장은 맞다."
   ]
  },
  {
   "cell_type": "markdown",
   "metadata": {},
   "source": [
    "> → 야근을 하는 직원과 야근을 하지않는 직원, 2 그룹으로 나누어 자세히 살펴볼 필요가 있다. 그래야 더 정확한 정보를 얻을 수 있지 않을까 기대한다."
   ]
  },
  {
   "cell_type": "markdown",
   "metadata": {
    "id": "lUsQ0iBHMqte"
   },
   "source": [
    "### (2) 숫자형 Feature --> 범주형 Target\n",
    "\n",
    "* 숫자형 Feature에 대해서 Y와 비교하여 차트를 그리고 수치화 하시오.  \n",
    "    ① 그래프 : histogram, densityplot   \n",
    "    ② 수치화 : 로지스틱회귀"
   ]
  },
  {
   "cell_type": "markdown",
   "metadata": {
    "id": "v6cXSmzdNlNC"
   },
   "source": [
    "#### 1) DistanceFromHome(집-직장 거리) --> Attrition(이직여부)"
   ]
  },
  {
   "cell_type": "code",
   "execution_count": 199,
   "metadata": {
    "id": "yXxZ-66_NlNC"
   },
   "outputs": [],
   "source": [
    "feature = 'DistanceFromHome'"
   ]
  },
  {
   "cell_type": "markdown",
   "metadata": {
    "id": "iZwchGY8eRH_"
   },
   "source": [
    "① 그래프 : histogram, densityplot"
   ]
  },
  {
   "cell_type": "code",
   "execution_count": 200,
   "metadata": {
    "id": "zkMwa2_hLj0J",
    "scrolled": true
   },
   "outputs": [
    {
     "data": {
      "image/png": "[encoded data removed]",
      "text/plain": [
       "<Figure size 432x288 with 1 Axes>"
      ]
     },
     "metadata": {
      "needs_background": "light"
     },
     "output_type": "display_data"
    }
   ],
   "source": [
    "sns.histplot(x=feature, data = data, hue = target)\n",
    "plt.show()"
   ]
  },
  {
   "cell_type": "code",
   "execution_count": 201,
   "metadata": {
    "id": "eRlncc70NlNC"
   },
   "outputs": [
    {
     "data": {
      "image/png": "[encoded data removed]",
      "text/plain": [
       "<Figure size 432x288 with 1 Axes>"
      ]
     },
     "metadata": {
      "needs_background": "light"
     },
     "output_type": "display_data"
    }
   ],
   "source": [
    "d0 = data.loc[data[target]==0]\n",
    "d1 = data.loc[data[target]==1]\n",
    "\n",
    "sns.kdeplot(x=feature, data = d0, label = '0: stay')\n",
    "sns.kdeplot(x=feature, data = d1, label = '1: out')\n",
    "plt.legend()\n",
    "plt.show()"
   ]
  },
  {
   "cell_type": "markdown",
   "metadata": {
    "id": "62LpmfYBfADw"
   },
   "source": [
    "시각화를 통해 파악한 내용을 적어 봅시다."
   ]
  },
  {
   "cell_type": "markdown",
   "metadata": {
    "id": "36-jxwdxLnQd"
   },
   "source": [
    ">  DistanceFromHome(집-직장 거리) 와 Attrition(이직여부)는 관련이 커 보인다."
   ]
  },
  {
   "cell_type": "markdown",
   "metadata": {
    "id": "AMOh1uw2fVoO"
   },
   "source": [
    "② 수치화 : 로지스틱회귀"
   ]
  },
  {
   "cell_type": "code",
   "execution_count": 202,
   "metadata": {
    "id": "_trwmx6iLn5M",
    "scrolled": true
   },
   "outputs": [
    {
     "name": "stdout",
     "output_type": "stream",
     "text": [
      "Optimization terminated successfully.\n",
      "         Current function value: 0.562055\n",
      "         Iterations 6\n",
      "p-value: DistanceFromHome    5.890702e-48\n",
      "dtype: float64\n"
     ]
    }
   ],
   "source": [
    "model = sm.Logit(data[target], data[feature])\n",
    "result = model.fit()\n",
    "print('p-value: {}'.format(result.pvalues))"
   ]
  },
  {
   "cell_type": "markdown",
   "metadata": {
    "id": "1QGY11sufcJ1"
   },
   "source": [
    "③ 시각화와 수치화를 통해 파악한 내용을 적어 봅시다."
   ]
  },
  {
   "cell_type": "markdown",
   "metadata": {
    "id": "Eg_fzBzqbj0U"
   },
   "source": [
    "> v-value가 0.05보다 작으므로, DistanceFromHome(집-직장 거리) 와 Attrition(이직여부)는 관련이 크다. (약한 관계)"
   ]
  },
  {
   "cell_type": "markdown",
   "metadata": {},
   "source": [
    "> DistanceFromHome(집-직장 거리)가 가까울 수록 Attrition(이직여부)가 낮을 것이다. 라는 주장은 맞다."
   ]
  },
  {
   "cell_type": "markdown",
   "metadata": {
    "id": "CPkwhq72NlNC"
   },
   "source": [
    "#### 2) NumCompaniesWorked(입사 전 근무한 회사 수) --> Attrition(이직여부)"
   ]
  },
  {
   "cell_type": "code",
   "execution_count": 203,
   "metadata": {
    "id": "yXxZ-66_NlNC"
   },
   "outputs": [],
   "source": [
    "feature = 'NumCompaniesWorked'"
   ]
  },
  {
   "cell_type": "markdown",
   "metadata": {
    "id": "iZwchGY8eRH_"
   },
   "source": [
    "① 그래프 : histogram, densityplot"
   ]
  },
  {
   "cell_type": "code",
   "execution_count": 204,
   "metadata": {
    "id": "zkMwa2_hLj0J",
    "scrolled": true
   },
   "outputs": [
    {
     "data": {
      "image/png": "[encoded data removed]",
      "text/plain": [
       "<Figure size 432x288 with 1 Axes>"
      ]
     },
     "metadata": {
      "needs_background": "light"
     },
     "output_type": "display_data"
    }
   ],
   "source": [
    "sns.histplot(x=feature, data = data, hue = target)\n",
    "plt.show()"
   ]
  },
  {
   "cell_type": "code",
   "execution_count": 205,
   "metadata": {
    "id": "eRlncc70NlNC"
   },
   "outputs": [
    {
     "data": {
      "image/png": "[encoded data removed]",
      "text/plain": [
       "<Figure size 432x288 with 1 Axes>"
      ]
     },
     "metadata": {
      "needs_background": "light"
     },
     "output_type": "display_data"
    }
   ],
   "source": [
    "d0 = data.loc[data[target]==0]\n",
    "d1 = data.loc[data[target]==1]\n",
    "\n",
    "sns.kdeplot(x=feature, data = d0, label = '0: stay')\n",
    "sns.kdeplot(x=feature, data = d1, label = '1: out')\n",
    "plt.legend()\n",
    "plt.show()"
   ]
  },
  {
   "cell_type": "markdown",
   "metadata": {
    "id": "62LpmfYBfADw"
   },
   "source": [
    "시각화를 통해 파악한 내용을 적어 봅시다."
   ]
  },
  {
   "cell_type": "markdown",
   "metadata": {
    "id": "36-jxwdxLnQd"
   },
   "source": [
    ">  NumCompaniesWorked(입사 전 근무한 회사 수) 와 Attrition(이직여부)는 관련이 커 보인다."
   ]
  },
  {
   "cell_type": "markdown",
   "metadata": {
    "id": "AMOh1uw2fVoO"
   },
   "source": [
    "② 수치화 : 로지스틱회귀"
   ]
  },
  {
   "cell_type": "code",
   "execution_count": 206,
   "metadata": {
    "id": "_trwmx6iLn5M",
    "scrolled": true
   },
   "outputs": [
    {
     "name": "stdout",
     "output_type": "stream",
     "text": [
      "Optimization terminated successfully.\n",
      "         Current function value: 0.564409\n",
      "         Iterations 6\n",
      "p-value: NumCompaniesWorked    7.457295e-46\n",
      "dtype: float64\n"
     ]
    }
   ],
   "source": [
    "model = sm.Logit(data[target], data[feature])\n",
    "result = model.fit()\n",
    "print('p-value: {}'.format(result.pvalues))"
   ]
  },
  {
   "cell_type": "markdown",
   "metadata": {
    "id": "1QGY11sufcJ1"
   },
   "source": [
    "③ 시각화와 수치화를 통해 파악한 내용을 적어 봅시다."
   ]
  },
  {
   "cell_type": "markdown",
   "metadata": {
    "id": "Eg_fzBzqbj0U"
   },
   "source": [
    "> p-value가 0.05보다 작으므로, NumCompaniesWorked(입사 전 근무한 회사 수) 와 Attrition(이직여부)는 관련이 크다. (강한 관계)"
   ]
  },
  {
   "cell_type": "markdown",
   "metadata": {},
   "source": [
    "> DistanceFromHome(집-직장 거리)가 가까울 수록 Attrition(이직여부)가 낮을 것이다. 라는 주장은 맞다."
   ]
  },
  {
   "cell_type": "markdown",
   "metadata": {
    "id": "KF1sV61jNlND"
   },
   "source": [
    "#### 3) PercentSalaryHike(전년대비 급여인상율) --> Attrition(이직여부)"
   ]
  },
  {
   "cell_type": "code",
   "execution_count": 207,
   "metadata": {
    "id": "yXxZ-66_NlNC"
   },
   "outputs": [],
   "source": [
    "feature = 'PercentSalaryHike'"
   ]
  },
  {
   "cell_type": "markdown",
   "metadata": {
    "id": "iZwchGY8eRH_"
   },
   "source": [
    "① 그래프 : histogram, densityplot"
   ]
  },
  {
   "cell_type": "code",
   "execution_count": 208,
   "metadata": {
    "id": "zkMwa2_hLj0J",
    "scrolled": true
   },
   "outputs": [
    {
     "data": {
      "image/png": "[encoded data removed]",
      "text/plain": [
       "<Figure size 432x288 with 1 Axes>"
      ]
     },
     "metadata": {
      "needs_background": "light"
     },
     "output_type": "display_data"
    }
   ],
   "source": [
    "sns.histplot(x=feature, data = data, hue = target)\n",
    "plt.show()"
   ]
  },
  {
   "cell_type": "code",
   "execution_count": 209,
   "metadata": {
    "id": "eRlncc70NlNC"
   },
   "outputs": [
    {
     "data": {
      "image/png": "[encoded data removed]",
      "text/plain": [
       "<Figure size 432x288 with 1 Axes>"
      ]
     },
     "metadata": {
      "needs_background": "light"
     },
     "output_type": "display_data"
    }
   ],
   "source": [
    "d0 = data.loc[data[target]==0]\n",
    "d1 = data.loc[data[target]==1]\n",
    "\n",
    "sns.kdeplot(x=feature, data = d0, label = '0: stay')\n",
    "sns.kdeplot(x=feature, data = d1, label = '1: out')\n",
    "plt.legend()\n",
    "plt.show()"
   ]
  },
  {
   "cell_type": "markdown",
   "metadata": {
    "id": "62LpmfYBfADw"
   },
   "source": [
    "시각화를 통해 파악한 내용을 적어 봅시다."
   ]
  },
  {
   "cell_type": "markdown",
   "metadata": {
    "id": "36-jxwdxLnQd"
   },
   "source": [
    ">  PercentSalaryHike(전년대비 급여인상율) 와 Attrition(이직여부)는 관련이 커 보인다."
   ]
  },
  {
   "cell_type": "markdown",
   "metadata": {
    "id": "AMOh1uw2fVoO"
   },
   "source": [
    "② 수치화 : 로지스틱회귀"
   ]
  },
  {
   "cell_type": "code",
   "execution_count": 210,
   "metadata": {
    "id": "_trwmx6iLn5M",
    "scrolled": true
   },
   "outputs": [
    {
     "name": "stdout",
     "output_type": "stream",
     "text": [
      "Optimization terminated successfully.\n",
      "         Current function value: 0.450230\n",
      "         Iterations 5\n",
      "p-value: PercentSalaryHike    3.979995e-95\n",
      "dtype: float64\n"
     ]
    }
   ],
   "source": [
    "model = sm.Logit(data[target], data[feature])\n",
    "result = model.fit()\n",
    "print('p-value: {}'.format(result.pvalues))"
   ]
  },
  {
   "cell_type": "markdown",
   "metadata": {
    "id": "1QGY11sufcJ1"
   },
   "source": [
    "③ 시각화와 수치화를 통해 파악한 내용을 적어 봅시다."
   ]
  },
  {
   "cell_type": "markdown",
   "metadata": {
    "id": "Eg_fzBzqbj0U"
   },
   "source": [
    "> p-value가 0.05보다 작으므로, PercentSalaryHike(전년대비 급여인상율) 와 Attrition(이직여부)는 관련이 크다. (강한 관계)"
   ]
  },
  {
   "cell_type": "markdown",
   "metadata": {},
   "source": [
    "> PercentSalaryHike(전년대비 급여인상율)이 높을 수록 Attrition(이직여부)가 낮을 것이다. 라는 주장은 맞다."
   ]
  },
  {
   "cell_type": "markdown",
   "metadata": {
    "id": "KF1sV61jNlND"
   },
   "source": [
    "#### 4) TotalWorkingYears(총 경력 연수) --> Attrition(이직여부)"
   ]
  },
  {
   "cell_type": "code",
   "execution_count": 211,
   "metadata": {
    "id": "yXxZ-66_NlNC"
   },
   "outputs": [],
   "source": [
    "feature = 'TotalWorkingYears'"
   ]
  },
  {
   "cell_type": "markdown",
   "metadata": {
    "id": "iZwchGY8eRH_"
   },
   "source": [
    "① 그래프 : histogram, densityplot"
   ]
  },
  {
   "cell_type": "code",
   "execution_count": 212,
   "metadata": {
    "id": "zkMwa2_hLj0J",
    "scrolled": true
   },
   "outputs": [
    {
     "data": {
      "image/png": "[encoded data removed]",
      "text/plain": [
       "<Figure size 432x288 with 1 Axes>"
      ]
     },
     "metadata": {
      "needs_background": "light"
     },
     "output_type": "display_data"
    }
   ],
   "source": [
    "sns.histplot(x=feature, data = data, hue = target)\n",
    "plt.show()"
   ]
  },
  {
   "cell_type": "code",
   "execution_count": 213,
   "metadata": {
    "id": "eRlncc70NlNC"
   },
   "outputs": [
    {
     "data": {
      "image/png": "[encoded data removed]",
      "text/plain": [
       "<Figure size 432x288 with 1 Axes>"
      ]
     },
     "metadata": {
      "needs_background": "light"
     },
     "output_type": "display_data"
    }
   ],
   "source": [
    "d0 = data.loc[data[target]==0]\n",
    "d1 = data.loc[data[target]==1]\n",
    "\n",
    "sns.kdeplot(x=feature, data = d0, label = '0: stay')\n",
    "sns.kdeplot(x=feature, data = d1, label = '1: out')\n",
    "plt.legend()\n",
    "plt.show()"
   ]
  },
  {
   "cell_type": "markdown",
   "metadata": {
    "id": "62LpmfYBfADw"
   },
   "source": [
    "시각화를 통해 파악한 내용을 적어 봅시다."
   ]
  },
  {
   "cell_type": "markdown",
   "metadata": {
    "id": "36-jxwdxLnQd"
   },
   "source": [
    ">  PercentSalaryHike(전년대비 급여인상율) 와 Attrition(이직여부)는 관련이 있어 보인다."
   ]
  },
  {
   "cell_type": "markdown",
   "metadata": {
    "id": "AMOh1uw2fVoO"
   },
   "source": [
    "② 수치화 : 로지스틱회귀"
   ]
  },
  {
   "cell_type": "code",
   "execution_count": 214,
   "metadata": {
    "id": "_trwmx6iLn5M",
    "scrolled": true
   },
   "outputs": [
    {
     "name": "stdout",
     "output_type": "stream",
     "text": [
      "Optimization terminated successfully.\n",
      "         Current function value: 0.432906\n",
      "         Iterations 6\n",
      "p-value: TotalWorkingYears    1.867338e-74\n",
      "dtype: float64\n"
     ]
    }
   ],
   "source": [
    "model = sm.Logit(data[target], data[feature])\n",
    "result = model.fit()\n",
    "print('p-value: {}'.format(result.pvalues))"
   ]
  },
  {
   "cell_type": "markdown",
   "metadata": {
    "id": "1QGY11sufcJ1"
   },
   "source": [
    "③ 시각화와 수치화를 통해 파악한 내용을 적어 봅시다."
   ]
  },
  {
   "cell_type": "markdown",
   "metadata": {
    "id": "Eg_fzBzqbj0U"
   },
   "source": [
    "> p-value가 0.05보다 작으므로, TotalWorkingYears(총 경력 연수) 와 Attrition(이직여부)는 관련이 크다. (강한 관계)"
   ]
  },
  {
   "cell_type": "markdown",
   "metadata": {},
   "source": [
    "> TotalWorkingYears(총 경력 연수)이 높을 수록 Attrition(이직여부)가 낮을 것이다. 라는 주장은 맞다."
   ]
  },
  {
   "cell_type": "markdown",
   "metadata": {
    "id": "KF1sV61jNlND"
   },
   "source": [
    "#### 5) MonthlyIncome(월급)--> Attrition(이직여부)"
   ]
  },
  {
   "cell_type": "code",
   "execution_count": 215,
   "metadata": {
    "id": "yXxZ-66_NlNC"
   },
   "outputs": [],
   "source": [
    "feature = 'MonthlyIncome'"
   ]
  },
  {
   "cell_type": "markdown",
   "metadata": {
    "id": "iZwchGY8eRH_"
   },
   "source": [
    "① 그래프 : histogram, densityplot"
   ]
  },
  {
   "cell_type": "code",
   "execution_count": 216,
   "metadata": {
    "id": "zkMwa2_hLj0J",
    "scrolled": true
   },
   "outputs": [
    {
     "data": {
      "image/png": "[encoded data removed]",
      "text/plain": [
       "<Figure size 432x288 with 1 Axes>"
      ]
     },
     "metadata": {
      "needs_background": "light"
     },
     "output_type": "display_data"
    }
   ],
   "source": [
    "sns.histplot(x=feature, data = data, hue = target)\n",
    "plt.show()"
   ]
  },
  {
   "cell_type": "code",
   "execution_count": 217,
   "metadata": {
    "id": "eRlncc70NlNC"
   },
   "outputs": [
    {
     "data": {
      "image/png": "[encoded data removed]",
      "text/plain": [
       "<Figure size 432x288 with 1 Axes>"
      ]
     },
     "metadata": {
      "needs_background": "light"
     },
     "output_type": "display_data"
    }
   ],
   "source": [
    "d0 = data.loc[data[target]==0]\n",
    "d1 = data.loc[data[target]==1]\n",
    "\n",
    "sns.kdeplot(x=feature, data = d0, label = '0: stay')\n",
    "sns.kdeplot(x=feature, data = d1, label = '1: out')\n",
    "plt.legend()\n",
    "plt.show()"
   ]
  },
  {
   "cell_type": "markdown",
   "metadata": {
    "id": "62LpmfYBfADw"
   },
   "source": [
    "시각화를 통해 파악한 내용을 적어 봅시다."
   ]
  },
  {
   "cell_type": "markdown",
   "metadata": {
    "id": "36-jxwdxLnQd"
   },
   "source": [
    ">  MonthlyIncome(월급) 과 Attrition(이직여부)는 관련이 있어 보인다."
   ]
  },
  {
   "cell_type": "markdown",
   "metadata": {
    "id": "AMOh1uw2fVoO"
   },
   "source": [
    "② 수치화 : 로지스틱회귀"
   ]
  },
  {
   "cell_type": "code",
   "execution_count": 218,
   "metadata": {
    "id": "_trwmx6iLn5M",
    "scrolled": true
   },
   "outputs": [
    {
     "name": "stdout",
     "output_type": "stream",
     "text": [
      "Optimization terminated successfully.\n",
      "         Current function value: 0.437401\n",
      "         Iterations 6\n",
      "p-value: MonthlyIncome    1.922717e-71\n",
      "dtype: float64\n"
     ]
    }
   ],
   "source": [
    "model = sm.Logit(data[target], data[feature])\n",
    "result = model.fit()\n",
    "print('p-value: {}'.format(result.pvalues))"
   ]
  },
  {
   "cell_type": "markdown",
   "metadata": {
    "id": "1QGY11sufcJ1"
   },
   "source": [
    "③ 시각화와 수치화를 통해 파악한 내용을 적어 봅시다."
   ]
  },
  {
   "cell_type": "markdown",
   "metadata": {
    "id": "Eg_fzBzqbj0U"
   },
   "source": [
    "> p-value가 0.05보다 작으므로, MonthlyIncome(월급) 과 Attrition(이직여부)는 관련이 크다. (강한 관계)"
   ]
  },
  {
   "cell_type": "markdown",
   "metadata": {},
   "source": [
    "> MonthlyIncome(월급)이 높을 수록 Attrition(이직여부)가 낮고 강한 관계가 있을 것이다. 라는 주장은 맞다."
   ]
  },
  {
   "cell_type": "markdown",
   "metadata": {
    "id": "Jd4WbbU-jqU3"
   },
   "source": [
    "## 4.관계 정리"
   ]
  },
  {
   "cell_type": "markdown",
   "metadata": {
    "id": "bKmN0rtAjto6"
   },
   "source": [
    "### 1) 강한관계의 변수"
   ]
  },
  {
   "cell_type": "markdown",
   "metadata": {
    "id": "H_12vyYtVuub"
   },
   "source": [
    ">  MaritalStatus(결혼상태), NumCompaniesWorked(입사 전 근무한 회사 수), PercentSalaryHike(전년대비 급여인상율), TotalWorkingYears(총 경력 연수), MonthlyIncome(월급) "
   ]
  },
  {
   "cell_type": "markdown",
   "metadata": {
    "id": "u8B765zNjwp5"
   },
   "source": [
    "### 2) 약한관계의 변수"
   ]
  },
  {
   "cell_type": "markdown",
   "metadata": {
    "id": "YHyp2PzLVvHq"
   },
   "source": [
    "> WorkLifeBalance(워라밸. 일-삶 균형도), OverTime(야근여부)"
   ]
  },
  {
   "cell_type": "markdown",
   "metadata": {
    "id": "eYiQ9OUijwdq"
   },
   "source": [
    "### 3) 관계 없음"
   ]
  },
  {
   "cell_type": "markdown",
   "metadata": {
    "id": "LUZVsuUaVwCj"
   },
   "source": [
    "> RelationshipSatisfaction(동료와의 관계)"
   ]
  },
  {
   "cell_type": "markdown",
   "metadata": {
    "id": "nePF6KE6jlX6"
   },
   "source": [
    "## 5.추가 분석"
   ]
  },
  {
   "cell_type": "markdown",
   "metadata": {
    "id": "B8E9F24bkYTn"
   },
   "source": [
    ">  OverTime(야근여부) feature을 좀 더 자세히 살펴 볼 필요가 있다.  \n",
    "야근을 하는 직원과 야근을 하지않는 직원, 2 그룹으로 나누어 이직여부를 더 자세히 살펴 볼 필요성이 있다."
   ]
  }
 ],
 "metadata": {
  "colab": {
   "collapsed_sections": [
    "BP8iBi7We3AI",
    "TLlMg3cNMoRg",
    "nJmYs7WgMzti",
    "0q616kYrM0VR",
    "53vrba7gM04Z",
    "opTBFVXvM1mx",
    "NFGBwz34YJG3",
    "CVRxxOC5NFf6",
    "akKd5uoTYF-5",
    "wUj9QWE4NFIh",
    "GhWOVHzuYcp9",
    "Dh2UW7_S-yoq",
    "liItz0vkNX2F",
    "TplEQHKlNYgN",
    "4satnDSlVnJW",
    "w8sOe-7_YUef",
    "v6cXSmzdNlNC",
    "CPkwhq72NlNC",
    "KF1sV61jNlND",
    "z_AAGNYHVrSn",
    "7IyXlOS1YXcx"
   ],
   "name": "과제3. 직원 이직 분석.ipynb",
   "provenance": [],
   "toc_visible": true
  },
  "kernelspec": {
   "display_name": "Python 3",
   "language": "python",
   "name": "python3"
  },
  "language_info": {
   "codemirror_mode": {
    "name": "ipython",
    "version": 3
   },
   "file_extension": ".py",
   "mimetype": "text/x-python",
   "name": "python",
   "nbconvert_exporter": "python",
   "pygments_lexer": "ipython3",
   "version": "3.8.8"
  }
 },
 "nbformat": 4,
 "nbformat_minor": 1
}
